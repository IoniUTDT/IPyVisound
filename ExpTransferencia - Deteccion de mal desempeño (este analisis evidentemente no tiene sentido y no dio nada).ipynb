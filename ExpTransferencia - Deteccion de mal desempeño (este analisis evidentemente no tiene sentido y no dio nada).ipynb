{
 "cells": [
  {
   "cell_type": "markdown",
   "metadata": {},
   "source": [
    "En este codigo cargamos los datos de los usuarios y la idea es distinguir niveles en los cuales el usuario entendio y pudo reconocer la tarea y niveles donde no. El criterio para eso va a ser, primero establecer un nivel critico que separe ambas zonas a partir de un grafico de n>i en funcion de i donde i es la performance.\n",
    "\n",
    "Una vez obtenido ese parametro, hacer cuadros de contingencia ¿? ¿Tipo fisher? para ver que cosas son estadisticas y cuales no. "
   ]
  },
  {
   "cell_type": "code",
   "execution_count": 1,
   "metadata": {
    "collapsed": true
   },
   "outputs": [],
   "source": [
    "# Importamos las cosas usuales\n",
    "\n",
    "%matplotlib inline\n",
    "%load_ext autoreload\n",
    "%autoreload 2\n",
    "from scripts.db import *\n",
    "from scripts.plots import *\n",
    "from scripts.stats import *\n",
    "from scripts.statsTransferencia import *"
   ]
  },
  {
   "cell_type": "code",
   "execution_count": 2,
   "metadata": {
    "collapsed": false
   },
   "outputs": [
    {
     "name": "stderr",
     "output_type": "stream",
     "text": [
      "/home/ionatan/Gits/IPyVisound/scripts/statsTransferencia.py:536: SettingWithCopyWarning: A value is trying to be set on a copy of a slice from a DataFrame\n",
      "  dataByAlias[cts.P_FaseActiva].replace('ExperimentoCompleto', 'TestFinal', inplace=True)\n",
      "/home/ionatan/Gits/IPyVisound/scripts/statsTransferencia.py:508: SettingWithCopyWarning: A value is trying to be set on a copy of a slice from a DataFrame\n",
      "  dataByAlias[cts.P_OrientacionEntrenamiento].replace('A30', 'P30', inplace=True)\n",
      "/home/ionatan/Gits/IPyVisound/scripts/statsTransferencia.py:510: SettingWithCopyWarning: A value is trying to be set on a copy of a slice from a DataFrame\n",
      "  dataByAlias[cts.P_OrientacionEntrenamiento].replace('P30', 'CONTROL', inplace=True)\n"
     ]
    }
   ],
   "source": [
    "# Cargamos los datos:\n",
    "\n",
    "import pandas as pd\n",
    "\n",
    "resumen = dataNumerica()\n",
    "data = pd.DataFrame.from_dict(resumen, orient='index')\n",
    "\n",
    "#Trasnformamos los valores que interesan en columnas (Por ahora voy a hacer todo en angulos)\n",
    "dataTest = pd.DataFrame()\n",
    "for i, col in enumerate([\"P30\", \"P60\", \"P120\",\"P150\",\"A30\",\"A60\",\"A120\",\"A150\"]):\n",
    "    dataTest[\"I\"+col] = data['TestInicialAngulos'].map(lambda x: x[i])\n",
    "for i, col in enumerate([\"P30\", \"P60\", \"P120\",\"P150\",\"A30\",\"A60\",\"A120\",\"A150\"]):\n",
    "    dataTest[\"F\"+col] = data['TestFinalAngulos'].map(lambda x: x[i]) \n",
    "    "
   ]
  },
  {
   "cell_type": "code",
   "execution_count": 10,
   "metadata": {
    "collapsed": false
   },
   "outputs": [
    {
     "data": {
      "image/png": "[encoded data removed]",
      "text/plain": [
       "<matplotlib.figure.Figure at 0x7f7f7d40ff98>"
      ]
     },
     "metadata": {},
     "output_type": "display_data"
    },
    {
     "data": {
      "text/plain": [
       "[<matplotlib.lines.Line2D at 0x7f7f7d7bee10>]"
      ]
     },
     "execution_count": 10,
     "metadata": {},
     "output_type": "execute_result"
    },
    {
     "data": {
      "image/png": "[encoded data removed]",
      "text/plain": [
       "<matplotlib.figure.Figure at 0x7f7f7cd78f60>"
      ]
     },
     "metadata": {},
     "output_type": "display_data"
    }
   ],
   "source": [
    "# Transformamos los datosa enuna larga serie\n",
    "import matplotlib.pyplot as plt\n",
    "\n",
    "datos = []\n",
    "columnasIP = ['IP30', 'IP60', 'IP120', 'IP150']\n",
    "columnasIA = ['IA30', 'IA60', 'IA120', 'IA150']\n",
    "columnasFP = ['FP30', 'FP60', 'FP120', 'FP150']\n",
    "columnasFA = ['FP30', 'FA60', 'FA120', 'FA150']\n",
    "\n",
    "conjuntos = [columnasIP, columnasFP, columnasIA, columnasFA]\n",
    "\n",
    "\n",
    "for columna in columnasIA:\n",
    "    datos = datos + [value for value in dataTest[columna]]\n",
    "    \n",
    "acumulados = []\n",
    "for i in range(int(max(datos)+1)):\n",
    "    acumulados = acumulados + [sum(1 if x<=i else 0 for x in datos)]\n",
    "\n",
    "plt.hist(datos)\n",
    "plt.show()    \n",
    "plt.plot(range(len(datos)), sorted(datos))"
   ]
  },
  {
   "cell_type": "code",
   "execution_count": 4,
   "metadata": {
    "collapsed": false
   },
   "outputs": [
    {
     "data": {
      "text/plain": [
       "[57.499999999999993,\n",
       " 54.500000000000007,\n",
       " 30.0,\n",
       " 28.000000000000004,\n",
       " 30.0,\n",
       " 64.0,\n",
       " 19.5,\n",
       " 32.0,\n",
       " 31.5,\n",
       " 43.5,\n",
       " 17.0,\n",
       " 19.5,\n",
       " 18.0,\n",
       " 10.5,\n",
       " 8.5,\n",
       " 27.0,\n",
       " 10.0,\n",
       " 13.0,\n",
       " 25.5,\n",
       " 11.0,\n",
       " 34.0,\n",
       " 70.0,\n",
       " 34.5,\n",
       " 28.499999999999996,\n",
       " 16.5,\n",
       " 30.0,\n",
       " 93.0,\n",
       " 14.000000000000002,\n",
       " 22.0,\n",
       " 15.0,\n",
       " 39.5,\n",
       " 37.5,\n",
       " 26.0,\n",
       " 34.5,\n",
       " 34.5,\n",
       " 68.0,\n",
       " 80.0,\n",
       " 40.0,\n",
       " 63.0,\n",
       " 94.0,\n",
       " 27.599999999999998,\n",
       " 24.800000000000001,\n",
       " 13.600000000000001,\n",
       " 29.199999999999999,\n",
       " 11.200000000000001,\n",
       " 20.399999999999999,\n",
       " 27.599999999999998,\n",
       " 29.600000000000001,\n",
       " 27.599999999999998,\n",
       " 34.799999999999997,\n",
       " 9.2000000000000011,\n",
       " 9.5999999999999996,\n",
       " 10.0,\n",
       " 5.2000000000000002,\n",
       " 12.0,\n",
       " 19.199999999999999,\n",
       " 10.4,\n",
       " 11.6,\n",
       " 18.0,\n",
       " 27.599999999999998,\n",
       " 12.0,\n",
       " 15.199999999999999,\n",
       " 16.0,\n",
       " 8.4000000000000004,\n",
       " 6.4000000000000004,\n",
       " 33.199999999999996,\n",
       " 13.200000000000001,\n",
       " 12.800000000000001,\n",
       " 50.399999999999999,\n",
       " 4.0,\n",
       " 8.8000000000000007,\n",
       " 36.399999999999999,\n",
       " 31.200000000000003,\n",
       " 49.600000000000001,\n",
       " 14.0,\n",
       " 16.800000000000001,\n",
       " 26.800000000000001,\n",
       " 30.800000000000001,\n",
       " 68.400000000000006,\n",
       " 10.4,\n",
       " 79.599999999999994,\n",
       " 78.0,\n",
       " 70.799999999999997,\n",
       " 79.599999999999994,\n",
       " 77.200000000000003,\n",
       " 63.200000000000003,\n",
       " 77.599999999999994,\n",
       " 67.599999999999994,\n",
       " 61.600000000000001,\n",
       " 79.599999999999994,\n",
       " 78.400000000000006,\n",
       " 76.0,\n",
       " 77.200000000000003,\n",
       " 68.799999999999997,\n",
       " 56.799999999999997,\n",
       " 78.400000000000006,\n",
       " 79.599999999999994,\n",
       " 47.199999999999996,\n",
       " 61.600000000000001,\n",
       " 79.599999999999994,\n",
       " 79.599999999999994,\n",
       " 59.600000000000001,\n",
       " 48.399999999999999,\n",
       " 61.600000000000001,\n",
       " 38.0,\n",
       " 79.200000000000003,\n",
       " 74.400000000000006,\n",
       " 79.599999999999994,\n",
       " 20.399999999999999,\n",
       " 79.599999999999994,\n",
       " 79.599999999999994,\n",
       " 22.400000000000002,\n",
       " 21.200000000000003,\n",
       " 42.0,\n",
       " 55.599999999999994,\n",
       " 79.599999999999994,\n",
       " 62.0,\n",
       " 66.0,\n",
       " 74.800000000000011,\n",
       " 67.599999999999994,\n",
       " 27.599999999999998,\n",
       " 24.800000000000001,\n",
       " 13.600000000000001,\n",
       " 29.199999999999999,\n",
       " 11.200000000000001,\n",
       " 20.399999999999999,\n",
       " 27.599999999999998,\n",
       " 29.600000000000001,\n",
       " 27.599999999999998,\n",
       " 34.799999999999997,\n",
       " 16.800000000000001,\n",
       " 26.800000000000001,\n",
       " 38.399999999999999,\n",
       " 54.800000000000004,\n",
       " 31.600000000000001,\n",
       " 44.400000000000006,\n",
       " 54.0,\n",
       " 14.0,\n",
       " 70.400000000000006,\n",
       " 79.599999999999994,\n",
       " 77.599999999999994,\n",
       " 12.800000000000001,\n",
       " 52.400000000000006,\n",
       " 46.399999999999999,\n",
       " 36.0,\n",
       " 79.599999999999994,\n",
       " 31.200000000000003,\n",
       " 79.200000000000003,\n",
       " 79.599999999999994,\n",
       " 79.599999999999994,\n",
       " 71.599999999999994,\n",
       " 35.200000000000003,\n",
       " 36.399999999999999,\n",
       " 36.0,\n",
       " 25.199999999999999,\n",
       " 79.599999999999994,\n",
       " 18.0,\n",
       " 67.599999999999994,\n",
       " 76.799999999999997,\n",
       " 74.800000000000011]"
      ]
     },
     "execution_count": 4,
     "metadata": {},
     "output_type": "execute_result"
    }
   ],
   "source": [
    "datos"
   ]
  }
 ],
 "metadata": {
  "kernelspec": {
   "display_name": "Python 3",
   "language": "python",
   "name": "python3"
  },
  "language_info": {
   "codemirror_mode": {
    "name": "ipython",
    "version": 3
   },
   "file_extension": ".py",
   "mimetype": "text/x-python",
   "name": "python",
   "nbconvert_exporter": "python",
   "pygments_lexer": "ipython3",
   "version": "3.4.3"
  }
 },
 "nbformat": 4,
 "nbformat_minor": 0
}
