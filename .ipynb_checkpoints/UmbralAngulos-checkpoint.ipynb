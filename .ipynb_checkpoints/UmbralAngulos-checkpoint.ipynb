{
 "cells": [
  {
   "cell_type": "code",
   "execution_count": 1,
   "metadata": {
    "collapsed": false
   },
   "outputs": [],
   "source": [
    "%matplotlib inline\n",
    "%load_ext autoreload\n",
    "%autoreload 2\n",
    "from IPython.display import display"
   ]
  },
  {
   "cell_type": "code",
   "execution_count": 3,
   "metadata": {
    "collapsed": false,
    "scrolled": true
   },
   "outputs": [],
   "source": [
    "from scripts.extract import *\n",
    "from scripts.varios import *\n",
    "from scripts.umbralangulos import *\n",
    "#downloadFile()\n",
    "#join()\n",
    "#touchs, sounds = loadTouchs()\n",
    "levels = loadLevels()\n",
    "levelsdf = levelsToDF(levels)\n",
    "# plotConvergenciaAngulos(levels,completos=True)\n",
    "# makeTimeline (touchs,sounds)\n",
    "\n"
   ]
  },
  {
   "cell_type": "code",
   "execution_count": 4,
   "metadata": {
    "collapsed": false,
    "scrolled": false
   },
   "outputs": [
    {
     "ename": "NameError",
     "evalue": "name 'leveldf' is not defined",
     "output_type": "error",
     "traceback": [
      "\u001b[1;31m---------------------------------------------------------------------------\u001b[0m",
      "\u001b[1;31mNameError\u001b[0m                                 Traceback (most recent call last)",
      "\u001b[1;32m<ipython-input-4-b8e3c02f21ca>\u001b[0m in \u001b[0;36m<module>\u001b[1;34m()\u001b[0m\n\u001b[0;32m      1\u001b[0m \u001b[1;31m#plotConvergenciaXCuadrantes(levelsdf)\u001b[0m\u001b[1;33m\u001b[0m\u001b[1;33m\u001b[0m\u001b[0m\n\u001b[0;32m      2\u001b[0m \u001b[1;31m#plotConvergenciaAngulos(levels,completos=True)\u001b[0m\u001b[1;33m\u001b[0m\u001b[1;33m\u001b[0m\u001b[0m\n\u001b[1;32m----> 3\u001b[1;33m \u001b[0mplotConvergenciaXReferencia\u001b[0m\u001b[1;33m(\u001b[0m\u001b[0mleveldf\u001b[0m\u001b[1;33m)\u001b[0m\u001b[1;33m\u001b[0m\u001b[0m\n\u001b[0m",
      "\u001b[1;31mNameError\u001b[0m: name 'leveldf' is not defined"
     ]
    }
   ],
   "source": [
    "#plotConvergenciaXCuadrantes(levelsdf)\n",
    "#plotConvergenciaAngulos(levels,completos=True)\n",
    "plotConvergenciaXReferencia(levelsdf)"
   ]
  },
  {
   "cell_type": "code",
   "execution_count": 29,
   "metadata": {
    "collapsed": false,
    "scrolled": true
   },
   "outputs": [
    {
     "data": {
      "text/plain": [
       "array([ 1.,  2.,  3.,  4.])"
      ]
     },
     "metadata": {},
     "output_type": "display_data"
    },
    {
     "data": {
      "text/plain": [
       "Index(['Alias', 'acertado', 'angulo', 'anguloDeReferencia', 'anguloDeReferencia_C', 'anguloReferido', 'appVersion', 'codeVersion', 'convergenciaAlcanzada', 'cuadranteNumero', 'idResource', 'idTrial', 'indiceEnHistorial', 'levelCompleted', 'levelInstance', 'levelTitle', 'levelVersion', 'nivel', 'nombreDelCuadrante', 'resourcesVersion', 'sessionInstance', 'ultimaSD', 'ultimoMEANAngulo', 'ultimoMEANNivel', 'userID'], dtype='object')"
      ]
     },
     "metadata": {},
     "output_type": "display_data"
    }
   ],
   "source": [
    "display (levelsdf['cuadranteNumero'].unique())\n",
    "display (levelsdf.columns)"
   ]
  }
 ],
 "metadata": {
  "kernelspec": {
   "display_name": "Python 3",
   "language": "python",
   "name": "python3"
  },
  "language_info": {
   "codemirror_mode": {
    "name": "ipython",
    "version": 3
   },
   "file_extension": ".py",
   "mimetype": "text/x-python",
   "name": "python",
   "nbconvert_exporter": "python",
   "pygments_lexer": "ipython3",
   "version": "3.4.3"
  }
 },
 "nbformat": 4,
 "nbformat_minor": 0
}
