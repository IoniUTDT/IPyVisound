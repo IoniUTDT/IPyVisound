{
 "cells": [
  {
   "cell_type": "markdown",
   "metadata": {},
   "source": [
    "En este codigo voy a buscar analizar los datos del test inicial. Basicamente ver si hay orientaciones mas faciles o mas dificiles que otras. "
   ]
  },
  {
   "cell_type": "code",
   "execution_count": 5,
   "metadata": {
    "collapsed": false
   },
   "outputs": [
    {
     "name": "stderr",
     "output_type": "stream",
     "text": [
      "/home/ionatan/Gits/IPyVisound/scripts/statsTransferencia.py:536: SettingWithCopyWarning: A value is trying to be set on a copy of a slice from a DataFrame\n",
      "  dataByAlias[cts.P_FaseActiva].replace('ExperimentoCompleto', 'TestFinal', inplace=True)\n",
      "/home/ionatan/Gits/IPyVisound/scripts/statsTransferencia.py:508: SettingWithCopyWarning: A value is trying to be set on a copy of a slice from a DataFrame\n",
      "  dataByAlias[cts.P_OrientacionEntrenamiento].replace('A30', 'P30', inplace=True)\n"
     ]
    },
    {
     "name": "stdout",
     "output_type": "stream",
     "text": [
      "The autoreload extension is already loaded. To reload it, use:\n",
      "  %reload_ext autoreload\n"
     ]
    },
    {
     "name": "stderr",
     "output_type": "stream",
     "text": [
      "/home/ionatan/Gits/IPyVisound/scripts/statsTransferencia.py:510: SettingWithCopyWarning: A value is trying to be set on a copy of a slice from a DataFrame\n",
      "  dataByAlias[cts.P_OrientacionEntrenamiento].replace('P30', 'CONTROL', inplace=True)\n"
     ]
    }
   ],
   "source": [
    "%matplotlib inline\n",
    "%load_ext autoreload\n",
    "%autoreload 2\n",
    "from scripts.db import *\n",
    "from scripts.plots import *\n",
    "from scripts.stats import *\n",
    "from scripts.statsTransferencia import *\n",
    "import numpy as np\n",
    "import statsmodels.api as sm\n",
    "import statsmodels.formula.api as smf\n",
    "\n",
    "import pandas as pd\n",
    "\n",
    "resumen = dataNumerica()\n",
    "data = pd.DataFrame.from_dict(resumen, orient='index')\n",
    "\n",
    "#Trasnformamos los valores que interesan en columnas (Por ahora voy a hacer todo en angulos)\n",
    "dataTest = pd.DataFrame()\n",
    "dataTestI = pd.DataFrame()\n",
    "dataTestF = pd.DataFrame()\n",
    "for i, col in enumerate([\"P30\", \"P60\", \"P120\",\"P150\",\"A30\",\"A60\",\"A120\",\"A150\"]):\n",
    "    dataTestI[\"I\"+col] = data['TestInicialAngulos'].map(lambda x: x[i])\n",
    "    dataTest[\"I\"+col] = data['TestInicialAngulos'].map(lambda x: x[i])\n",
    "for i, col in enumerate([\"P30\", \"P60\", \"P120\",\"P150\",\"A30\",\"A60\",\"A120\",\"A150\"]):\n",
    "    dataTestF[\"F\"+col] = data['TestFinalAngulos'].map(lambda x: x[i])\n",
    "    dataTest[\"F\"+col] = data['TestFinalAngulos'].map(lambda x: x[i]) "
   ]
  },
  {
   "cell_type": "code",
   "execution_count": 11,
   "metadata": {
    "collapsed": false
   },
   "outputs": [
    {
     "data": {
      "text/html": [
       "<div style=\"max-height:1000px;max-width:1500px;overflow:auto;\">\n",
       "<table border=\"1\" class=\"dataframe\">\n",
       "  <thead>\n",
       "    <tr style=\"text-align: right;\">\n",
       "      <th></th>\n",
       "      <th>level_0</th>\n",
       "      <th>level_1</th>\n",
       "      <th>0</th>\n",
       "    </tr>\n",
       "  </thead>\n",
       "  <tbody>\n",
       "    <tr>\n",
       "      <th>0</th>\n",
       "      <td> Sujeto01</td>\n",
       "      <td>  IP30</td>\n",
       "      <td> 57.5</td>\n",
       "    </tr>\n",
       "    <tr>\n",
       "      <th>1</th>\n",
       "      <td> Sujeto01</td>\n",
       "      <td>  IP60</td>\n",
       "      <td> 17.0</td>\n",
       "    </tr>\n",
       "    <tr>\n",
       "      <th>2</th>\n",
       "      <td> Sujeto01</td>\n",
       "      <td> IP120</td>\n",
       "      <td> 34.0</td>\n",
       "    </tr>\n",
       "    <tr>\n",
       "      <th>3</th>\n",
       "      <td> Sujeto01</td>\n",
       "      <td> IP150</td>\n",
       "      <td> 39.5</td>\n",
       "    </tr>\n",
       "    <tr>\n",
       "      <th>4</th>\n",
       "      <td> Sujeto02</td>\n",
       "      <td>  IP30</td>\n",
       "      <td> 54.5</td>\n",
       "    </tr>\n",
       "  </tbody>\n",
       "</table>\n",
       "<p>5 rows × 3 columns</p>\n",
       "</div>"
      ],
      "text/plain": [
       "    level_0 level_1     0\n",
       "0  Sujeto01    IP30  57.5\n",
       "1  Sujeto01    IP60  17.0\n",
       "2  Sujeto01   IP120  34.0\n",
       "3  Sujeto01   IP150  39.5\n",
       "4  Sujeto02    IP30  54.5\n",
       "\n",
       "[5 rows x 3 columns]"
      ]
     },
     "execution_count": 11,
     "metadata": {},
     "output_type": "execute_result"
    }
   ],
   "source": [
    "pepe = dataTestI[['IP30', 'IP60', 'IP120', 'IP150']].stack().reset_index()\n",
    "pepe.head()"
   ]
  },
  {
   "cell_type": "code",
   "execution_count": 12,
   "metadata": {
    "collapsed": false
   },
   "outputs": [
    {
     "ename": "SyntaxError",
     "evalue": "invalid syntax (<ipython-input-12-8a3f9a9fb8f6>, line 4)",
     "output_type": "error",
     "traceback": [
      "\u001b[1;36m  File \u001b[1;32m\"<ipython-input-12-8a3f9a9fb8f6>\"\u001b[1;36m, line \u001b[1;32m4\u001b[0m\n\u001b[1;33m    print results.summary()\u001b[0m\n\u001b[1;37m                ^\u001b[0m\n\u001b[1;31mSyntaxError\u001b[0m\u001b[1;31m:\u001b[0m invalid syntax\n"
     ]
    }
   ],
   "source": [
    "results = smf.ols('0 ~ level_1', data=pepe).fit()\n",
    "\n",
    "# Inspect the results\n",
    "print(results.summary())"
   ]
  }
 ],
 "metadata": {
  "kernelspec": {
   "display_name": "Python 3",
   "language": "python",
   "name": "python3"
  },
  "language_info": {
   "codemirror_mode": {
    "name": "ipython",
    "version": 3
   },
   "file_extension": ".py",
   "mimetype": "text/x-python",
   "name": "python",
   "nbconvert_exporter": "python",
   "pygments_lexer": "ipython3",
   "version": "3.4.3"
  }
 },
 "nbformat": 4,
 "nbformat_minor": 0
}
