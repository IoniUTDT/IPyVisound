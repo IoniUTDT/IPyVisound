{
 "cells": [
  {
   "cell_type": "code",
   "execution_count": 1,
   "metadata": {
    "collapsed": false
   },
   "outputs": [
    {
     "name": "stderr",
     "output_type": "stream",
     "text": [
      "/home/ionatan/Gits/IPyVisound/scripts/statsTransferencia.py:536: SettingWithCopyWarning: A value is trying to be set on a copy of a slice from a DataFrame\n",
      "  dataByAlias[cts.P_FaseActiva].replace('ExperimentoCompleto', 'TestFinal', inplace=True)\n",
      "/home/ionatan/Gits/IPyVisound/scripts/statsTransferencia.py:508: SettingWithCopyWarning: A value is trying to be set on a copy of a slice from a DataFrame\n",
      "  dataByAlias[cts.P_OrientacionEntrenamiento].replace('A30', 'P30', inplace=True)\n",
      "/home/ionatan/Gits/IPyVisound/scripts/statsTransferencia.py:510: SettingWithCopyWarning: A value is trying to be set on a copy of a slice from a DataFrame\n",
      "  dataByAlias[cts.P_OrientacionEntrenamiento].replace('P30', 'CONTROL', inplace=True)\n"
     ]
    }
   ],
   "source": [
    "# Cargamos los datos\n",
    "\n",
    "%matplotlib inline\n",
    "%load_ext autoreload\n",
    "%autoreload 2\n",
    "from scripts.db import *\n",
    "from scripts.plots import *\n",
    "import scipy.stats as stats\n",
    "from scripts.statsTransferencia import *\n",
    "import numpy as np\n",
    "import statsmodels.api as sm\n",
    "import statsmodels.formula.api as smf\n",
    "import pandas as pd\n",
    "\n",
    "resumen = dataNumerica()\n",
    "data = pd.DataFrame.from_dict(resumen, orient='index')\n",
    "\n",
    "#Trasnformamos los valores que interesan en columnas (Por ahora voy a hacer todo en angulos)\n",
    "dataTest = pd.DataFrame()\n",
    "dataTestI = pd.DataFrame()\n",
    "dataTestF = pd.DataFrame()\n",
    "for i, col in enumerate([\"P30\", \"P60\", \"P120\",\"P150\",\"A30\",\"A60\",\"A120\",\"A150\"]):\n",
    "    dataTestI[\"I\"+col] = data['TestInicialAngulos'].map(lambda x: x[i])\n",
    "    dataTest[\"I\"+col] = data['TestInicialAngulos'].map(lambda x: x[i])\n",
    "for i, col in enumerate([\"P30\", \"P60\", \"P120\",\"P150\",\"A30\",\"A60\",\"A120\",\"A150\"]):\n",
    "    dataTestF[\"F\"+col] = data['TestFinalAngulos'].map(lambda x: x[i])\n",
    "    dataTest[\"F\"+col] = data['TestFinalAngulos'].map(lambda x: x[i]) "
   ]
  },
  {
   "cell_type": "code",
   "execution_count": 13,
   "metadata": {
    "collapsed": false
   },
   "outputs": [
    {
     "data": {
      "text/plain": [
       "(array(-1.2698907733227507), 0.21945648352104033)"
      ]
     },
     "execution_count": 13,
     "metadata": {},
     "output_type": "execute_result"
    }
   ],
   "source": [
    "# Chequeamos que para angulos antes y despues de hacer el control cambia.\n",
    "angulosInicial = dataTest[['IA30','IA60','IA120','IA150']].iloc[5:10].stack().reset_index()[0]\n",
    "angulosFinal = dataTest[['FA30','FA60','FA120','FA150']].iloc[5:10].stack().reset_index()[0]\n",
    "stats.ttest_rel(angulosFinal,angulosInicial)"
   ]
  },
  {
   "cell_type": "code",
   "execution_count": 8,
   "metadata": {
    "collapsed": false
   },
   "outputs": [
    {
     "data": {
      "text/plain": [
       "0     79.6\n",
       "1     78.4\n",
       "2     79.6\n",
       "3     79.6\n",
       "4     78.0\n",
       "5     76.0\n",
       "6     59.6\n",
       "7     22.4\n",
       "8     70.8\n",
       "9     77.2\n",
       "10    48.4\n",
       "11    21.2\n",
       "12    79.6\n",
       "13    68.8\n",
       "14    61.6\n",
       "15    42.0\n",
       "16    77.2\n",
       "17    56.8\n",
       "18    38.0\n",
       "19    55.6\n",
       "20    63.2\n",
       "21    78.4\n",
       "22    79.2\n",
       "23    79.6\n",
       "24    77.6\n",
       "25    79.6\n",
       "26    74.4\n",
       "27    62.0\n",
       "28    67.6\n",
       "29    47.2\n",
       "30    79.6\n",
       "31    66.0\n",
       "32    61.6\n",
       "33    61.6\n",
       "34    20.4\n",
       "35    74.8\n",
       "36    79.6\n",
       "37    79.6\n",
       "38    79.6\n",
       "39    67.6\n",
       "Name: 0, dtype: float64"
      ]
     },
     "execution_count": 8,
     "metadata": {},
     "output_type": "execute_result"
    }
   ],
   "source": [
    "angulosInicial"
   ]
  }
 ],
 "metadata": {
  "kernelspec": {
   "display_name": "Python 3",
   "language": "python",
   "name": "python3"
  },
  "language_info": {
   "codemirror_mode": {
    "name": "ipython",
    "version": 3
   },
   "file_extension": ".py",
   "mimetype": "text/x-python",
   "name": "python",
   "nbconvert_exporter": "python",
   "pygments_lexer": "ipython3",
   "version": "3.4.3"
  }
 },
 "nbformat": 4,
 "nbformat_minor": 0
}
