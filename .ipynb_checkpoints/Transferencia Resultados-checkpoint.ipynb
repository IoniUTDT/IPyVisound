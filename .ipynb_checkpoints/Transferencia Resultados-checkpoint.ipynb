{
 "cells": [
  {
   "cell_type": "code",
   "execution_count": 1,
   "metadata": {
    "collapsed": false
   },
   "outputs": [],
   "source": [
    "%matplotlib inline\n",
    "%load_ext autoreload\n",
    "%autoreload 2\n",
    "#from IPython.display import display\n",
    "from scripts.db import *\n",
    "from scripts.plots import *\n",
    "from scripts.stats import *\n"
   ]
  },
  {
   "cell_type": "code",
   "execution_count": null,
   "metadata": {
    "collapsed": false
   },
   "outputs": [],
   "source": [
    "downloadFile()\n",
    "join ()"
   ]
  },
  {
   "cell_type": "code",
   "execution_count": null,
   "metadata": {
    "collapsed": false,
    "scrolled": true
   },
   "outputs": [],
   "source": [
    "plotByUser(Alias = [ExpT_Magadalena], onlyOneUser=, number=-2, join=True, filtroCompletadoActivo=False)"
   ]
  },
  {
   "cell_type": "code",
   "execution_count": null,
   "metadata": {
    "collapsed": true
   },
   "outputs": [],
   "source": []
  },
  {
   "cell_type": "code",
   "execution_count": 27,
   "metadata": {
    "collapsed": false
   },
   "outputs": [
    {
     "data": {
      "text/plain": [
       "[{'alias': 'marco1?', 'id': 1472655943097, 'ignore': False},\n",
       " {'alias': 'Caro_Creo_Que_no', 'id': 1472735163595, 'ignore': False},\n",
       " {'alias': 'Magdalena_M', 'id': 1473080810935, 'ignore': False},\n",
       " {'alias': 'Ivan_Creo', 'id': 1473085180866, 'ignore': False},\n",
       " {'alias': 'MarcoVersionNueva', 'id': 1473088663799, 'ignore': False},\n",
       " {'alias': 'Enzo_Transferencia_UTDT', 'id': 1473271930369, 'ignore': False}]"
      ]
     },
     "execution_count": 27,
     "metadata": {},
     "output_type": "execute_result"
    }
   ],
   "source": [
    "listOfUsersClean()"
   ]
  },
  {
   "cell_type": "code",
   "execution_count": 28,
   "metadata": {
    "collapsed": false
   },
   "outputs": [
    {
     "data": {
      "text/plain": [
       "'Usuario creado el 2016-08-31 12:05:43.096999 Alias actual: marco1?'"
      ]
     },
     "metadata": {},
     "output_type": "display_data"
    },
    {
     "name": "stdout",
     "output_type": "stream",
     "text": [
      "Ingrese un nuevo alias o enter para continuar:ExpT_Marco\n",
      "Presiones 'si' para descartar este usuario del procesamiento de datos\n"
     ]
    },
    {
     "data": {
      "text/plain": [
       "'Usuario creado el 2016-09-01 10:06:03.595000 Alias actual: Caro_Creo_Que_no'"
      ]
     },
     "metadata": {},
     "output_type": "display_data"
    },
    {
     "name": "stdout",
     "output_type": "stream",
     "text": [
      "Ingrese un nuevo alias o enter para continuar:ExpT_Carolina\n",
      "Presiones 'si' para descartar este usuario del procesamiento de datos\n"
     ]
    },
    {
     "data": {
      "text/plain": [
       "'Usuario creado el 2016-09-05 10:06:50.934999 Alias actual: Magdalena_M'"
      ]
     },
     "metadata": {},
     "output_type": "display_data"
    },
    {
     "name": "stdout",
     "output_type": "stream",
     "text": [
      "Ingrese un nuevo alias o enter para continuar:ExpT_Magdalena\n",
      "Presiones 'si' para descartar este usuario del procesamiento de datos\n"
     ]
    },
    {
     "data": {
      "text/plain": [
       "'Usuario creado el 2016-09-05 11:19:40.865999 Alias actual: Ivan_Creo'"
      ]
     },
     "metadata": {},
     "output_type": "display_data"
    },
    {
     "name": "stdout",
     "output_type": "stream",
     "text": [
      "Ingrese un nuevo alias o enter para continuar:ExpT_Ivan\n",
      "Presiones 'si' para descartar este usuario del procesamiento de datos\n"
     ]
    },
    {
     "data": {
      "text/plain": [
       "'Usuario creado el 2016-09-05 12:17:43.799000 Alias actual: MarcoVersionNueva'"
      ]
     },
     "metadata": {},
     "output_type": "display_data"
    },
    {
     "name": "stdout",
     "output_type": "stream",
     "text": [
      "Ingrese un nuevo alias o enter para continuar:ExpT_Marco\n",
      "Presiones 'si' para descartar este usuario del procesamiento de datos\n"
     ]
    },
    {
     "data": {
      "text/plain": [
       "'Usuario creado el 2016-09-07 15:12:10.368999 Alias actual: Enzo_Transferencia_UTDT'"
      ]
     },
     "metadata": {},
     "output_type": "display_data"
    },
    {
     "name": "stdout",
     "output_type": "stream",
     "text": [
      "Ingrese un nuevo alias o enter para continuar:ExpT_Enzo\n",
      "Presiones 'si' para descartar este usuario del procesamiento de datos\n"
     ]
    }
   ],
   "source": [
    "updateListOfUsers(notIgnored=True)"
   ]
  }
 ],
 "metadata": {
  "kernelspec": {
   "display_name": "Python 3",
   "language": "python",
   "name": "python3"
  },
  "language_info": {
   "codemirror_mode": {
    "name": "ipython",
    "version": 3
   },
   "file_extension": ".py",
   "mimetype": "text/x-python",
   "name": "python",
   "nbconvert_exporter": "python",
   "pygments_lexer": "ipython3",
   "version": "3.4.3"
  }
 },
 "nbformat": 4,
 "nbformat_minor": 0
}
