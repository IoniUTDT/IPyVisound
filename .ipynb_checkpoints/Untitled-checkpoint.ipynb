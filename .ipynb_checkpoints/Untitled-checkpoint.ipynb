{
 "cells": [
  {
   "cell_type": "code",
   "execution_count": 5,
   "metadata": {
    "collapsed": false
   },
   "outputs": [],
   "source": [
    "import json\n",
    "import pandas as pd\n",
    "import numpy as np\n",
    "from IPython.display import display\n",
    "\n",
    "filename = 'db.json'\n",
    "\n",
    "with open(filename) as data_file:    \n",
    "    db = json.load(data_file)\n",
    "\n",
    "# Voy a armar dos tablas gigantes, una con toda la info de los touchs y otra con toda la info de los sounds\n",
    "\n",
    "# Primero cargo la info de la estructura json (los otuchs y sounds vienen dentro de los trials)\n",
    "sessions = pd.concat((pd.DataFrame(x) for x in db['SessionEnviables']), ignore_index=True)\n",
    "levels = pd.concat((pd.DataFrame(x) for x in db['LevelEnviables']), ignore_index=True)\n",
    "trials = pd.concat((pd.DataFrame(x) for x in db['TrialEnviables']), ignore_index=True)\n",
    "touchs = pd.concat(pd.DataFrame(x) for x in list(trials['touchLog']) if x is not np.nan)\n",
    "sounds = pd.concat(pd.DataFrame(x) for x in list(trials['soundLog']) if x is not np.nan)\n",
    "\n",
    "# Borro info innecesaria para procesar los datos\n",
    "sessions.drop(['class','idEnvio','status'],inplace=True, axis=1)\n",
    "# agregamos un alias para que el nombre de usuario sea amigable\n",
    "name_map = {user_id: 'Usr'+str(alias) for alias, user_id in enumerate(sessions['userID'].unique())}\n",
    "sessions['Alias'] = sessions['userID'].map(name_map)\n",
    "\n",
    "levels.drop(['class','exitTrialId','exitTrialId','idEnvio','levelLength','status','trialsVisited','exitTrialPosition','idUser','sortOfTrials'],inplace=True, axis=1)\n",
    "trials.drop(['class','distribucionEnPantalla','idEnvio','indexOfTrialInLevel','resourcesIdSelected','status','trialExitRecorded','trialsInLevel','userId','sessionId','soundLog','touchLog'],inplace=True, axis=1)\n",
    "touchs.drop(['levelInstance','numberOfSoundLoops','sessionInstance','soundIdSecuenceInTrial','soundInstance','soundRunning','timeLastStartSound','timeSinceTrialStarts','tipoDeTrial','trialId','timeLastStopSound'],inplace=True, axis=1)\n",
    "# Para el sonidos solo extraigo lo que necesito\n",
    "sounds = sounds[['trialInstance','soundId','soundInstance']]\n",
    "\n",
    "\n",
    "# Renombre cosas para que sea mas facil de identificar despues\n",
    "sessions.rename(columns={'id':'sessionInstance'}, inplace=True)\n",
    "levels.rename(columns={'sessionId':'sessionInstance','timeExit':'timeLevelExit','timeStarts':'timeLevelStarts'}, inplace=True)\n",
    "trials.rename(columns={'timeExitTrial':'timeTrialExit'}, inplace=True)\n",
    "touchs.rename(columns={'categorias':'categoriasTouched'}, inplace=True)\n",
    "sounds.rename(columns={'soundId':'soundSourceId'}, inplace=True)\n",
    "\n",
    "\n",
    "# Con toda la info ya en tablas bien nombradas mergeo\n",
    "\n",
    "touchs = pd.merge(touchs, trials, on='trialInstance')\n",
    "touchs = pd.merge(touchs, levels, on='levelInstance')\n",
    "touchs = pd.merge(touchs, sessions, on='sessionInstance')\n",
    "\n",
    "sounds = pd.merge(sounds, trials, on='trialInstance')\n",
    "sounds = pd.merge(sounds, levels, on='levelInstance')\n",
    "sounds = pd.merge(sounds, sessions, on='sessionInstance')\n"
   ]
  },
  {
   "cell_type": "code",
   "execution_count": 6,
   "metadata": {
    "collapsed": false
   },
   "outputs": [
    {
     "data": {
      "text/plain": [
       "Index(['categoriasTouched', 'idResourceTouched', 'isTrue', 'touchInstance',\n",
       "       'trialInstance', 'categoriasElementos', 'categoriasEstimulo',\n",
       "       'categoriasRta', 'idRtaCorrecta', 'levelInstance', 'resourcesIdSort',\n",
       "       'timeTrialExit', 'timeTrialStart', 'tipoDeTrial', 'trialCompleted',\n",
       "       'trialId', 'trialTitle', 'levelCompleted', 'levelId', 'levelTitle',\n",
       "       'sessionInstance', 'timeLevelExit', 'timeLevelStarts', 'userID',\n",
       "       'Alias'],\n",
       "      dtype='object')"
      ]
     },
     "metadata": {},
     "output_type": "display_data"
    },
    {
     "data": {
      "text/plain": [
       "Index(['trialInstance', 'soundSourceId', 'soundInstance',\n",
       "       'categoriasElementos', 'categoriasEstimulo', 'categoriasRta',\n",
       "       'idRtaCorrecta', 'levelInstance', 'resourcesIdSort', 'timeTrialExit',\n",
       "       'timeTrialStart', 'tipoDeTrial', 'trialCompleted', 'trialId',\n",
       "       'trialTitle', 'levelCompleted', 'levelId', 'levelTitle',\n",
       "       'sessionInstance', 'timeLevelExit', 'timeLevelStarts', 'userID',\n",
       "       'Alias'],\n",
       "      dtype='object')"
      ]
     },
     "metadata": {},
     "output_type": "display_data"
    }
   ],
   "source": [
    "display (touchs.columns)\n",
    "display (sounds.columns)"
   ]
  },
  {
   "cell_type": "code",
   "execution_count": 20,
   "metadata": {
    "collapsed": false
   },
   "outputs": [
    {
     "data": {
      "text/plain": [
       "array([1445291724739, 1445291726042, 1445291742556, 1445291748637,\n",
       "       1445291752548, 1445291773209, 1445291779023, 1445291796791,\n",
       "       1445291930736, 1445291936706, 1445291942339, 1445291955726,\n",
       "       1445291967564, 1445291971966, 1445291983970, 1445291995139,\n",
       "       1445291998287, 1445292001862, 1445292007068, 1445292009950,\n",
       "       1445292014809, 1445292019930, 1445292027008, 1445292033365,\n",
       "       1445292041118, 1445292045183, 1445292048972, 1445292053471,\n",
       "       1445292059067, 1445292062576, 1445292068434, 1445292080497,\n",
       "       1445292108097, 1445292111026, 1445292116460, 1445292121487,\n",
       "       1445292131837, 1445292135335, 1445292145816, 1445292149037,\n",
       "       1445292151958, 1445292156173, 1445292167127, 1445292176230,\n",
       "       1445292180012, 1445292190912, 1445292194226, 1445292198347,\n",
       "       1445292211205, 1445292215946, 1445292221166, 1445292226088,\n",
       "       1445292231126, 1445292236115, 1445292240378, 1445292320612,\n",
       "       1445292332313, 1445292337885, 1445292340888, 1445292344525,\n",
       "       1445292348126, 1445292353582, 1445292359880, 1445292363641,\n",
       "       1445292368494, 1445292865422, 1445292869686, 1445292873546,\n",
       "       1445292878221, 1445292882048, 1445292888378, 1445292903113,\n",
       "       1445292907138, 1445292915562, 1445292919294, 1445292923180,\n",
       "       1445292927683, 1445292930740, 1445292933283, 1445292935945,\n",
       "       1445292938855, 1445292943882, 1445292947477, 1445292950098,\n",
       "       1445292953441, 1445292959047, 1445292965901, 1445292971462,\n",
       "       1445292980614, 1445292992104, 1445292995602, 1445292999828,\n",
       "       1445293004635, 1445293010680, 1445293016868, 1445293019348,\n",
       "       1445293023893, 1445293030197, 1445293036734, 1445293044904,\n",
       "       1445293051820, 1445293055447, 1445293060242, 1445293063711,\n",
       "       1445293072264, 1445293075534, 1445293079276, 1445293082589,\n",
       "       1445293088158, 1445293098535, 1445293103124, 1445293106447,\n",
       "       1445293114272, 1445293123097, 1445293126433, 1445293130053,\n",
       "       1445293131934, 1445293137963, 1445293141642, 1445293149331,\n",
       "       1445293153809, 1445293156917, 1445293161929, 1445293166845,\n",
       "       1445293169693, 1445293174300, 1445293186438, 1445293191716,\n",
       "       1445293200867, 1445293205888, 1445293212375, 1445293216518,\n",
       "       1445293257211, 1445293269337, 1445293350756, 1445293354604,\n",
       "       1445293363674, 1445293367780, 1445293374409, 1445293379551,\n",
       "       1445293386943, 1445293389962, 1445293391825, 1445293395899,\n",
       "       1445293400473, 1445293404528, 1445293408311, 1445293423834,\n",
       "       1445293436791, 1445293447298, 1445293450856, 1445293456249,\n",
       "       1445293459662, 1445293464304, 1445293468182, 1445293471636,\n",
       "       1445293477506, 1445293483176, 1445293487557, 1445293491463,\n",
       "       1445293506127, 1445293528087, 1445293532300, 1445293535978,\n",
       "       1445293540670, 1445293543179, 1445293547052, 1445293553689,\n",
       "       1445256681806, 1445256698833, 1445256763048, 1445256784584,\n",
       "       1445256805597, 1445256847733, 1445256853611, 1445256857791,\n",
       "       1445256883156, 1445256889833, 1445256900331, 1445256905286,\n",
       "       1445256911095, 1445256930768, 1445256936472, 1445256940422,\n",
       "       1445256946096, 1445256950374, 1445553851006, 1445553857748,\n",
       "       1445553912244, 1445553929329, 1445553935644])"
      ]
     },
     "metadata": {},
     "output_type": "display_data"
    },
    {
     "data": {
      "text/html": [
       "<div>\n",
       "<table border=\"1\" class=\"dataframe\">\n",
       "  <thead>\n",
       "    <tr style=\"text-align: right;\">\n",
       "      <th></th>\n",
       "      <th>trialInstance</th>\n",
       "      <th>soundSourceId</th>\n",
       "      <th>soundInstance</th>\n",
       "      <th>categoriasElementos</th>\n",
       "      <th>categoriasEstimulo</th>\n",
       "      <th>categoriasRta</th>\n",
       "      <th>idRtaCorrecta</th>\n",
       "      <th>levelInstance</th>\n",
       "      <th>resourcesIdSort</th>\n",
       "      <th>timeTrialExit</th>\n",
       "      <th>...</th>\n",
       "      <th>trialId</th>\n",
       "      <th>trialTitle</th>\n",
       "      <th>levelCompleted</th>\n",
       "      <th>levelId</th>\n",
       "      <th>levelTitle</th>\n",
       "      <th>sessionInstance</th>\n",
       "      <th>timeLevelExit</th>\n",
       "      <th>timeLevelStarts</th>\n",
       "      <th>userID</th>\n",
       "      <th>Alias</th>\n",
       "    </tr>\n",
       "  </thead>\n",
       "  <tbody>\n",
       "    <tr>\n",
       "      <th>82</th>\n",
       "      <td>1445292236115</td>\n",
       "      <td>{'resourceVersion': 122, 'id': 947}</td>\n",
       "      <td>1445292236116</td>\n",
       "      <td>[Lineax2, NoParalelas, Paralelas, Texto, NoPar...</td>\n",
       "      <td>[Lineax2, NoParalelas]</td>\n",
       "      <td>[Lineax2, NoParalelas]</td>\n",
       "      <td>{'resourceVersion': 122, 'id': 947}</td>\n",
       "      <td>1445292211183</td>\n",
       "      <td>[8, 9]</td>\n",
       "      <td>1445292240366</td>\n",
       "      <td>...</td>\n",
       "      <td>61</td>\n",
       "      <td></td>\n",
       "      <td>True</td>\n",
       "      <td>3</td>\n",
       "      <td>Test</td>\n",
       "      <td>1445291927377</td>\n",
       "      <td>1445292977451</td>\n",
       "      <td>1445292211183</td>\n",
       "      <td>1445291699520</td>\n",
       "      <td>Usr0</td>\n",
       "    </tr>\n",
       "  </tbody>\n",
       "</table>\n",
       "<p>1 rows × 23 columns</p>\n",
       "</div>"
      ],
      "text/plain": [
       "    trialInstance                        soundSourceId  soundInstance  \\\n",
       "82  1445292236115  {'resourceVersion': 122, 'id': 947}  1445292236116   \n",
       "\n",
       "                                  categoriasElementos      categoriasEstimulo  \\\n",
       "82  [Lineax2, NoParalelas, Paralelas, Texto, NoPar...  [Lineax2, NoParalelas]   \n",
       "\n",
       "             categoriasRta                        idRtaCorrecta  \\\n",
       "82  [Lineax2, NoParalelas]  {'resourceVersion': 122, 'id': 947}   \n",
       "\n",
       "    levelInstance resourcesIdSort  timeTrialExit  ...    trialId trialTitle  \\\n",
       "82  1445292211183          [8, 9]  1445292240366  ...         61              \n",
       "\n",
       "   levelCompleted  levelId levelTitle sessionInstance  timeLevelExit  \\\n",
       "82           True        3       Test   1445291927377  1445292977451   \n",
       "\n",
       "   timeLevelStarts         userID  Alias  \n",
       "82   1445292211183  1445291699520   Usr0  \n",
       "\n",
       "[1 rows x 23 columns]"
      ]
     },
     "metadata": {},
     "output_type": "display_data"
    }
   ],
   "source": [
    "display (touchs['trialInstance'].unique())\n",
    "display (sounds[sounds['trialInstance']==1445292236115])"
   ]
  },
  {
   "cell_type": "code",
   "execution_count": 3,
   "metadata": {
    "collapsed": false
   },
   "outputs": [
    {
     "data": {
      "text/plain": [
       "'/home/ionatan/.ipython'"
      ]
     },
     "execution_count": 3,
     "metadata": {},
     "output_type": "execute_result"
    }
   ],
   "source": [
    "# Procesa los sounds en cada trial\n",
    "                soundsTrial = sounds[sounds['trialInstance']==trial]\n",
    "                for soundInstance in soundsTrial['soundInstance'].unique():\n",
    "                    \n",
    "                    sound = soundsTrial[soundsTrial['soundInstance']==soundInstance]\n",
    "                    sound = sound.iloc[0]\n",
    "                    \n",
    "                    # Configura el color\n",
    "                    color = 'gray'\n",
    "                    y = [5,5]\n",
    "                    # Grafica el segmento cuasivertical\n",
    "                    ax.plot([fechaLocal(soundInstance-0.01),fechaLocal(soundInstance+0.01)],[y[0]+0.5,y[0]-0.5],color=color)\n",
    "                    # Agrega el id del elemento tocado\n",
    "                    xCenter = fechaLocal(soundInstance+0.3)\n",
    "                    ax.text(xCenter, 4.5, sound['soundSourceId']['id'])\n",
    "\n"
   ]
  }
 ],
 "metadata": {
  "kernelspec": {
   "display_name": "Python 3",
   "language": "python",
   "name": "python3"
  },
  "language_info": {
   "codemirror_mode": {
    "name": "ipython",
    "version": 3
   },
   "file_extension": ".py",
   "mimetype": "text/x-python",
   "name": "python",
   "nbconvert_exporter": "python",
   "pygments_lexer": "ipython3",
   "version": "3.4.3"
  }
 },
 "nbformat": 4,
 "nbformat_minor": 0
}
