{
 "cells": [
  {
   "cell_type": "markdown",
   "metadata": {},
   "source": [
    "En este codigo voy a buscar analizar los datos del test inicial. Basicamente ver si hay orientaciones mas faciles o mas dificiles que otras. "
   ]
  },
  {
   "cell_type": "code",
   "execution_count": 5,
   "metadata": {
    "collapsed": false
   },
   "outputs": [
    {
     "name": "stderr",
     "output_type": "stream",
     "text": [
      "/home/ionatan/Gits/IPyVisound/scripts/statsTransferencia.py:536: SettingWithCopyWarning: A value is trying to be set on a copy of a slice from a DataFrame\n",
      "  dataByAlias[cts.P_FaseActiva].replace('ExperimentoCompleto', 'TestFinal', inplace=True)\n",
      "/home/ionatan/Gits/IPyVisound/scripts/statsTransferencia.py:508: SettingWithCopyWarning: A value is trying to be set on a copy of a slice from a DataFrame\n",
      "  dataByAlias[cts.P_OrientacionEntrenamiento].replace('A30', 'P30', inplace=True)\n"
     ]
    },
    {
     "name": "stdout",
     "output_type": "stream",
     "text": [
      "The autoreload extension is already loaded. To reload it, use:\n",
      "  %reload_ext autoreload\n"
     ]
    },
    {
     "name": "stderr",
     "output_type": "stream",
     "text": [
      "/home/ionatan/Gits/IPyVisound/scripts/statsTransferencia.py:510: SettingWithCopyWarning: A value is trying to be set on a copy of a slice from a DataFrame\n",
      "  dataByAlias[cts.P_OrientacionEntrenamiento].replace('P30', 'CONTROL', inplace=True)\n"
     ]
    }
   ],
   "source": [
    "%matplotlib inline\n",
    "%load_ext autoreload\n",
    "%autoreload 2\n",
    "from scripts.db import *\n",
    "from scripts.plots import *\n",
    "from scripts.stats import *\n",
    "from scripts.statsTransferencia import *\n",
    "import numpy as np\n",
    "import statsmodels.api as sm\n",
    "import statsmodels.formula.api as smf\n",
    "\n",
    "import pandas as pd\n",
    "\n",
    "resumen = dataNumerica()\n",
    "data = pd.DataFrame.from_dict(resumen, orient='index')\n",
    "\n",
    "#Trasnformamos los valores que interesan en columnas (Por ahora voy a hacer todo en angulos)\n",
    "dataTest = pd.DataFrame()\n",
    "dataTestI = pd.DataFrame()\n",
    "dataTestF = pd.DataFrame()\n",
    "for i, col in enumerate([\"P30\", \"P60\", \"P120\",\"P150\",\"A30\",\"A60\",\"A120\",\"A150\"]):\n",
    "    dataTestI[\"I\"+col] = data['TestInicialAngulos'].map(lambda x: x[i])\n",
    "    dataTest[\"I\"+col] = data['TestInicialAngulos'].map(lambda x: x[i])\n",
    "for i, col in enumerate([\"P30\", \"P60\", \"P120\",\"P150\",\"A30\",\"A60\",\"A120\",\"A150\"]):\n",
    "    dataTestF[\"F\"+col] = data['TestFinalAngulos'].map(lambda x: x[i])\n",
    "    dataTest[\"F\"+col] = data['TestFinalAngulos'].map(lambda x: x[i]) "
   ]
  },
  {
   "cell_type": "markdown",
   "metadata": {},
   "source": [
    "Hacemos anovas en los angulos y en paralelismo"
   ]
  },
  {
   "cell_type": "code",
   "execution_count": 54,
   "metadata": {
    "collapsed": false
   },
   "outputs": [
    {
     "name": "stdout",
     "output_type": "stream",
     "text": [
      "                            OLS Regression Results                            \n",
      "==============================================================================\n",
      "Dep. Variable:                    Val   R-squared:                       0.100\n",
      "Model:                            OLS   Adj. R-squared:                  0.034\n",
      "Method:                 Least Squares   F-statistic:                     1.504\n",
      "Date:                Sat, 05 Nov 2016   Prob (F-statistic):              0.240\n",
      "Time:                        16:08:20   Log-Likelihood:                -133.32\n",
      "No. Observations:                  30   AIC:                             272.6\n",
      "Df Residuals:                      27   BIC:                             276.8\n",
      "Df Model:                           2                                         \n",
      "Covariance Type:            nonrobust                                         \n",
      "================================================================================\n",
      "                   coef    std err          t      P>|t|      [95.0% Conf. Int.]\n",
      "--------------------------------------------------------------------------------\n",
      "Intercept       35.7500      6.865      5.208      0.000        21.665    49.835\n",
      "Exp[T.IP150]    15.9500      9.708      1.643      0.112        -3.969    35.869\n",
      "Exp[T.IP30]      3.3000      9.708      0.340      0.737       -16.619    23.219\n",
      "==============================================================================\n",
      "Omnibus:                        7.203   Durbin-Watson:                   1.832\n",
      "Prob(Omnibus):                  0.027   Jarque-Bera (JB):                6.004\n",
      "Skew:                           1.082   Prob(JB):                       0.0497\n",
      "Kurtosis:                       3.348   Cond. No.                         3.73\n",
      "==============================================================================\n",
      "\n",
      "Warnings:\n",
      "[1] Standard Errors assume that the covariance matrix of the errors is correctly specified.\n"
     ]
    }
   ],
   "source": [
    "# pepe['Extremo'] = 1\n",
    "# pepe.loc[(pepe['Exp'].str.contains(\"IP30\")) | (pepe['Exp']==\"IP150\"), 'Extremo'] = \"Extremo\"\n",
    "# pepe.loc[(pepe['Exp'] == \"IP60\") | (pepe['Exp']==\"IP120\"), 'Extremo'] = \"Medio\"\n",
    "# pepe.head()\n",
    "\n",
    "# paralelismo = dataTestI[['IP30', 'IP60','IP120', 'IP150']].stack().reset_index()\n",
    "# paralelismo.columns = [\"Subject\", \"Exp\", \"Val\"]\n",
    "# # Inspect the results (ANOVA)\n",
    "# results = smf.ols('Val ~ Exp', data=paralelismo).fit()\n",
    "# print(results.summary())\n",
    "\n",
    "# Regresion para ver cual cambia (post hoc?)\n",
    "#model = sm.MixedLM.from_formula(\"Val ~ Exp\", paralelismo, groups=pepe[\"Subject\"])\n",
    "#result = model.fit()\n",
    "#print(result.summary())\n",
    "\n",
    "# angulos = dataTestI[['IA30', 'IA60','IA120', 'IA150']].stack().reset_index()\n",
    "# angulos.columns = [\"Subject\", \"Exp\", \"Val\"]\n",
    "# # ANOVA\n",
    "# results = smf.ols('Val ~ Exp', data=angulos).fit()\n",
    "# print(results.summary())\n",
    "\n",
    "# paralelismo = dataTestI[['IP30', 'IP120', 'IP150']].stack().reset_index()\n",
    "# paralelismo.columns = [\"Subject\", \"Exp\", \"Val\"]\n",
    "# # Inspect the results (ANOVA)\n",
    "# results = smf.ols('Val ~ Exp', data=paralelismo).fit()\n",
    "# print(results.summary())\n"
   ]
  },
  {
   "cell_type": "code",
   "execution_count": 33,
   "metadata": {
    "collapsed": true
   },
   "outputs": [
    {
     "name": "stdout",
     "output_type": "stream",
     "text": [
      "                            OLS Regression Results                            \n",
      "==============================================================================\n",
      "Dep. Variable:                    Val   R-squared:                       0.333\n",
      "Model:                            OLS   Adj. R-squared:                  0.278\n",
      "Method:                 Least Squares   F-statistic:                     5.999\n",
      "Date:                Fri, 04 Nov 2016   Prob (F-statistic):            0.00201\n",
      "Time:                        20:12:53   Log-Likelihood:                -172.60\n",
      "No. Observations:                  40   AIC:                             353.2\n",
      "Df Residuals:                      36   BIC:                             360.0\n",
      "Df Model:                           3                                         \n",
      "Covariance Type:            nonrobust                                         \n",
      "================================================================================\n",
      "                   coef    std err          t      P>|t|      [95.0% Conf. Int.]\n",
      "--------------------------------------------------------------------------------\n",
      "Intercept       35.7500      6.034      5.924      0.000        23.512    47.988\n",
      "Exp[T.IP150]    15.9500      8.534      1.869      0.070        -1.357    33.257\n",
      "Exp[T.IP30]      3.3000      8.534      0.387      0.701       -14.007    20.607\n",
      "Exp[T.IP60]    -19.7500      8.534     -2.314      0.026       -37.057    -2.443\n",
      "==============================================================================\n",
      "Omnibus:                       12.220   Durbin-Watson:                   1.719\n",
      "Prob(Omnibus):                  0.002   Jarque-Bera (JB):               12.052\n",
      "Skew:                           1.200   Prob(JB):                      0.00242\n",
      "Kurtosis:                       4.213   Cond. No.                         4.79\n",
      "==============================================================================\n",
      "\n",
      "Warnings:\n",
      "[1] Standard Errors assume that the covariance matrix of the errors is correctly specified.\n",
      "          Mixed Linear Model Regression Results\n",
      "=========================================================\n",
      "Model:              MixedLM Dependent Variable: Val      \n",
      "No. Observations:   40      Method:             REML     \n",
      "No. Groups:         10      Scale:              343.8989 \n",
      "Min. group size:    4       Likelihood:         -161.7639\n",
      "Max. group size:    4       Converged:          Yes      \n",
      "Mean group size:    4.0                                  \n",
      "---------------------------------------------------------\n",
      "              Coef.  Std.Err.   z    P>|z|  [0.025 0.975]\n",
      "---------------------------------------------------------\n",
      "Intercept     35.750    6.034  5.925 0.000  23.923 47.577\n",
      "Exp[T.IP150]  15.950    8.293  1.923 0.054  -0.305 32.205\n",
      "Exp[T.IP30]    3.300    8.293  0.398 0.691 -12.955 19.555\n",
      "Exp[T.IP60]  -19.750    8.293 -2.381 0.017 -36.005 -3.495\n",
      "Intercept RE  20.224    3.377                            \n",
      "=========================================================\n",
      "\n"
     ]
    }
   ],
   "source": [
    "results = smf.ols('Val ~ Exp', data=pepe).fit()\n",
    "\n",
    "# Inspect the results\n",
    "print(results.summary())\n",
    "\n",
    "model = sm.MixedLM.from_formula(\"Val ~ Exp\", pepe, groups=pepe[\"Subject\"])\n",
    "\n",
    "result = model.fit()\n",
    "print(result.summary())"
   ]
  },
  {
   "cell_type": "markdown",
   "metadata": {},
   "source": [
    "Vamos a comparar todos los angulos y todos los paralelos a ver si da diferente. "
   ]
  },
  {
   "cell_type": "code",
   "execution_count": 45,
   "metadata": {
    "collapsed": false
   },
   "outputs": [
    {
     "data": {
      "text/plain": [
       "(array(-6.741516817729632), 3.1380994157497322e-09)"
      ]
     },
     "execution_count": 45,
     "metadata": {},
     "output_type": "execute_result"
    }
   ],
   "source": [
    "from scipy import stats\n",
    "\n",
    "paralelismo = dataTestI[['IP30', 'IP60','IP120', 'IP150']].stack().reset_index()\n",
    "paralelismolista = paralelismo[0].tolist()\n",
    "angulos = dataTestI[['IA30', 'IA60','IA120', 'IA150']].stack().reset_index()\n",
    "anguloslista = angulos[0].tolist()\n",
    "stats.ttest_ind(paralelismolista,anguloslista, equal_var = False)"
   ]
  },
  {
   "cell_type": "code",
   "execution_count": 48,
   "metadata": {
    "collapsed": false
   },
   "outputs": [
    {
     "data": {
      "text/plain": [
       "65.739999999999981"
      ]
     },
     "execution_count": 48,
     "metadata": {},
     "output_type": "execute_result"
    }
   ],
   "source": [
    "np.mean(paralelismolista)\n",
    "np.mean(anguloslista)"
   ]
  },
  {
   "cell_type": "markdown",
   "metadata": {},
   "source": [
    "Vamos a comparar los conjunto a ver si dan diferentes entre sujetos entrenados y no entrenados"
   ]
  },
  {
   "cell_type": "code",
   "execution_count": 80,
   "metadata": {
    "collapsed": false
   },
   "outputs": [
    {
     "name": "stdout",
     "output_type": "stream",
     "text": [
      "                            OLS Regression Results                            \n",
      "==============================================================================\n",
      "Dep. Variable:                    Val   R-squared:                       0.324\n",
      "Model:                            OLS   Adj. R-squared:                  0.176\n",
      "Method:                 Least Squares   F-statistic:                     2.194\n",
      "Date:                Sat, 05 Nov 2016   Prob (F-statistic):             0.0615\n",
      "Time:                        17:29:35   Log-Likelihood:                -162.09\n",
      "No. Observations:                  40   AIC:                             340.2\n",
      "Df Residuals:                      32   BIC:                             353.7\n",
      "Df Model:                           7                                         \n",
      "Covariance Type:            nonrobust                                         \n",
      "=================================================================================\n",
      "                    coef    std err          t      P>|t|      [95.0% Conf. Int.]\n",
      "---------------------------------------------------------------------------------\n",
      "Intercept        66.6400      6.960      9.575      0.000        52.464    80.816\n",
      "Exp[T.IA120E]    -9.2000      9.842     -0.935      0.357       -29.248    10.848\n",
      "Exp[T.IA150]      3.3600      9.842      0.341      0.735       -16.688    23.408\n",
      "Exp[T.IA150E]   -22.4800      9.842     -2.284      0.029       -42.528    -2.432\n",
      "Exp[T.IA30]       3.2800      9.842      0.333      0.741       -16.768    23.328\n",
      "Exp[T.IA30E]     10.4000      9.842      1.057      0.299        -9.648    30.448\n",
      "Exp[T.IA60]       2.6400      9.842      0.268      0.790       -17.408    22.688\n",
      "Exp[T.IA60E]      4.8000      9.842      0.488      0.629       -15.248    24.848\n",
      "==============================================================================\n",
      "Omnibus:                        9.042   Durbin-Watson:                   1.666\n",
      "Prob(Omnibus):                  0.011   Jarque-Bera (JB):                9.916\n",
      "Skew:                          -0.702   Prob(JB):                      0.00703\n",
      "Kurtosis:                       4.995   Cond. No.                         8.89\n",
      "==============================================================================\n",
      "\n",
      "Warnings:\n",
      "[1] Standard Errors assume that the covariance matrix of the errors is correctly specified.\n"
     ]
    }
   ],
   "source": [
    "# Primero hacemos un ttest entre los dos subgrupos de P60\n",
    "# P60Entrenado = dataTestI['IP30'].iloc[0:5]\n",
    "# P60Entrenado = P60Entrenado.tolist()\n",
    "# P60NoEntrenado = dataTestI['IP30'].iloc[5:10]\n",
    "# P60NoEntrenado = P60NoEntrenado.tolist()\n",
    "\n",
    "# display (P60Entrenado)\n",
    "# display (P60NoEntrenado)\n",
    "# display (dataTestI['IP30'])\n",
    "# stats.ttest_ind(P60Entrenado,P60NoEntrenado)\n",
    "\n",
    "\n",
    "# Hacemos un anova separando por entrenado y no entrenado para paralelismo\n",
    "# paralelismoE = dataTestI[['IP30', 'IP120', 'IP150']].iloc[0:5]\n",
    "# paralelismoE.columns = ['P30E','P120E','P150E']\n",
    "# paralelismoNE = dataTestI[['IP30', 'IP120', 'IP150']].iloc[5:10]\n",
    "# paralelismoNE.columns = ['P30N','P120N','P150N']\n",
    "# paralelismo = pd.concat([paralelismoE.reset_index(drop=True),paralelismoNE.reset_index(drop=True)],2)\n",
    "\n",
    "# paralelismo = paralelismo.stack().reset_index()\n",
    "# paralelismo.columns = [\"Subject\", \"Exp\", \"Val\"]\n",
    "# # Inspect the results (ANOVA)\n",
    "# results = smf.ols('Val ~ Exp', data=paralelismo).fit()\n",
    "# print(results.summary())\n",
    "\n",
    "\n",
    "\n",
    "# # Hacemos un anova separando por entrenado y no entrenado para angulos\n",
    "# angulosE = dataTestI[['IA30', 'IA60','IA120', 'IA150']].iloc[0:5]\n",
    "# angulosE.columns = ['IA30E', 'IA60E','IA120E','IA150E']\n",
    "# angulosNE = dataTestI[['IA30', 'IA60', 'IA120', 'IA150']].iloc[5:10]\n",
    "# angulos = pd.concat([angulosE.reset_index(drop=True),angulosNE.reset_index(drop=True)],2)\n",
    "\n",
    "# angulos = angulos.stack().reset_index()\n",
    "# angulos.columns = [\"Subject\", \"Exp\", \"Val\"]\n",
    "# # Inspect the results (ANOVA)\n",
    "# results = smf.ols('Val ~ Exp', data=angulos).fit()\n",
    "# print(results.summary())"
   ]
  }
 ],
 "metadata": {
  "kernelspec": {
   "display_name": "Python 3",
   "language": "python",
   "name": "python3"
  },
  "language_info": {
   "codemirror_mode": {
    "name": "ipython",
    "version": 3
   },
   "file_extension": ".py",
   "mimetype": "text/x-python",
   "name": "python",
   "nbconvert_exporter": "python",
   "pygments_lexer": "ipython3",
   "version": "3.4.3"
  }
 },
 "nbformat": 4,
 "nbformat_minor": 0
}
