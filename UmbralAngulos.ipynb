{
 "cells": [
  {
   "cell_type": "code",
   "execution_count": 3,
   "metadata": {
    "collapsed": false
   },
   "outputs": [],
   "source": [
    "%matplotlib inline\n",
    "%load_ext autoreload\n",
    "%autoreload 2\n",
    "from IPython.display import display"
   ]
  },
  {
   "cell_type": "code",
   "execution_count": 43,
   "metadata": {
    "collapsed": false
   },
   "outputs": [
    {
     "name": "stdout",
     "output_type": "stream",
     "text": [
      "Starting download, please wait\n",
      "Donload finish\n"
     ]
    },
    {
     "data": {
      "text/plain": [
       "'Datos del json cargados'"
      ]
     },
     "metadata": {},
     "output_type": "display_data"
    },
    {
     "data": {
      "text/plain": [
       "'Sessions tiene 17 entradas'"
      ]
     },
     "metadata": {},
     "output_type": "display_data"
    },
    {
     "data": {
      "text/plain": [
       "'Levels tiene 4 entradas'"
      ]
     },
     "metadata": {},
     "output_type": "display_data"
    },
    {
     "data": {
      "text/plain": [
       "'Trials tiene 156 entradas'"
      ]
     },
     "metadata": {},
     "output_type": "display_data"
    },
    {
     "name": "stderr",
     "output_type": "stream",
     "text": [
      "/home/ionatan/anaconda3/lib/python3.4/site-packages/pandas/util/decorators.py:81: FutureWarning: the 'cols' keyword is deprecated, use 'subset' instead\n",
      "  warnings.warn(msg, FutureWarning)\n"
     ]
    },
    {
     "data": {
      "text/plain": [
       "'Se agregaron 0 registros al registro de sesiones.'"
      ]
     },
     "metadata": {},
     "output_type": "display_data"
    },
    {
     "data": {
      "text/plain": [
       "'Se agregaron 1 registros al registro de levels.'"
      ]
     },
     "metadata": {},
     "output_type": "display_data"
    },
    {
     "data": {
      "text/plain": [
       "'Se agregaron 56 registros al registro de trials.'"
      ]
     },
     "metadata": {},
     "output_type": "display_data"
    },
    {
     "data": {
      "text/plain": [
       "'Se hara la estadistica del usuario: 1452030483844'"
      ]
     },
     "metadata": {},
     "output_type": "display_data"
    },
    {
     "data": {
      "text/plain": [
       "'El usuario 1452030483844 jugo 1 veces'"
      ]
     },
     "metadata": {},
     "output_type": "display_data"
    },
    {
     "data": {
      "text/plain": [
       "'En la session 2016-01-05 18:48:03.920000 el usuario 1452030483844 jugo 1 niveles'"
      ]
     },
     "metadata": {},
     "output_type": "display_data"
    },
    {
     "data": {
      "text/plain": [
       "[True, True, True, True, True, True, True, True, True, True]"
      ]
     },
     "metadata": {},
     "output_type": "display_data"
    },
    {
     "data": {
      "text/plain": [
       "[5, 25, 45, 65, 85, 89, 90, 90, 90, 90]"
      ]
     },
     "metadata": {},
     "output_type": "display_data"
    },
    {
     "data": {
      "text/plain": [
       "[5, 25, 45, 65, 85, 89, 90, 90, 90, 90]"
      ]
     },
     "metadata": {},
     "output_type": "display_data"
    },
    {
     "data": {
      "text/plain": [
       "[21, 17, 13, 9, 5, 1, 0, 0, 0, 0]"
      ]
     },
     "metadata": {},
     "output_type": "display_data"
    },
    {
     "data": {
      "text/plain": [
       "[True, True, True, True, True, True, True, True, True, True, True]"
      ]
     },
     "metadata": {},
     "output_type": "display_data"
    },
    {
     "data": {
      "text/plain": [
       "[179, 175, 155, 135, 115, 95, 91, 90, 90, 90, 90]"
      ]
     },
     "metadata": {},
     "output_type": "display_data"
    },
    {
     "data": {
      "text/plain": [
       "[179, 175, 155, 135, 115, 95, 91, 90, 90, 90, 90]"
      ]
     },
     "metadata": {},
     "output_type": "display_data"
    },
    {
     "data": {
      "text/plain": [
       "[25, 21, 17, 13, 9, 5, 1, 0, 0, 0, 0]"
      ]
     },
     "metadata": {},
     "output_type": "display_data"
    },
    {
     "data": {
      "text/plain": [
       "[True, True, True, True, False, True, True, True, True, True, True]"
      ]
     },
     "metadata": {},
     "output_type": "display_data"
    },
    {
     "data": {
      "text/plain": [
       "[181, 185, 205, 225, 245, 265, 269, 270, 270, 270, 270]"
      ]
     },
     "metadata": {},
     "output_type": "display_data"
    },
    {
     "data": {
      "text/plain": [
       "[181, 185, 205, 225, 245, 265, 269, 270, 270, 270, 270]"
      ]
     },
     "metadata": {},
     "output_type": "display_data"
    },
    {
     "data": {
      "text/plain": [
       "[25, 21, 17, 13, 9, 5, 1, 0, 0, 0, 0]"
      ]
     },
     "metadata": {},
     "output_type": "display_data"
    },
    {
     "data": {
      "text/plain": [
       "[True, True, True, True, True, False, True, True, True, True]"
      ]
     },
     "metadata": {},
     "output_type": "display_data"
    },
    {
     "data": {
      "text/plain": [
       "[355, 335, 315, 295, 275, 271, 270, 270, 270, 270]"
      ]
     },
     "metadata": {},
     "output_type": "display_data"
    },
    {
     "data": {
      "text/plain": [
       "[355, 335, 315, 295, 275, 271, 270, 270, 270, 270]"
      ]
     },
     "metadata": {},
     "output_type": "display_data"
    },
    {
     "data": {
      "text/plain": [
       "[21, 17, 13, 9, 5, 1, 0, 0, 0, 0]"
      ]
     },
     "metadata": {},
     "output_type": "display_data"
    },
    {
     "data": {
      "text/plain": [
       "'Se hara la estadistica del usuario: 1451918007922'"
      ]
     },
     "metadata": {},
     "output_type": "display_data"
    },
    {
     "data": {
      "text/plain": [
       "'El usuario 1451918007922 jugo 1 veces'"
      ]
     },
     "metadata": {},
     "output_type": "display_data"
    },
    {
     "data": {
      "text/plain": [
       "'En la session 2016-01-05 21:26:50.329999 el usuario 1451918007922 jugo 1 niveles'"
      ]
     },
     "metadata": {},
     "output_type": "display_data"
    },
    {
     "data": {
      "text/plain": [
       "[True, True, True, True, False, True, True, True, True, True, True, True]"
      ]
     },
     "metadata": {},
     "output_type": "display_data"
    },
    {
     "data": {
      "text/plain": [
       "[5, 25, 45, 65, 85, 70, 85, 88, 90, 90, 90, 90]"
      ]
     },
     "metadata": {},
     "output_type": "display_data"
    },
    {
     "data": {
      "text/plain": [
       "[5, 25, 45, 65, 85, 70, 85, 88, 90, 90, 90, 90]"
      ]
     },
     "metadata": {},
     "output_type": "display_data"
    },
    {
     "data": {
      "text/plain": [
       "[21, 17, 13, 9, 5, 8, 5, 2, 0, 0, 0, 0]"
      ]
     },
     "metadata": {},
     "output_type": "display_data"
    },
    {
     "data": {
      "text/plain": [
       "[True,\n",
       " True,\n",
       " True,\n",
       " True,\n",
       " True,\n",
       " False,\n",
       " False,\n",
       " True,\n",
       " True,\n",
       " True,\n",
       " True,\n",
       " False,\n",
       " True,\n",
       " True]"
      ]
     },
     "metadata": {},
     "output_type": "display_data"
    },
    {
     "data": {
      "text/plain": [
       "[179, 175, 155, 135, 115, 95, 110, 125, 125, 115, 105, 95, 100, 95]"
      ]
     },
     "metadata": {},
     "output_type": "display_data"
    },
    {
     "data": {
      "text/plain": [
       "[179, 175, 155, 135, 115, 95, 110, 125, 125, 115, 105, 95, 100, 95]"
      ]
     },
     "metadata": {},
     "output_type": "display_data"
    },
    {
     "data": {
      "text/plain": [
       "[25, 21, 17, 13, 9, 5, 8, 11, 11, 9, 7, 5, 6, 5]"
      ]
     },
     "metadata": {},
     "output_type": "display_data"
    },
    {
     "data": {
      "text/plain": [
       "[True, False, True, False, False, True, True]"
      ]
     },
     "metadata": {},
     "output_type": "display_data"
    },
    {
     "data": {
      "text/plain": [
       "[181, 185, 182, 185, 183, 181, 181]"
      ]
     },
     "metadata": {},
     "output_type": "display_data"
    },
    {
     "data": {
      "text/plain": [
       "[181, 185, 182, 185, 183, 181, 181]"
      ]
     },
     "metadata": {},
     "output_type": "display_data"
    },
    {
     "data": {
      "text/plain": [
       "[25, 21, 24, 21, 23, 25, 25]"
      ]
     },
     "metadata": {},
     "output_type": "display_data"
    },
    {
     "data": {
      "text/plain": [
       "[True, True, False, True, True, True, True, True, False, True, False, False]"
      ]
     },
     "metadata": {},
     "output_type": "display_data"
    },
    {
     "data": {
      "text/plain": [
       "[355, 335, 315, 330, 315, 300, 285, 274, 271, 273, 271, 272]"
      ]
     },
     "metadata": {},
     "output_type": "display_data"
    },
    {
     "data": {
      "text/plain": [
       "[355, 335, 315, 330, 315, 300, 285, 274, 271, 273, 271, 272]"
      ]
     },
     "metadata": {},
     "output_type": "display_data"
    },
    {
     "data": {
      "text/plain": [
       "[21, 17, 13, 16, 13, 10, 7, 4, 1, 3, 1, 2]"
      ]
     },
     "metadata": {},
     "output_type": "display_data"
    },
    {
     "data": {
      "text/plain": [
       "'Se hara la estadistica del usuario: 1452042623861'"
      ]
     },
     "metadata": {},
     "output_type": "display_data"
    },
    {
     "data": {
      "text/plain": [
       "'El usuario 1452042623861 jugo 1 veces'"
      ]
     },
     "metadata": {},
     "output_type": "display_data"
    },
    {
     "data": {
      "text/plain": [
       "'En la session 2016-01-05 22:10:23.986999 el usuario 1452042623861 jugo 2 niveles'"
      ]
     },
     "metadata": {},
     "output_type": "display_data"
    },
    {
     "data": {
      "text/plain": [
       "[True, True, True, True, True, False, True, True, True, False, True, True]"
      ]
     },
     "metadata": {},
     "output_type": "display_data"
    },
    {
     "data": {
      "text/plain": [
       "[5, 25, 45, 65, 85, 89, 86, 89, 90, 90, 88, 90]"
      ]
     },
     "metadata": {},
     "output_type": "display_data"
    },
    {
     "data": {
      "text/plain": [
       "[5, 25, 45, 65, 85, 89, 86, 89, 90, 90, 88, 90]"
      ]
     },
     "metadata": {},
     "output_type": "display_data"
    },
    {
     "data": {
      "text/plain": [
       "[21, 17, 13, 9, 5, 1, 4, 1, 0, 0, 2, 0]"
      ]
     },
     "metadata": {},
     "output_type": "display_data"
    },
    {
     "data": {
      "text/plain": [
       "[True,\n",
       " True,\n",
       " False,\n",
       " True,\n",
       " True,\n",
       " True,\n",
       " True,\n",
       " True,\n",
       " True,\n",
       " True,\n",
       " True,\n",
       " True,\n",
       " True,\n",
       " True]"
      ]
     },
     "metadata": {},
     "output_type": "display_data"
    },
    {
     "data": {
      "text/plain": [
       "[179, 175, 155, 170, 155, 140, 125, 110, 95, 92, 90, 90, 90, 90]"
      ]
     },
     "metadata": {},
     "output_type": "display_data"
    },
    {
     "data": {
      "text/plain": [
       "[179, 175, 155, 170, 155, 140, 125, 110, 95, 92, 90, 90, 90, 90]"
      ]
     },
     "metadata": {},
     "output_type": "display_data"
    },
    {
     "data": {
      "text/plain": [
       "[25, 21, 17, 20, 17, 14, 11, 8, 5, 2, 0, 0, 0, 0]"
      ]
     },
     "metadata": {},
     "output_type": "display_data"
    },
    {
     "data": {
      "text/plain": [
       "[True,\n",
       " False,\n",
       " True,\n",
       " True,\n",
       " True,\n",
       " True,\n",
       " True,\n",
       " True,\n",
       " True,\n",
       " True,\n",
       " True,\n",
       " True,\n",
       " True,\n",
       " True,\n",
       " True]"
      ]
     },
     "metadata": {},
     "output_type": "display_data"
    },
    {
     "data": {
      "text/plain": [
       "[181, 185, 182, 185, 200, 215, 230, 245, 260, 267, 270, 270, 270, 270, 270]"
      ]
     },
     "metadata": {},
     "output_type": "display_data"
    },
    {
     "data": {
      "text/plain": [
       "[181, 185, 182, 185, 200, 215, 230, 245, 260, 267, 270, 270, 270, 270, 270]"
      ]
     },
     "metadata": {},
     "output_type": "display_data"
    },
    {
     "data": {
      "text/plain": [
       "[25, 21, 24, 21, 18, 15, 12, 9, 6, 3, 0, 0, 0, 0, 0]"
      ]
     },
     "metadata": {},
     "output_type": "display_data"
    },
    {
     "data": {
      "text/plain": [
       "[False, False, False, True, True]"
      ]
     },
     "metadata": {},
     "output_type": "display_data"
    },
    {
     "data": {
      "text/plain": [
       "[355, 355, 355, 355, 355]"
      ]
     },
     "metadata": {},
     "output_type": "display_data"
    },
    {
     "data": {
      "text/plain": [
       "[355, 355, 355, 355, 355]"
      ]
     },
     "metadata": {},
     "output_type": "display_data"
    },
    {
     "data": {
      "text/plain": [
       "[21, 21, 21, 21, 21]"
      ]
     },
     "metadata": {},
     "output_type": "display_data"
    },
    {
     "data": {
      "text/plain": [
       "[True,\n",
       " True,\n",
       " True,\n",
       " True,\n",
       " True,\n",
       " True,\n",
       " False,\n",
       " False,\n",
       " True,\n",
       " True,\n",
       " True,\n",
       " False,\n",
       " True,\n",
       " False,\n",
       " False,\n",
       " False]"
      ]
     },
     "metadata": {},
     "output_type": "display_data"
    },
    {
     "data": {
      "text/plain": [
       "[5, 25, 45, 65, 81, 85, 89, 86, 83, 83, 86, 89, 87, 89, 88, 87]"
      ]
     },
     "metadata": {},
     "output_type": "display_data"
    },
    {
     "data": {
      "text/plain": [
       "[10, 30, 50, 70, 86, 90, 94, 91, 88, 88, 91, 94, 92, 94, 93, 92]"
      ]
     },
     "metadata": {},
     "output_type": "display_data"
    },
    {
     "data": {
      "text/plain": [
       "[25, 21, 17, 13, 9, 5, 1, 4, 7, 7, 4, 1, 3, 1, 2, 3]"
      ]
     },
     "metadata": {},
     "output_type": "display_data"
    },
    {
     "data": {
      "text/plain": [
       "[True,\n",
       " True,\n",
       " True,\n",
       " True,\n",
       " True,\n",
       " True,\n",
       " False,\n",
       " True,\n",
       " False,\n",
       " True,\n",
       " True,\n",
       " True,\n",
       " True,\n",
       " True,\n",
       " True]"
      ]
     },
     "metadata": {},
     "output_type": "display_data"
    },
    {
     "data": {
      "text/plain": [
       "[179, 175, 171, 155, 135, 115, 95, 110, 95, 105, 95, 90, 90, 90, 90]"
      ]
     },
     "metadata": {},
     "output_type": "display_data"
    },
    {
     "data": {
      "text/plain": [
       "[184, 180, 176, 160, 140, 120, 100, 115, 100, 110, 100, 95, 95, 95, 95]"
      ]
     },
     "metadata": {},
     "output_type": "display_data"
    },
    {
     "data": {
      "text/plain": [
       "[25, 21, 17, 13, 9, 5, 1, 4, 1, 3, 1, 0, 0, 0, 0]"
      ]
     },
     "metadata": {},
     "output_type": "display_data"
    },
    {
     "data": {
      "text/plain": [
       "[True,\n",
       " True,\n",
       " True,\n",
       " True,\n",
       " True,\n",
       " False,\n",
       " True,\n",
       " True,\n",
       " False,\n",
       " True,\n",
       " False,\n",
       " False,\n",
       " True]"
      ]
     },
     "metadata": {},
     "output_type": "display_data"
    },
    {
     "data": {
      "text/plain": [
       "[185, 205, 225, 245, 261, 265, 262, 265, 268, 266, 268, 267, 266]"
      ]
     },
     "metadata": {},
     "output_type": "display_data"
    },
    {
     "data": {
      "text/plain": [
       "[190, 210, 230, 250, 266, 270, 267, 270, 273, 271, 273, 272, 271]"
      ]
     },
     "metadata": {},
     "output_type": "display_data"
    },
    {
     "data": {
      "text/plain": [
       "[25, 21, 17, 13, 9, 5, 8, 5, 2, 4, 2, 3, 4]"
      ]
     },
     "metadata": {},
     "output_type": "display_data"
    },
    {
     "data": {
      "text/plain": [
       "[True, True, True, True, True, False, True, True, True, True, True, True]"
      ]
     },
     "metadata": {},
     "output_type": "display_data"
    },
    {
     "data": {
      "text/plain": [
       "[355, 352, 340, 320, 300, 280, 295, 280, 270, 270, 270, 270]"
      ]
     },
     "metadata": {},
     "output_type": "display_data"
    },
    {
     "data": {
      "text/plain": [
       "[360, 357, 345, 325, 305, 285, 300, 285, 275, 275, 275, 275]"
      ]
     },
     "metadata": {},
     "output_type": "display_data"
    },
    {
     "data": {
      "text/plain": [
       "[22, 18, 14, 10, 6, 2, 5, 2, 0, 0, 0, 0]"
      ]
     },
     "metadata": {},
     "output_type": "display_data"
    },
    {
     "data": {
      "image/png": "[encoded data removed]",
      "text/plain": [
       "<matplotlib.figure.Figure at 0x7fe84bdf9080>"
      ]
     },
     "metadata": {},
     "output_type": "display_data"
    },
    {
     "data": {
      "image/png": "[encoded data removed]",
      "text/plain": [
       "<matplotlib.figure.Figure at 0x7fe84b1cc6a0>"
      ]
     },
     "metadata": {},
     "output_type": "display_data"
    },
    {
     "data": {
      "image/png": "[encoded data removed]",
      "text/plain": [
       "<matplotlib.figure.Figure at 0x7fe84b1cccf8>"
      ]
     },
     "metadata": {},
     "output_type": "display_data"
    },
    {
     "data": {
      "image/png": "[encoded data removed]",
      "text/plain": [
       "<matplotlib.figure.Figure at 0x7fe84b1e1198>"
      ]
     },
     "metadata": {},
     "output_type": "display_data"
    }
   ],
   "source": [
    "from scripts.extract import *\n",
    "from scripts.varios import *\n",
    "from scripts.umbralangulos import *\n",
    "downloadFile()\n",
    "join()\n",
    "#touchs, sounds = loadTouchs()\n",
    "levels = loadLevels()\n",
    "plotConvergenciaAngulos(levels)\n",
    "# makeTimeline (touchs,sounds)\n",
    "\n"
   ]
  },
  {
   "cell_type": "code",
   "execution_count": 33,
   "metadata": {
    "collapsed": false
   },
   "outputs": [
    {
     "data": {
      "text/plain": [
       "'Numero de sesiones totales encontradas:: 2'"
      ]
     },
     "metadata": {},
     "output_type": "display_data"
    },
    {
     "data": {
      "text/plain": [
       "'Numero de levels totales encontrados: 2'"
      ]
     },
     "metadata": {},
     "output_type": "display_data"
    },
    {
     "data": {
      "text/plain": [
       "'Numero de sesiones totales encontradas:: 2'"
      ]
     },
     "metadata": {},
     "output_type": "display_data"
    },
    {
     "data": {
      "text/plain": [
       "'Numero de levels totales encontrados: 2'"
      ]
     },
     "metadata": {},
     "output_type": "display_data"
    },
    {
     "data": {
      "text/plain": [
       "'Numero de trials totales encontrados: 45'"
      ]
     },
     "metadata": {},
     "output_type": "display_data"
    },
    {
     "data": {
      "text/plain": [
       "'Filtrando datos...'"
      ]
     },
     "metadata": {},
     "output_type": "display_data"
    },
    {
     "data": {
      "text/plain": [
       "'Recursos cargados del archivo'"
      ]
     },
     "metadata": {},
     "output_type": "display_data"
    },
    {
     "data": {
      "text/plain": [
       "'Touchs seleccionados: 44'"
      ]
     },
     "metadata": {},
     "output_type": "display_data"
    },
    {
     "data": {
      "text/plain": [
       "'Sounds seleccionados: 51'"
      ]
     },
     "metadata": {},
     "output_type": "display_data"
    },
    {
     "data": {
      "text/html": [
       "<div>\n",
       "<table border=\"1\" class=\"dataframe\">\n",
       "  <thead>\n",
       "    <tr style=\"text-align: right;\">\n",
       "      <th></th>\n",
       "      <th>categoriasTouched</th>\n",
       "      <th>idResourceTouched</th>\n",
       "      <th>isStimuli</th>\n",
       "      <th>isTrue</th>\n",
       "      <th>jsonMetaDataTouched</th>\n",
       "      <th>touchInstance</th>\n",
       "      <th>trialInstance</th>\n",
       "      <th>categoriasElementos</th>\n",
       "      <th>categoriasRta</th>\n",
       "      <th>idRtaCorrecta</th>\n",
       "      <th>...</th>\n",
       "      <th>levelTitle</th>\n",
       "      <th>sessionInstance</th>\n",
       "      <th>timeLevelExit</th>\n",
       "      <th>timeLevelStarts</th>\n",
       "      <th>appVersion</th>\n",
       "      <th>codeVersion</th>\n",
       "      <th>levelVersion</th>\n",
       "      <th>resourcesVersion</th>\n",
       "      <th>userID</th>\n",
       "      <th>Alias</th>\n",
       "    </tr>\n",
       "  </thead>\n",
       "  <tbody>\n",
       "    <tr>\n",
       "      <th>12</th>\n",
       "      <td>[Agudo, Texto]</td>\n",
       "      <td>{'resourceVersion': 130, 'id': 11}</td>\n",
       "      <td>False</td>\n",
       "      <td>False</td>\n",
       "      <td>{'resourceId': {'resourceVersion': 130, 'id': ...</td>\n",
       "      <td>1452030529667</td>\n",
       "      <td>1452030526982</td>\n",
       "      <td>[Grave, Angulo, Grave, Texto, Recto, Texto, Ag...</td>\n",
       "      <td>[Grave, Angulo]</td>\n",
       "      <td>{'resourceVersion': 130, 'id': 2693}</td>\n",
       "      <td>...</td>\n",
       "      <td>R: 0</td>\n",
       "      <td>1452030483920</td>\n",
       "      <td>1452030687870</td>\n",
       "      <td>1452030486242</td>\n",
       "      <td>UmbralCompletoAngulos</td>\n",
       "      <td>13</td>\n",
       "      <td>23</td>\n",
       "      <td>130</td>\n",
       "      <td>1452030483844</td>\n",
       "      <td>1452030483844</td>\n",
       "    </tr>\n",
       "    <tr>\n",
       "      <th>24</th>\n",
       "      <td>[Recto, Texto]</td>\n",
       "      <td>{'resourceVersion': 130, 'id': 13}</td>\n",
       "      <td>False</td>\n",
       "      <td>False</td>\n",
       "      <td>{'resourceId': {'resourceVersion': 130, 'id': ...</td>\n",
       "      <td>1452030601440</td>\n",
       "      <td>1452030597354</td>\n",
       "      <td>[Agudo, Angulo, Grave, Texto, Recto, Texto, Ag...</td>\n",
       "      <td>[Agudo, Angulo]</td>\n",
       "      <td>{'resourceVersion': 130, 'id': 2085}</td>\n",
       "      <td>...</td>\n",
       "      <td>R: 0</td>\n",
       "      <td>1452030483920</td>\n",
       "      <td>1452030687870</td>\n",
       "      <td>1452030486242</td>\n",
       "      <td>UmbralCompletoAngulos</td>\n",
       "      <td>13</td>\n",
       "      <td>23</td>\n",
       "      <td>130</td>\n",
       "      <td>1452030483844</td>\n",
       "      <td>1452030483844</td>\n",
       "    </tr>\n",
       "  </tbody>\n",
       "</table>\n",
       "<p>2 rows × 33 columns</p>\n",
       "</div>"
      ],
      "text/plain": [
       "   categoriasTouched                   idResourceTouched isStimuli isTrue  \\\n",
       "12    [Agudo, Texto]  {'resourceVersion': 130, 'id': 11}     False  False   \n",
       "24    [Recto, Texto]  {'resourceVersion': 130, 'id': 13}     False  False   \n",
       "\n",
       "                                  jsonMetaDataTouched  touchInstance  \\\n",
       "12  {'resourceId': {'resourceVersion': 130, 'id': ...  1452030529667   \n",
       "24  {'resourceId': {'resourceVersion': 130, 'id': ...  1452030601440   \n",
       "\n",
       "    trialInstance                                categoriasElementos  \\\n",
       "12  1452030526982  [Grave, Angulo, Grave, Texto, Recto, Texto, Ag...   \n",
       "24  1452030597354  [Agudo, Angulo, Grave, Texto, Recto, Texto, Ag...   \n",
       "\n",
       "      categoriasRta                         idRtaCorrecta      ...        \\\n",
       "12  [Grave, Angulo]  {'resourceVersion': 130, 'id': 2693}      ...         \n",
       "24  [Agudo, Angulo]  {'resourceVersion': 130, 'id': 2085}      ...         \n",
       "\n",
       "   levelTitle sessionInstance  timeLevelExit timeLevelStarts  \\\n",
       "12       R: 0   1452030483920  1452030687870   1452030486242   \n",
       "24       R: 0   1452030483920  1452030687870   1452030486242   \n",
       "\n",
       "               appVersion  codeVersion levelVersion resourcesVersion  \\\n",
       "12  UmbralCompletoAngulos           13           23              130   \n",
       "24  UmbralCompletoAngulos           13           23              130   \n",
       "\n",
       "           userID          Alias  \n",
       "12  1452030483844  1452030483844  \n",
       "24  1452030483844  1452030483844  \n",
       "\n",
       "[2 rows x 33 columns]"
      ]
     },
     "metadata": {},
     "output_type": "display_data"
    }
   ],
   "source": [
    "touchs, sounds = loadTouchs()\n",
    "\n",
    "display (touchs[touchs['isTrue']==False])\n"
   ]
  }
 ],
 "metadata": {
  "kernelspec": {
   "display_name": "Python 3",
   "language": "python",
   "name": "python3"
  },
  "language_info": {
   "codemirror_mode": {
    "name": "ipython",
    "version": 3
   },
   "file_extension": ".py",
   "mimetype": "text/x-python",
   "name": "python",
   "nbconvert_exporter": "python",
   "pygments_lexer": "ipython3",
   "version": "3.4.3"
  }
 },
 "nbformat": 4,
 "nbformat_minor": 0
}
