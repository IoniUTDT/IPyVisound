{
 "cells": [
  {
   "cell_type": "code",
   "execution_count": 1,
   "metadata": {
    "collapsed": false
   },
   "outputs": [],
   "source": [
    "%matplotlib inline\n",
    "%load_ext autoreload\n",
    "%autoreload 2\n",
    "from IPython.display import display"
   ]
  },
  {
   "cell_type": "code",
   "execution_count": 27,
   "metadata": {
    "collapsed": false
   },
   "outputs": [
    {
     "data": {
      "text/plain": [
       "'Numero de sesiones totales encontradas:: 1'"
      ]
     },
     "metadata": {},
     "output_type": "display_data"
    },
    {
     "data": {
      "text/plain": [
       "'Numero de levels totales encontrados: 1'"
      ]
     },
     "metadata": {},
     "output_type": "display_data"
    },
    {
     "data": {
      "text/plain": [
       "'Numero de sesiones totales encontradas:: 1'"
      ]
     },
     "metadata": {},
     "output_type": "display_data"
    },
    {
     "data": {
      "text/plain": [
       "'Numero de levels totales encontrados: 1'"
      ]
     },
     "metadata": {},
     "output_type": "display_data"
    },
    {
     "data": {
      "text/plain": [
       "'Numero de trials totales encontrados: 3'"
      ]
     },
     "metadata": {},
     "output_type": "display_data"
    },
    {
     "data": {
      "text/plain": [
       "'Filtrando datos...'"
      ]
     },
     "metadata": {},
     "output_type": "display_data"
    },
    {
     "data": {
      "text/plain": [
       "'Recursos cargados del archivo'"
      ]
     },
     "metadata": {},
     "output_type": "display_data"
    },
    {
     "data": {
      "text/plain": [
       "'Touchs seleccionados: 2'"
      ]
     },
     "metadata": {},
     "output_type": "display_data"
    },
    {
     "data": {
      "text/plain": [
       "'Sounds seleccionados: 3'"
      ]
     },
     "metadata": {},
     "output_type": "display_data"
    },
    {
     "data": {
      "text/plain": [
       "'Se hara la estadistica del usuario: 1451934476937'"
      ]
     },
     "metadata": {},
     "output_type": "display_data"
    },
    {
     "data": {
      "text/plain": [
       "'El usuario 1451934476937 jugo 1 veces'"
      ]
     },
     "metadata": {},
     "output_type": "display_data"
    }
   ],
   "source": [
    "from scripts.extract import *\n",
    "from scripts.varios import *\n",
    "from scripts.umbralangulos import *\n",
    "# downloadFile()\n",
    "# join()\n",
    "touchs, sounds = loadTouchs()\n",
    "levels = loadLevels()\n",
    "plotConvergenciaAngulos(levels)\n",
    "# makeTimeline (touchs,sounds)\n",
    "\n"
   ]
  },
  {
   "cell_type": "code",
   "execution_count": 24,
   "metadata": {
    "collapsed": false
   },
   "outputs": [
    {
     "data": {
      "text/html": [
       "<div>\n",
       "<table border=\"1\" class=\"dataframe\">\n",
       "  <thead>\n",
       "    <tr style=\"text-align: right;\">\n",
       "      <th></th>\n",
       "      <th>analisis</th>\n",
       "      <th>levelCompleted</th>\n",
       "      <th>levelId</th>\n",
       "      <th>levelInstance</th>\n",
       "      <th>levelTitle</th>\n",
       "      <th>sessionInstance</th>\n",
       "      <th>timeLevelExit</th>\n",
       "      <th>timeLevelStarts</th>\n",
       "      <th>appVersion</th>\n",
       "      <th>codeVersion</th>\n",
       "      <th>levelVersion</th>\n",
       "      <th>resourcesVersion</th>\n",
       "      <th>userID</th>\n",
       "      <th>Alias</th>\n",
       "    </tr>\n",
       "  </thead>\n",
       "  <tbody>\n",
       "    <tr>\n",
       "      <th>0</th>\n",
       "      <td>{'next': {'angulo': 25, 'nivel': 17, 'anguloRe...</td>\n",
       "      <td>False</td>\n",
       "      <td>1</td>\n",
       "      <td>1451934479039</td>\n",
       "      <td>R: 0</td>\n",
       "      <td>1451934477103</td>\n",
       "      <td>1451934489361</td>\n",
       "      <td>1451934479039</td>\n",
       "      <td>UmbralCompletoAngulos</td>\n",
       "      <td>13</td>\n",
       "      <td>23</td>\n",
       "      <td>130</td>\n",
       "      <td>1451934476937</td>\n",
       "      <td>1451934476937</td>\n",
       "    </tr>\n",
       "  </tbody>\n",
       "</table>\n",
       "</div>"
      ],
      "text/plain": [
       "                                            analisis levelCompleted  levelId  \\\n",
       "0  {'next': {'angulo': 25, 'nivel': 17, 'anguloRe...          False        1   \n",
       "\n",
       "   levelInstance levelTitle  sessionInstance  timeLevelExit  timeLevelStarts  \\\n",
       "0  1451934479039       R: 0    1451934477103  1451934489361    1451934479039   \n",
       "\n",
       "              appVersion  codeVersion  levelVersion  resourcesVersion  \\\n",
       "0  UmbralCompletoAngulos           13            23               130   \n",
       "\n",
       "          userID          Alias  \n",
       "0  1451934476937  1451934476937  "
      ]
     },
     "metadata": {},
     "output_type": "display_data"
    }
   ],
   "source": [
    "display (levels)\n"
   ]
  }
 ],
 "metadata": {
  "kernelspec": {
   "display_name": "Python 3",
   "language": "python",
   "name": "python3"
  },
  "language_info": {
   "codemirror_mode": {
    "name": "ipython",
    "version": 3
   },
   "file_extension": ".py",
   "mimetype": "text/x-python",
   "name": "python",
   "nbconvert_exporter": "python",
   "pygments_lexer": "ipython3",
   "version": "3.4.3"
  }
 },
 "nbformat": 4,
 "nbformat_minor": 0
}
