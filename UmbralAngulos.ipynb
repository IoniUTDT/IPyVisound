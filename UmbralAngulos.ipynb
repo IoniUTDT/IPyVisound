{
 "cells": [
  {
   "cell_type": "code",
   "execution_count": 1,
   "metadata": {
    "collapsed": false
   },
   "outputs": [],
   "source": [
    "%matplotlib inline\n",
    "%load_ext autoreload\n",
    "%autoreload 2\n",
    "from IPython.display import display"
   ]
  },
  {
   "cell_type": "code",
   "execution_count": 2,
   "metadata": {
    "collapsed": false,
    "scrolled": true
   },
   "outputs": [
    {
     "name": "stdout",
     "output_type": "stream",
     "text": [
      "Starting download, please wait\n",
      "Donload finish\n"
     ]
    },
    {
     "data": {
      "text/plain": [
       "'Sessions tiene 68 entradas'"
      ]
     },
     "metadata": {},
     "output_type": "display_data"
    },
    {
     "data": {
      "text/plain": [
       "'Se agregaron 1 registros al registro de sesiones.'"
      ]
     },
     "metadata": {},
     "output_type": "display_data"
    },
    {
     "data": {
      "text/plain": [
       "'Levels tiene 18 entradas'"
      ]
     },
     "metadata": {},
     "output_type": "display_data"
    },
    {
     "data": {
      "text/plain": [
       "'Se agregaron 0 registros al registro de levels.'"
      ]
     },
     "metadata": {},
     "output_type": "display_data"
    },
    {
     "data": {
      "text/plain": [
       "'Datos del json cargados'"
      ]
     },
     "metadata": {},
     "output_type": "display_data"
    }
   ],
   "source": [
    "from scripts.extract import *\n",
    "from scripts.varios import *\n",
    "#downloadFile()\n",
    "#join()\n",
    "#touchs, sounds = loadTouchs()\n",
    "# levels = loadLevels()\n",
    "# levelsdf = levelsToDF(levels)\n",
    "# plotConvergenciaAngulos(levels,completos=True)\n",
    "# makeTimeline (touchs,sounds)\n",
    "\n"
   ]
  },
  {
   "cell_type": "code",
   "execution_count": 2,
   "metadata": {
    "collapsed": false
   },
   "outputs": [
    {
     "ename": "ImportError",
     "evalue": "No module named 'scripts.extract'",
     "output_type": "error",
     "traceback": [
      "\u001b[1;31m---------------------------------------------------------------------------\u001b[0m",
      "\u001b[1;31mImportError\u001b[0m                               Traceback (most recent call last)",
      "\u001b[1;32m<ipython-input-2-849abcd5168f>\u001b[0m in \u001b[0;36m<module>\u001b[1;34m()\u001b[0m\n\u001b[1;32m----> 1\u001b[1;33m \u001b[1;32mfrom\u001b[0m \u001b[0mscripts\u001b[0m\u001b[1;33m.\u001b[0m\u001b[0mextract\u001b[0m \u001b[1;32mimport\u001b[0m \u001b[1;33m*\u001b[0m\u001b[1;33m\u001b[0m\u001b[0m\n\u001b[0m\u001b[0;32m      2\u001b[0m \u001b[1;32mfrom\u001b[0m \u001b[0mscripts\u001b[0m\u001b[1;33m.\u001b[0m\u001b[0mvarios\u001b[0m \u001b[1;32mimport\u001b[0m \u001b[1;33m*\u001b[0m\u001b[1;33m\u001b[0m\u001b[0m\n\u001b[0;32m      3\u001b[0m \u001b[1;32mfrom\u001b[0m \u001b[0mscripts\u001b[0m\u001b[1;33m.\u001b[0m\u001b[0mumbralangulos\u001b[0m \u001b[1;32mimport\u001b[0m \u001b[1;33m*\u001b[0m\u001b[1;33m\u001b[0m\u001b[0m\n\u001b[0;32m      4\u001b[0m \u001b[0mlevels\u001b[0m \u001b[1;33m=\u001b[0m \u001b[0mloadLevels\u001b[0m\u001b[1;33m(\u001b[0m\u001b[1;33m)\u001b[0m\u001b[1;33m\u001b[0m\u001b[0m\n\u001b[0;32m      5\u001b[0m \u001b[0mlevelsdf\u001b[0m \u001b[1;33m=\u001b[0m \u001b[0mlevelsToDF\u001b[0m\u001b[1;33m(\u001b[0m\u001b[0mlevels\u001b[0m\u001b[1;33m)\u001b[0m\u001b[1;33m\u001b[0m\u001b[0m\n",
      "\u001b[1;31mImportError\u001b[0m: No module named 'scripts.extract'"
     ]
    }
   ],
   "source": [
    "from scripts.extract import *\n",
    "from scripts.varios import *\n",
    "from scripts.umbralangulos import *\n",
    "levels = loadLevels()\n",
    "levelsdf = levelsToDF(levels)\n",
    "plotConvergenciaXCuadrantes(levelsdf)\n",
    "#plotConvergenciaAngulos(levels,completos=True)\n",
    "#plotConvergenciaXReferencia(levelsdf)\n",
    "#plotHistogramas(levelsdf)\n"
   ]
  },
  {
   "cell_type": "code",
   "execution_count": 8,
   "metadata": {
    "collapsed": false
   },
   "outputs": [
    {
     "data": {
      "text/html": [
       "<div style=\"max-height:1000px;max-width:1500px;overflow:auto;\">\n",
       "<table border=\"1\" class=\"dataframe\">\n",
       "  <thead>\n",
       "    <tr style=\"text-align: right;\">\n",
       "      <th></th>\n",
       "      <th>Alias</th>\n",
       "      <th>acertado</th>\n",
       "      <th>angulo</th>\n",
       "      <th>anguloDeReferencia</th>\n",
       "      <th>anguloDeReferencia_C</th>\n",
       "      <th>anguloReferido</th>\n",
       "      <th>appVersion</th>\n",
       "      <th>codeVersion</th>\n",
       "      <th>convergenciaAlcanzada</th>\n",
       "      <th>cuadranteNumero</th>\n",
       "      <th>idResource</th>\n",
       "      <th>idTrial</th>\n",
       "      <th>indiceEnHistorial</th>\n",
       "      <th>levelCompleted</th>\n",
       "      <th>levelInstance</th>\n",
       "      <th>levelTitle</th>\n",
       "      <th>levelVersion</th>\n",
       "      <th>nivel</th>\n",
       "      <th>nombreDelCuadrante</th>\n",
       "      <th>resourcesVersion</th>\n",
       "      <th></th>\n",
       "    </tr>\n",
       "  </thead>\n",
       "  <tbody>\n",
       "    <tr>\n",
       "      <th>0</th>\n",
       "      <td> Ioni umbral1</td>\n",
       "      <td> True</td>\n",
       "      <td>  5</td>\n",
       "      <td> 0</td>\n",
       "      <td> 0</td>\n",
       "      <td>  5</td>\n",
       "      <td> UmbralCompletoAngulos</td>\n",
       "      <td> 15</td>\n",
       "      <td> True</td>\n",
       "      <td> 1</td>\n",
       "      <td> {'id': 2645, 'resourceVersion': 0}</td>\n",
       "      <td> 25</td>\n",
       "      <td> 0</td>\n",
       "      <td> True</td>\n",
       "      <td> 1.454005e+12</td>\n",
       "      <td>  R: 0 R: 10</td>\n",
       "      <td> 0</td>\n",
       "      <td> 21</td>\n",
       "      <td> Cuadrante 1 R: 0</td>\n",
       "      <td> 132</td>\n",
       "      <td>...</td>\n",
       "    </tr>\n",
       "    <tr>\n",
       "      <th>1</th>\n",
       "      <td> Ioni umbral1</td>\n",
       "      <td> True</td>\n",
       "      <td> 25</td>\n",
       "      <td> 0</td>\n",
       "      <td> 0</td>\n",
       "      <td> 25</td>\n",
       "      <td> UmbralCompletoAngulos</td>\n",
       "      <td> 15</td>\n",
       "      <td> True</td>\n",
       "      <td> 1</td>\n",
       "      <td> {'id': 2649, 'resourceVersion': 0}</td>\n",
       "      <td> 29</td>\n",
       "      <td> 1</td>\n",
       "      <td> True</td>\n",
       "      <td> 1.454005e+12</td>\n",
       "      <td>  R: 0 R: 10</td>\n",
       "      <td> 0</td>\n",
       "      <td> 17</td>\n",
       "      <td> Cuadrante 1 R: 0</td>\n",
       "      <td> 132</td>\n",
       "      <td>...</td>\n",
       "    </tr>\n",
       "    <tr>\n",
       "      <th>2</th>\n",
       "      <td> Ioni umbral1</td>\n",
       "      <td> True</td>\n",
       "      <td> 45</td>\n",
       "      <td> 0</td>\n",
       "      <td> 0</td>\n",
       "      <td> 45</td>\n",
       "      <td> UmbralCompletoAngulos</td>\n",
       "      <td> 15</td>\n",
       "      <td> True</td>\n",
       "      <td> 1</td>\n",
       "      <td> {'id': 2653, 'resourceVersion': 0}</td>\n",
       "      <td> 33</td>\n",
       "      <td> 2</td>\n",
       "      <td> True</td>\n",
       "      <td> 1.454005e+12</td>\n",
       "      <td>  R: 0 R: 10</td>\n",
       "      <td> 0</td>\n",
       "      <td> 13</td>\n",
       "      <td> Cuadrante 1 R: 0</td>\n",
       "      <td> 132</td>\n",
       "      <td>...</td>\n",
       "    </tr>\n",
       "    <tr>\n",
       "      <th>3</th>\n",
       "      <td> Ioni umbral1</td>\n",
       "      <td> True</td>\n",
       "      <td> 65</td>\n",
       "      <td> 0</td>\n",
       "      <td> 0</td>\n",
       "      <td> 65</td>\n",
       "      <td> UmbralCompletoAngulos</td>\n",
       "      <td> 15</td>\n",
       "      <td> True</td>\n",
       "      <td> 1</td>\n",
       "      <td> {'id': 2657, 'resourceVersion': 0}</td>\n",
       "      <td> 37</td>\n",
       "      <td> 3</td>\n",
       "      <td> True</td>\n",
       "      <td> 1.454005e+12</td>\n",
       "      <td>  R: 0 R: 10</td>\n",
       "      <td> 0</td>\n",
       "      <td>  9</td>\n",
       "      <td> Cuadrante 1 R: 0</td>\n",
       "      <td> 132</td>\n",
       "      <td>...</td>\n",
       "    </tr>\n",
       "    <tr>\n",
       "      <th>4</th>\n",
       "      <td> Ioni umbral1</td>\n",
       "      <td> True</td>\n",
       "      <td> 85</td>\n",
       "      <td> 0</td>\n",
       "      <td> 0</td>\n",
       "      <td> 85</td>\n",
       "      <td> UmbralCompletoAngulos</td>\n",
       "      <td> 15</td>\n",
       "      <td> True</td>\n",
       "      <td> 1</td>\n",
       "      <td> {'id': 2661, 'resourceVersion': 0}</td>\n",
       "      <td> 41</td>\n",
       "      <td> 4</td>\n",
       "      <td> True</td>\n",
       "      <td> 1.454005e+12</td>\n",
       "      <td>  R: 0 R: 10</td>\n",
       "      <td> 0</td>\n",
       "      <td>  5</td>\n",
       "      <td> Cuadrante 1 R: 0</td>\n",
       "      <td> 132</td>\n",
       "      <td>...</td>\n",
       "    </tr>\n",
       "  </tbody>\n",
       "</table>\n",
       "<p>5 rows × 25 columns</p>\n",
       "</div>"
      ],
      "text/plain": [
       "          Alias acertado  angulo  anguloDeReferencia  anguloDeReferencia_C  \\\n",
       "0  Ioni umbral1     True       5                   0                     0   \n",
       "1  Ioni umbral1     True      25                   0                     0   \n",
       "2  Ioni umbral1     True      45                   0                     0   \n",
       "3  Ioni umbral1     True      65                   0                     0   \n",
       "4  Ioni umbral1     True      85                   0                     0   \n",
       "\n",
       "   anguloReferido             appVersion  codeVersion convergenciaAlcanzada  \\\n",
       "0               5  UmbralCompletoAngulos           15                  True   \n",
       "1              25  UmbralCompletoAngulos           15                  True   \n",
       "2              45  UmbralCompletoAngulos           15                  True   \n",
       "3              65  UmbralCompletoAngulos           15                  True   \n",
       "4              85  UmbralCompletoAngulos           15                  True   \n",
       "\n",
       "   cuadranteNumero                          idResource  idTrial  \\\n",
       "0                1  {'id': 2645, 'resourceVersion': 0}       25   \n",
       "1                1  {'id': 2649, 'resourceVersion': 0}       29   \n",
       "2                1  {'id': 2653, 'resourceVersion': 0}       33   \n",
       "3                1  {'id': 2657, 'resourceVersion': 0}       37   \n",
       "4                1  {'id': 2661, 'resourceVersion': 0}       41   \n",
       "\n",
       "   indiceEnHistorial levelCompleted  levelInstance   levelTitle  levelVersion  \\\n",
       "0                  0           True   1.454005e+12   R: 0 R: 10             0   \n",
       "1                  1           True   1.454005e+12   R: 0 R: 10             0   \n",
       "2                  2           True   1.454005e+12   R: 0 R: 10             0   \n",
       "3                  3           True   1.454005e+12   R: 0 R: 10             0   \n",
       "4                  4           True   1.454005e+12   R: 0 R: 10             0   \n",
       "\n",
       "   nivel nombreDelCuadrante  resourcesVersion      \n",
       "0     21   Cuadrante 1 R: 0               132 ...  \n",
       "1     17   Cuadrante 1 R: 0               132 ...  \n",
       "2     13   Cuadrante 1 R: 0               132 ...  \n",
       "3      9   Cuadrante 1 R: 0               132 ...  \n",
       "4      5   Cuadrante 1 R: 0               132 ...  \n",
       "\n",
       "[5 rows x 25 columns]"
      ]
     },
     "metadata": {},
     "output_type": "display_data"
    },
    {
     "data": {
      "text/plain": [
       "Index(['Alias', 'acertado', 'angulo', 'anguloDeReferencia', 'anguloDeReferencia_C', 'anguloReferido', 'appVersion', 'codeVersion', 'convergenciaAlcanzada', 'cuadranteNumero', 'idResource', 'idTrial', 'indiceEnHistorial', 'levelCompleted', 'levelInstance', 'levelTitle', 'levelVersion', 'nivel', 'nombreDelCuadrante', 'resourcesVersion', 'sessionInstance', 'ultimaSD', 'ultimoMEANAngulo', 'ultimoMEANNivel', 'userID'], dtype='object')"
      ]
     },
     "metadata": {},
     "output_type": "display_data"
    }
   ],
   "source": [
    "display (levelsdf.head())\n",
    "display (levelsdf.columns)\n"
   ]
  }
 ],
 "metadata": {
  "kernelspec": {
   "display_name": "Python 3",
   "language": "python",
   "name": "python3"
  },
  "language_info": {
   "codemirror_mode": {
    "name": "ipython",
    "version": 3
   },
   "file_extension": ".py",
   "mimetype": "text/x-python",
   "name": "python",
   "nbconvert_exporter": "python",
   "pygments_lexer": "ipython3",
   "version": "3.4.3"
  }
 },
 "nbformat": 4,
 "nbformat_minor": 0
}
