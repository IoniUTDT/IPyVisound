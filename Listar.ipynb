{
 "cells": [
  {
   "cell_type": "code",
   "execution_count": 10,
   "metadata": {
    "collapsed": false
   },
   "outputs": [
    {
     "ename": "TypeError",
     "evalue": "Can't convert 'datetime.date' object to str implicitly",
     "output_type": "error",
     "traceback": [
      "\u001b[1;31m---------------------------------------------------------------------------\u001b[0m",
      "\u001b[1;31mTypeError\u001b[0m                                 Traceback (most recent call last)",
      "\u001b[1;32m<ipython-input-10-85f29a889c9c>\u001b[0m in \u001b[0;36m<module>\u001b[1;34m()\u001b[0m\n\u001b[0;32m     36\u001b[0m             \u001b[0mextension\u001b[0m \u001b[1;33m=\u001b[0m \u001b[0mos\u001b[0m\u001b[1;33m.\u001b[0m\u001b[0mpath\u001b[0m\u001b[1;33m.\u001b[0m\u001b[0msplitext\u001b[0m\u001b[1;33m(\u001b[0m\u001b[0marchivo\u001b[0m\u001b[1;33m)\u001b[0m\u001b[1;33m[\u001b[0m\u001b[1;36m1\u001b[0m\u001b[1;33m]\u001b[0m\u001b[1;33m\u001b[0m\u001b[0m\n\u001b[0;32m     37\u001b[0m             \u001b[0mfecha\u001b[0m \u001b[1;33m=\u001b[0m \u001b[0mdatetime\u001b[0m\u001b[1;33m.\u001b[0m\u001b[0mdatetime\u001b[0m\u001b[1;33m.\u001b[0m\u001b[0mstrptime\u001b[0m\u001b[1;33m(\u001b[0m\u001b[0mtime\u001b[0m\u001b[1;33m.\u001b[0m\u001b[0mctime\u001b[0m\u001b[1;33m(\u001b[0m\u001b[0mos\u001b[0m\u001b[1;33m.\u001b[0m\u001b[0mstat\u001b[0m\u001b[1;33m(\u001b[0m\u001b[0morigen\u001b[0m\u001b[1;33m)\u001b[0m\u001b[1;33m[\u001b[0m\u001b[1;36m8\u001b[0m\u001b[1;33m]\u001b[0m\u001b[1;33m)\u001b[0m\u001b[1;33m,\u001b[0m \u001b[1;34m\"%a %b %d %H:%M:%S %Y\"\u001b[0m\u001b[1;33m)\u001b[0m\u001b[1;33m.\u001b[0m\u001b[0mdate\u001b[0m\u001b[1;33m(\u001b[0m\u001b[1;33m)\u001b[0m\u001b[1;33m\u001b[0m\u001b[0m\n\u001b[1;32m---> 38\u001b[1;33m             \u001b[0mdestino\u001b[0m \u001b[1;33m=\u001b[0m \u001b[0mpathSalida\u001b[0m \u001b[1;33m+\u001b[0m \u001b[0mos\u001b[0m\u001b[1;33m.\u001b[0m\u001b[0mpath\u001b[0m\u001b[1;33m.\u001b[0m\u001b[0msplitext\u001b[0m\u001b[1;33m(\u001b[0m\u001b[0marchivo\u001b[0m\u001b[1;33m)\u001b[0m\u001b[1;33m[\u001b[0m\u001b[1;36m1\u001b[0m\u001b[1;33m]\u001b[0m \u001b[1;33m+\u001b[0m \u001b[1;34m'/'\u001b[0m \u001b[1;33m+\u001b[0m \u001b[0mdatetime\u001b[0m\u001b[1;33m.\u001b[0m\u001b[0mdatetime\u001b[0m\u001b[1;33m.\u001b[0m\u001b[0mstrptime\u001b[0m\u001b[1;33m(\u001b[0m\u001b[0mtime\u001b[0m\u001b[1;33m.\u001b[0m\u001b[0mctime\u001b[0m\u001b[1;33m(\u001b[0m\u001b[0mos\u001b[0m\u001b[1;33m.\u001b[0m\u001b[0mstat\u001b[0m\u001b[1;33m(\u001b[0m\u001b[0morigen\u001b[0m\u001b[1;33m)\u001b[0m\u001b[1;33m[\u001b[0m\u001b[1;36m8\u001b[0m\u001b[1;33m]\u001b[0m\u001b[1;33m)\u001b[0m\u001b[1;33m,\u001b[0m \u001b[1;34m\"%a %b %d %H:%M:%S %Y\"\u001b[0m\u001b[1;33m)\u001b[0m\u001b[1;33m.\u001b[0m\u001b[0mdate\u001b[0m\u001b[1;33m(\u001b[0m\u001b[1;33m)\u001b[0m \u001b[1;33m+\u001b[0m \u001b[1;34m'/'\u001b[0m\u001b[1;33m\u001b[0m\u001b[0m\n\u001b[0m\u001b[0;32m     39\u001b[0m             \u001b[0mprint\u001b[0m \u001b[1;33m(\u001b[0m\u001b[0mdestino\u001b[0m\u001b[1;33m)\u001b[0m\u001b[1;33m\u001b[0m\u001b[0m\n\u001b[0;32m     40\u001b[0m \u001b[1;33m\u001b[0m\u001b[0m\n",
      "\u001b[1;31mTypeError\u001b[0m: Can't convert 'datetime.date' object to str implicitly"
     ]
    }
   ],
   "source": [
    "import os, sys\n",
    "import time\n",
    "import datetime\n",
    "\n",
    "\n",
    "path = '/home/ionatan/BackUpIael/'\n",
    "pathSalida = '/home/ionatan/BackUpIael/Ordenado/'\n",
    "raiz = os.listdir(path)\n",
    "carpetas = [elemento for elemento in raiz if os.path.isdir(path + elemento)]\n",
    "extensiones = set([])\n",
    "for carpeta in carpetas:\n",
    "    extensiones.update([os.path.splitext(archivo)[1] for archivo in os.listdir(path+carpeta)])\n",
    "    \n",
    "conservar = []\n",
    "noconservar = []\n",
    "\n",
    "# for extension in extensiones:\n",
    "#     response = input(\"Conservar archivos con la extension \" + extension + \"? (NO/si)\")\n",
    "#     if response == \"si\":\n",
    "#         conservar = conservar + [extension]\n",
    "#     else:\n",
    "#         noconservar = noconservar + [extension]\n",
    "        \n",
    "# print (\"La lista de extensiones a procesar es la siguiente:\")\n",
    "# print (conservar)\n",
    "# print ('Se ignoraran los archivos con las siguientes extensiones:')\n",
    "# print (noconservar)\n",
    "# response = input('En cualquier caso los archivos originales no se modificaran. Desea continuar (SI/no)')\n",
    "# if response == 'no':\n",
    "#     return\n",
    "\n",
    "for carpeta in carpetas:\n",
    "    for archivo in os.listdir(path+carpeta):\n",
    "        #if os.path.splitext(archivo)[1] in conservar:\n",
    "            origen = path + carpeta + '/' + archivo\n",
    "            extension = os.path.splitext(archivo)[1]\n",
    "            fecha = datetime.datetime.strptime(time.ctime(os.stat(origen)[8]), \"%a %b %d %H:%M:%S %Y\").date()\n",
    "            destino = pathSalida + os.path.splitext(archivo)[1] + '/' + datetime.datetime.strptime(time.ctime(os.stat(origen)[8]), \"%a %b %d %H:%M:%S %Y\").date() + '/'\n",
    "            print (destino)\n",
    "\n",
    "    \n",
    "\n",
    "#print (datetime.datetime.strptime(time.ctime(os.stat(path + carpeta + '/' +os.listdir(path+carpeta)[0])[8]), \"%a %b %d %H:%M:%S %Y\").date())\n"
   ]
  }
 ],
 "metadata": {
  "kernelspec": {
   "display_name": "Python 3",
   "language": "python",
   "name": "python3"
  },
  "language_info": {
   "codemirror_mode": {
    "name": "ipython",
    "version": 3
   },
   "file_extension": ".py",
   "mimetype": "text/x-python",
   "name": "python",
   "nbconvert_exporter": "python",
   "pygments_lexer": "ipython3",
   "version": "3.4.3"
  }
 },
 "nbformat": 4,
 "nbformat_minor": 0
}
