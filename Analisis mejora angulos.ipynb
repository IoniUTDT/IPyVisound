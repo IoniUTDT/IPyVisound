{
 "cells": [
  {
   "cell_type": "code",
   "execution_count": 1,
   "metadata": {
    "collapsed": false
   },
   "outputs": [
    {
     "name": "stderr",
     "output_type": "stream",
     "text": [
      "/home/ionatan/Gits/IPyVisound/scripts/statsTransferencia.py:536: SettingWithCopyWarning: A value is trying to be set on a copy of a slice from a DataFrame\n",
      "  dataByAlias[cts.P_FaseActiva].replace('ExperimentoCompleto', 'TestFinal', inplace=True)\n",
      "/home/ionatan/Gits/IPyVisound/scripts/statsTransferencia.py:508: SettingWithCopyWarning: A value is trying to be set on a copy of a slice from a DataFrame\n",
      "  dataByAlias[cts.P_OrientacionEntrenamiento].replace('A30', 'P30', inplace=True)\n",
      "/home/ionatan/Gits/IPyVisound/scripts/statsTransferencia.py:510: SettingWithCopyWarning: A value is trying to be set on a copy of a slice from a DataFrame\n",
      "  dataByAlias[cts.P_OrientacionEntrenamiento].replace('P30', 'CONTROL', inplace=True)\n"
     ]
    }
   ],
   "source": [
    "# Cargamos los datos\n",
    "\n",
    "%matplotlib inline\n",
    "%load_ext autoreload\n",
    "%autoreload 2\n",
    "from scripts.db import *\n",
    "from scripts.plots import *\n",
    "import scipy.stats as stats\n",
    "from scripts.statsTransferencia import *\n",
    "import numpy as np\n",
    "import statsmodels.api as sm\n",
    "import statsmodels.formula.api as smf\n",
    "import pandas as pd\n",
    "\n",
    "resumen = dataNumerica()\n",
    "data = pd.DataFrame.from_dict(resumen, orient='index')\n",
    "\n",
    "#Trasnformamos los valores que interesan en columnas (Por ahora voy a hacer todo en angulos)\n",
    "dataTest = pd.DataFrame()\n",
    "dataTestI = pd.DataFrame()\n",
    "dataTestF = pd.DataFrame()\n",
    "for i, col in enumerate([\"P30\", \"P60\", \"P120\",\"P150\",\"A30\",\"A60\",\"A120\",\"A150\"]):\n",
    "    dataTestI[\"I\"+col] = data['TestInicialAngulos'].map(lambda x: x[i])\n",
    "    dataTest[\"I\"+col] = data['TestInicialAngulos'].map(lambda x: x[i])\n",
    "for i, col in enumerate([\"P30\", \"P60\", \"P120\",\"P150\",\"A30\",\"A60\",\"A120\",\"A150\"]):\n",
    "    dataTestF[\"F\"+col] = data['TestFinalAngulos'].map(lambda x: x[i])\n",
    "    dataTest[\"F\"+col] = data['TestFinalAngulos'].map(lambda x: x[i]) "
   ]
  },
  {
   "cell_type": "code",
   "execution_count": 6,
   "metadata": {
    "collapsed": false
   },
   "outputs": [
    {
     "data": {
      "text/plain": [
       "(2.8126588465297999, 0.1269097641472913)"
      ]
     },
     "execution_count": 6,
     "metadata": {},
     "output_type": "execute_result"
    }
   ],
   "source": [
    "# Vamos a testear la hipotesis de que los sujetos entrenados mejoran respecto a los controles en la orientacion A30\n",
    "\n",
    "entrenadosP = dataTestF['FA30'].iloc[2:5]\n",
    "entrenadosA = dataTestF['FA30'].iloc[0:2]\n",
    "entrenadosNO = dataTestF['FA30'].iloc[5:10]\n",
    "\n",
    "stats.f_oneway (entrenadosP,entrenadosA,entrenadosNO)\n"
   ]
  }
 ],
 "metadata": {
  "kernelspec": {
   "display_name": "Python 3",
   "language": "python",
   "name": "python3"
  },
  "language_info": {
   "codemirror_mode": {
    "name": "ipython",
    "version": 3
   },
   "file_extension": ".py",
   "mimetype": "text/x-python",
   "name": "python",
   "nbconvert_exporter": "python",
   "pygments_lexer": "ipython3",
   "version": "3.4.3"
  }
 },
 "nbformat": 4,
 "nbformat_minor": 0
}
