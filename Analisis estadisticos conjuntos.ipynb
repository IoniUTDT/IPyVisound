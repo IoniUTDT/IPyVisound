{
 "cells": [
  {
   "cell_type": "code",
   "execution_count": 1,
   "metadata": {
    "collapsed": false
   },
   "outputs": [],
   "source": [
    "%matplotlib inline\n",
    "%load_ext autoreload\n",
    "%autoreload 2\n",
    "from scripts.db import *\n",
    "from scripts.plots import *\n",
    "from scripts.stats import *\n",
    "from scripts.statsTransferencia import *\n",
    "import numpy as np\n",
    "import statsmodels.api as sm\n",
    "from scipy.stats import mannwhitneyu"
   ]
  },
  {
   "cell_type": "code",
   "execution_count": 2,
   "metadata": {
    "collapsed": false
   },
   "outputs": [
    {
     "name": "stderr",
     "output_type": "stream",
     "text": [
      "/home/ionatan/Gits/IPyVisound/scripts/statsTransferencia.py:348: SettingWithCopyWarning: A value is trying to be set on a copy of a slice from a DataFrame\n",
      "  dataByAlias[cts.P_FaseActiva].replace('ExperimentoCompleto', 'TestFinal', inplace=True)\n",
      "/home/ionatan/Gits/IPyVisound/scripts/statsTransferencia.py:320: SettingWithCopyWarning: A value is trying to be set on a copy of a slice from a DataFrame\n",
      "  dataByAlias[cts.P_OrientacionEntrenamiento].replace('A30', 'P30', inplace=True)\n",
      "/home/ionatan/Gits/IPyVisound/scripts/statsTransferencia.py:322: SettingWithCopyWarning: A value is trying to be set on a copy of a slice from a DataFrame\n",
      "  dataByAlias[cts.P_OrientacionEntrenamiento].replace('P30', 'CONTROL', inplace=True)\n"
     ]
    }
   ],
   "source": [
    "resumen = dataNumerica()"
   ]
  },
  {
   "cell_type": "markdown",
   "metadata": {},
   "source": [
    "Quiero hacer una validacion estadistica de diferentes preguntas. \n",
    "\n",
    "Hipotesis:\n",
    "a) El nivel de convergencia en angulos y en paralelismo es similar. Asumo que no va a dar.\n",
    "\n",
    "Esta pregunta permite decidir si las escalas de paralelismo y angulos son equivalentes en cuanto a dificultad. \n",
    "\n"
   ]
  },
  {
   "cell_type": "code",
   "execution_count": 40,
   "metadata": {
    "collapsed": false
   },
   "outputs": [
    {
     "data": {
      "text/plain": [
       "(91.0, 0.012723415730238391)"
      ]
     },
     "execution_count": 40,
     "metadata": {},
     "output_type": "execute_result"
    }
   ],
   "source": [
    "# Comparamos el conjunto de mediciones en el entrenamiento, separando en la performance entre angulos y paralelismo para ver si son medidas equivalentes de dificultad\n",
    "\n",
    "performanceEntrenamientoParalelismo = []\n",
    "performanceEntrenamientoAngulos = []\n",
    "for user,data in resumen.items():\n",
    "    if data['Orientacion'] != 'CONTROL':\n",
    "        if sum (data['EntrenamientoMedio'])>200 :\n",
    "            if data['Orientacion'] != 'P30':\n",
    "                performanceEntrenamientoParalelismo = performanceEntrenamientoParalelismo + data['EntrenamientoInicial'][1:4]\n",
    "                performanceEntrenamientoParalelismo = performanceEntrenamientoParalelismo + data['EntrenamientoMedio'][1:4]\n",
    "                performanceEntrenamientoParalelismo = performanceEntrenamientoParalelismo + data['EntrenamientoFinal'][1:4]\n",
    "            else:\n",
    "                performanceEntrenamientoAngulos = performanceEntrenamientoAngulos + data['EntrenamientoInicial'][1:4]\n",
    "                performanceEntrenamientoAngulos = performanceEntrenamientoAngulos + data['EntrenamientoMedio'][1:4]\n",
    "                performanceEntrenamientoAngulos = performanceEntrenamientoAngulos + data['EntrenamientoFinal'][1:4]\n",
    "    \n",
    "\n",
    "#display (performanceEntrenamientoParalelismo)\n",
    "#display (performanceEntrenamientoAngulos)\n",
    "mannwhitneyu(performanceEntrenamientoParalelismo, performanceEntrenamientoAngulos)\n",
    "\n",
    "#mannwhitneyu([10,28,38,30,50,80],[0.3,0.1,0.5,0.4,0.6,0.3])"
   ]
  },
  {
   "cell_type": "code",
   "execution_count": 31,
   "metadata": {
    "collapsed": false
   },
   "outputs": [
    {
     "data": {
      "text/plain": [
       "(137.0, 0.21889072400389586)"
      ]
     },
     "execution_count": 31,
     "metadata": {},
     "output_type": "execute_result"
    }
   ],
   "source": [
    "# Comparamos el conjunto de mediciones en el entrenamiento, separando en la medicion absoluta entre angulos y paralelismo para ver si son medidas equivalentes de dificultad\n",
    "\n",
    "performanceEntrenamientoParalelismoA = []\n",
    "performanceEntrenamientoAngulosA = []\n",
    "for user,data in resumen.items():\n",
    "    if data['Orientacion'] != 'CONTROL':\n",
    "        if sum (data['EntrenamientoMedio'])>200 :\n",
    "            if data['Orientacion'] != 'P30':\n",
    "                performanceEntrenamientoParalelismoA = performanceEntrenamientoParalelismoA + data['EntrenamientoInicialEnAngulos'][1:4]\n",
    "                performanceEntrenamientoParalelismoA = performanceEntrenamientoParalelismoA + data['EntrenamientoMedioEnAngulos'][1:4]\n",
    "                performanceEntrenamientoParalelismoA = performanceEntrenamientoParalelismoA + data['EntrenamientoFinalEnAngulos'][1:4]\n",
    "            else:\n",
    "                performanceEntrenamientoAngulosA = performanceEntrenamientoAngulosA + data['EntrenamientoInicialEnAngulos'][1:4]\n",
    "                performanceEntrenamientoAngulosA = performanceEntrenamientoAngulosA + data['EntrenamientoMedioEnAngulos'][1:4]\n",
    "                performanceEntrenamientoAngulosA = performanceEntrenamientoAngulosA + data['EntrenamientoFinalEnAngulos'][1:4]\n",
    "    \n",
    "\n",
    "#display (performanceEntrenamientoParalelismoA)\n",
    "#display (performanceEntrenamientoAngulosA)\n",
    "mannwhitneyu(performanceEntrenamientoParalelismoA, performanceEntrenamientoAngulosA)"
   ]
  },
  {
   "cell_type": "markdown",
   "metadata": {},
   "source": [
    "Hacemos los graficos donde lo anterior se vea."
   ]
  },
  {
   "cell_type": "code",
   "execution_count": 30,
   "metadata": {
    "collapsed": false
   },
   "outputs": [
    {
     "data": {
      "image/png": "[encoded data removed]",
      "text/plain": [
       "<matplotlib.figure.Figure at 0x7fd59c99a748>"
      ]
     },
     "metadata": {},
     "output_type": "display_data"
    }
   ],
   "source": [
    "# a bar plot with errorbars\n",
    "import numpy as np\n",
    "import matplotlib.pyplot as plt\n",
    "\n",
    "N = 4\n",
    "means = (np.mean(performanceEntrenamientoParalelismo), np.mean(performanceEntrenamientoAngulos), np.mean(performanceEntrenamientoParalelismoA), np.mean(performanceEntrenamientoAngulosA))\n",
    "sds = (np.std(performanceEntrenamientoParalelismo), np.std(performanceEntrenamientoAngulos), np.std(performanceEntrenamientoParalelismoA), np.std(performanceEntrenamientoAngulosA))\n",
    "\n",
    "ind = np.arange(N)  # the x locations for the groups\n",
    "width = 0.5       # the width of the bars\n",
    "\n",
    "fig, ax = plt.subplots()\n",
    "rects1 = ax.bar(ind, means, width, yerr=sds)\n",
    "\n",
    "# add some text for labels, title and axes ticks\n",
    "ax.set_ylabel('Performance / Umbral de deteccion (en grados)')\n",
    "ax.set_title('Equivalencia de escalas al alcanzar nivel de entrenado')\n",
    "ax.set_xticks(ind + width/2)\n",
    "ax.set_xticklabels(('Umbral paralelismo performance', 'Umbral angulos performance', 'Umbral paralelismo medida absoluta', 'Umbral angulos medida absoluta') ,rotation='vertical')\n",
    "\n",
    "\n",
    "\n",
    "from matplotlib.markers import TICKDOWN\n",
    "\n",
    "def significance_bar(start,end,height,displaystring,linewidth = 1.2,markersize = 8,boxpad  =0.3,fontsize = 15,color = 'k'):\n",
    "    # draw a line with downticks at the ends\n",
    "    plt.plot([start,end],[height]*2,'-',color = color,lw=linewidth,marker = TICKDOWN,markeredgewidth=linewidth,markersize = markersize)\n",
    "    # draw the text with a bounding box covering up the line\n",
    "    plt.text(0.5*(start+end),height,displaystring,ha = 'center',va='center',bbox=dict(facecolor='1.', edgecolor='none',boxstyle='Square,pad='+str(boxpad)),size = fontsize)\n",
    "\n",
    "pvals = [0.012,0.218]\n",
    "offset  = 25\n",
    "\n",
    "for i,p in enumerate(pvals):\n",
    "    if p>=0.05:\n",
    "        displaystring = r'n.s.'\n",
    "    elif p<0.0001:\n",
    "        displaystring = r'***'\n",
    "    elif p<0.001:\n",
    "        displaystring = r'**'\n",
    "    else:\n",
    "        displaystring = r'*'\n",
    "\n",
    "    height = offset +  max(means[(i*2)],means[i*2+1])\n",
    "    bar_centers = [ind[(i*2)]+width/2, ind[(i*2+1)]+width/2]\n",
    "    significance_bar(bar_centers[0],bar_centers[1],height,displaystring)\n",
    "\n",
    "\n",
    "plt.savefig('./Images/EquivalenciaDeEscalas', bbox_inches='tight')\n",
    "plt.show()"
   ]
  },
  {
   "cell_type": "code",
   "execution_count": 21,
   "metadata": {
    "collapsed": false
   },
   "outputs": [
    {
     "name": "stdout",
     "output_type": "stream",
     "text": [
      "[5.6000000000000005, 12.0, 16.0, 16.0, 19.199999999999999, 17.199999999999999, 14.399999999999999, 14.399999999999999, 19.199999999999999, 16.800000000000001, 13.600000000000001, 19.600000000000001, 16.0, 14.800000000000001, 20.800000000000001, 13.600000000000001, 19.199999999999999, 16.399999999999999]\n"
     ]
    }
   ],
   "source": [
    "# Comparamos el conjunto de mediciones en el entrenamiento, separando en la performance entre angulos y paralelismo para ver si son medidas equivalentes de dificultad\n",
    "\n",
    "performanceEntrenamientoParalelismo = []\n",
    "performanceEntrenamientoAngulos = []\n",
    "for user,data in resumen.items():\n",
    "    if data['Orientacion'] != 'CONTROL':\n",
    "        if sum (data['EntrenamientoMedio'])>200 :\n",
    "            if data['Orientacion'] != 'P30':\n",
    "                performanceEntrenamientoParalelismo = performanceEntrenamientoParalelismo + data['EntrenamientoInicial'][1:4]\n",
    "                performanceEntrenamientoParalelismo = performanceEntrenamientoParalelismo + data['EntrenamientoMedio'][1:4]\n",
    "                performanceEntrenamientoParalelismo = performanceEntrenamientoParalelismo + data['EntrenamientoFinal'][1:4]\n",
    "            else:\n",
    "                performanceEntrenamientoAngulos = performanceEntrenamientoAngulos + data['EntrenamientoInicial'][1:4]\n",
    "                performanceEntrenamientoAngulos = performanceEntrenamientoAngulos + data['EntrenamientoMedio'][1:4]\n",
    "                performanceEntrenamientoAngulos = performanceEntrenamientoAngulos + data['EntrenamientoFinal'][1:4]\n",
    "    \n",
    "\n",
    "#display (performanceEntrenamientoParalelismo)\n",
    "#display (performanceEntrenamientoAngulos)\n",
    "mannwhitneyu(performanceEntrenamientoParalelismo, performanceEntrenamientoAngulos)\n",
    "\n",
    "#mannwhitneyu([10,28,38,30,50,80],[0.3,0.1,0.5,0.4,0.6,0.3])"
   ]
  }
 ],
 "metadata": {
  "kernelspec": {
   "display_name": "Python 3",
   "language": "python",
   "name": "python3"
  },
  "language_info": {
   "codemirror_mode": {
    "name": "ipython",
    "version": 3
   },
   "file_extension": ".py",
   "mimetype": "text/x-python",
   "name": "python",
   "nbconvert_exporter": "python",
   "pygments_lexer": "ipython3",
   "version": "3.4.3"
  }
 },
 "nbformat": 4,
 "nbformat_minor": 0
}
