{
 "cells": [
  {
   "cell_type": "markdown",
   "metadata": {},
   "source": [
    "Voy a intentar leer los archivos viejos con la info del experimento de umbral completo.\n",
    "\n",
    "En su momento los guarde en un pickle pero por alguna razon tira error\n",
    "\n",
    "Aca parece estar la informacion mas completa\n",
    "\n",
    "/home/ionatan/BackUpsPorFecha/IPyVisound (Post Piloto)/Old/backups\n",
    "\n",
    "Pero lo ideal seria recuperar la info que viene de...\n",
    "\n",
    "/home/ionatan/BackUpsPorFecha/IPyVisound (Post Piloto)/Old/Guardados_old/Analisis Umbral Paralelismo\n",
    "\n",
    "donde ya esta la data procesada y filtrada, el tema es que es un pickle y no estoy seguro depoder recuperarlo.\n",
    "\n",
    "voy a copiarlo a otra carpeta para trabajar\n",
    "\n",
    "los copie a /home/ionatan/Gits/IPyVisound/Paper/Datos Umbral Completo"
   ]
  },
  {
   "cell_type": "code",
   "execution_count": 3,
   "metadata": {
    "collapsed": true
   },
   "outputs": [],
   "source": [
    "import os\n",
    "import pickle\n",
    "from IPython.display import display"
   ]
  },
  {
   "cell_type": "code",
   "execution_count": 6,
   "metadata": {
    "collapsed": false
   },
   "outputs": [
    {
     "ename": "AttributeError",
     "evalue": "Can't get attribute '_new_Index' on <module 'pandas.core.index' from '/usr/lib/python3/dist-packages/pandas/core/index.py'>",
     "output_type": "error",
     "traceback": [
      "\u001b[1;31m---------------------------------------------------------------------------\u001b[0m",
      "\u001b[1;31mAttributeError\u001b[0m                            Traceback (most recent call last)",
      "\u001b[1;32m<ipython-input-6-724492660050>\u001b[0m in \u001b[0;36m<module>\u001b[1;34m()\u001b[0m\n\u001b[0;32m      2\u001b[0m \u001b[1;32mif\u001b[0m \u001b[0mos\u001b[0m\u001b[1;33m.\u001b[0m\u001b[0mpath\u001b[0m\u001b[1;33m.\u001b[0m\u001b[0misfile\u001b[0m\u001b[1;33m(\u001b[0m\u001b[0mfilename\u001b[0m\u001b[1;33m)\u001b[0m\u001b[1;33m:\u001b[0m\u001b[1;33m\u001b[0m\u001b[0m\n\u001b[0;32m      3\u001b[0m     \u001b[1;32mwith\u001b[0m \u001b[0mopen\u001b[0m\u001b[1;33m(\u001b[0m\u001b[0mfilename\u001b[0m\u001b[1;33m,\u001b[0m \u001b[1;34m'rb'\u001b[0m\u001b[1;33m)\u001b[0m \u001b[1;32mas\u001b[0m \u001b[0mf\u001b[0m\u001b[1;33m:\u001b[0m\u001b[1;33m\u001b[0m\u001b[0m\n\u001b[1;32m----> 4\u001b[1;33m             \u001b[0msessiones\u001b[0m \u001b[1;33m=\u001b[0m \u001b[0mpickle\u001b[0m\u001b[1;33m.\u001b[0m\u001b[0mload\u001b[0m\u001b[1;33m(\u001b[0m\u001b[0mf\u001b[0m\u001b[1;33m)\u001b[0m\u001b[1;33m\u001b[0m\u001b[0m\n\u001b[0m\u001b[0;32m      5\u001b[0m \u001b[1;32melse\u001b[0m\u001b[1;33m:\u001b[0m\u001b[1;33m\u001b[0m\u001b[0m\n\u001b[0;32m      6\u001b[0m     \u001b[0mdisplay\u001b[0m \u001b[1;33m(\u001b[0m\u001b[1;34m'ERROR! : No se encontro el archivo '\u001b[0m \u001b[1;33m+\u001b[0m \u001b[0mfilename\u001b[0m \u001b[1;33m+\u001b[0m \u001b[1;34m' con el registro de las sessiones.'\u001b[0m\u001b[1;33m)\u001b[0m\u001b[1;33m\u001b[0m\u001b[0m\n",
      "\u001b[1;31mAttributeError\u001b[0m: Can't get attribute '_new_Index' on <module 'pandas.core.index' from '/usr/lib/python3/dist-packages/pandas/core/index.py'>"
     ]
    }
   ],
   "source": [
    "filename = 'DatosUmbralCompleto/db.levels'\n",
    "if os.path.isfile(filename):\n",
    "    with open(filename, 'rb') as f:\n",
    "            sessiones = pickle.load(f)\n",
    "else:\n",
    "    display ('ERROR! : No se encontro el archivo ' + filename + ' con el registro de las sessiones.')"
   ]
  }
 ],
 "metadata": {
  "kernelspec": {
   "display_name": "Python 3",
   "language": "python",
   "name": "python3"
  },
  "language_info": {
   "codemirror_mode": {
    "name": "ipython",
    "version": 3
   },
   "file_extension": ".py",
   "mimetype": "text/x-python",
   "name": "python",
   "nbconvert_exporter": "python",
   "pygments_lexer": "ipython3",
   "version": "3.4.3"
  }
 },
 "nbformat": 4,
 "nbformat_minor": 0
}
