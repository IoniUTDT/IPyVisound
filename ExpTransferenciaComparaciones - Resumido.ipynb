{
 "cells": [
  {
   "cell_type": "markdown",
   "metadata": {},
   "source": [
    "En este codigo queremos ver si mejora o no la performance en funcion del entrenamiento. \n",
    "\n",
    "Partimos de la base de que en P60 hay diferencia y que son equivalentes todos los sujetos."
   ]
  },
  {
   "cell_type": "code",
   "execution_count": 2,
   "metadata": {
    "collapsed": false
   },
   "outputs": [
    {
     "name": "stderr",
     "output_type": "stream",
     "text": [
      "/home/ionatan/Gits/IPyVisound/scripts/statsTransferencia.py:536: SettingWithCopyWarning: A value is trying to be set on a copy of a slice from a DataFrame\n",
      "  dataByAlias[cts.P_FaseActiva].replace('ExperimentoCompleto', 'TestFinal', inplace=True)\n",
      "/home/ionatan/Gits/IPyVisound/scripts/statsTransferencia.py:508: SettingWithCopyWarning: A value is trying to be set on a copy of a slice from a DataFrame\n",
      "  dataByAlias[cts.P_OrientacionEntrenamiento].replace('A30', 'P30', inplace=True)\n",
      "/home/ionatan/Gits/IPyVisound/scripts/statsTransferencia.py:510: SettingWithCopyWarning: A value is trying to be set on a copy of a slice from a DataFrame\n",
      "  dataByAlias[cts.P_OrientacionEntrenamiento].replace('P30', 'CONTROL', inplace=True)\n"
     ]
    }
   ],
   "source": [
    "# Cargamos los datos\n",
    "\n",
    "%matplotlib inline\n",
    "%load_ext autoreload\n",
    "%autoreload 2\n",
    "from scripts.db import *\n",
    "from scripts.plots import *\n",
    "import scipy.stats as stats\n",
    "from scripts.statsTransferencia import *\n",
    "import numpy as np\n",
    "import statsmodels.api as sm\n",
    "import statsmodels.formula.api as smf\n",
    "import pandas as pd\n",
    "\n",
    "resumen = dataNumerica()\n",
    "data = pd.DataFrame.from_dict(resumen, orient='index')\n",
    "\n",
    "#Trasnformamos los valores que interesan en columnas (Por ahora voy a hacer todo en angulos)\n",
    "dataTest = pd.DataFrame()\n",
    "dataTestI = pd.DataFrame()\n",
    "dataTestF = pd.DataFrame()\n",
    "for i, col in enumerate([\"P30\", \"P60\", \"P120\",\"P150\",\"A30\",\"A60\",\"A120\",\"A150\"]):\n",
    "    dataTestI[\"I\"+col] = data['TestInicialAngulos'].map(lambda x: x[i])\n",
    "    dataTest[\"I\"+col] = data['TestInicialAngulos'].map(lambda x: x[i])\n",
    "for i, col in enumerate([\"P30\", \"P60\", \"P120\",\"P150\",\"A30\",\"A60\",\"A120\",\"A150\"]):\n",
    "    dataTestF[\"F\"+col] = data['TestFinalAngulos'].map(lambda x: x[i])\n",
    "    dataTest[\"F\"+col] = data['TestFinalAngulos'].map(lambda x: x[i]) "
   ]
  },
  {
   "cell_type": "code",
   "execution_count": 31,
   "metadata": {
    "collapsed": false
   },
   "outputs": [
    {
     "name": "stdout",
     "output_type": "stream",
     "text": [
      "Anova en FP30 comparando entrenados en P, en A y control:(2.2447124304267305, 0.17652211716517538)\n",
      "Anova en FP30 comparando entrenados en P(sin ivan), en A y control:(9.4644616467276403, 0.013942581356829426)\n",
      "ttets entre P* y C: (array(-3.979591836734694), 0.010535007334484406)\n",
      "ttets entre A* y C: (array(-0.45702357907534796), 0.6668241482506756)\n",
      "ttets entre A* y P: (array(7.48410079474364), 0.017389072707205303)\n",
      "Anova inicial entre P, A y C:(2.3899991837110295, 0.098396502907738645)\n",
      "Anova final en P de orientaciones no entrenadas:(1.1504380277591839, 0.33334375621194873)\n"
     ]
    }
   ],
   "source": [
    "# Vamos a testear la hipotesis de que los sujetos entrenados mejoran respecto a los controles en la orientacion P30\n",
    "\n",
    "# Incluyendo a todos\n",
    "entrenadosA = dataTestF['FP30'].iloc[0:2]\n",
    "entrenadosP = dataTestF['FP30'].iloc[2:5]\n",
    "entrenadosNO = dataTestF['FP30'].iloc[5:10]\n",
    "# hacemos un anova\n",
    "print ('Anova en FP30 comparando entrenados en P, en A y control:' + str(stats.f_oneway (entrenadosP,entrenadosA,entrenadosNO)))\n",
    "\n",
    "# Sin incluir a ivan\n",
    "entrenadosA = dataTestF['FP30'].iloc[0:2]\n",
    "entrenadosP = dataTestF['FP30'].iloc[[2,4]]\n",
    "entrenadosNO = dataTestF['FP30'].iloc[5:10]\n",
    "# hacemos un anova\n",
    "print ('Anova en FP30 comparando entrenados en P(sin ivan), en A y control:' + str(stats.f_oneway (entrenadosP,entrenadosA,entrenadosNO)))\n",
    "print ('ttets entre P* y C: ' + str(stats.ttest_ind(entrenadosP, entrenadosNO)))\n",
    "print ('ttets entre A* y C: ' + str(stats.ttest_ind(entrenadosA, entrenadosNO)))\n",
    "print ('ttets entre A* y P: ' + str(stats.ttest_ind(entrenadosA, entrenadosP)))\n",
    "\n",
    "\n",
    "# Comparamos los niveles iniciales en P,AyC\n",
    "entrenadosA = dataTestI.iloc[0:2].stack().reset_index()[0].tolist()\n",
    "entrenadosP = dataTestI.iloc[2:5].stack().reset_index()[0].tolist()\n",
    "entrenadosC = dataTestI.iloc[5:10].stack().reset_index()[0].tolist()\n",
    "print ('Anova inicial entre P, A y C:' + str(stats.f_oneway (entrenadosP,entrenadosA,entrenadosC)))\n",
    "\n",
    "# Comparamos los niveles finales en P,AyC\n",
    "entrenadosA = dataTestF[['FP60','FP120','FP150']].iloc[0:2].stack().reset_index()[0].tolist()\n",
    "entrenadosP = dataTestF[['FP60','FP120','FP150']].iloc[[2,4]].stack().reset_index()[0].tolist()\n",
    "entrenadosC = dataTestF[['FP60','FP120','FP150']].iloc[5:10].stack().reset_index()[0].tolist()\n",
    "print ('Anova final en P de orientaciones no entrenadas:' + str(stats.f_oneway (entrenadosP,entrenadosA,entrenadosC)))\n",
    "\n",
    "\n"
   ]
  },
  {
   "cell_type": "code",
   "execution_count": 38,
   "metadata": {
    "collapsed": false
   },
   "outputs": [
    {
     "name": "stdout",
     "output_type": "stream",
     "text": [
      "Anova en FA30 comparando entrenados en P, en A y control:(2.8126588465297999, 0.1269097641472913)\n",
      "ttets en control entre antes y despues pareado: (array(2.5126699763132367), 0.016227051496985639)\n",
      "ttets en control entre antes y despues: (array(1.9134198756118193), 0.059363609377960112)\n"
     ]
    }
   ],
   "source": [
    "# Vamos a testear la hipotesis de que los sujetos entrenados mejoran respecto a los controles en la orientacion A30\n",
    "\n",
    "# Incluyendo a todos\n",
    "entrenadosA = dataTestF['FA30'].iloc[0:2]\n",
    "entrenadosP = dataTestF['FA30'].iloc[2:5]\n",
    "entrenadosC = dataTestF['FA30'].iloc[5:10]\n",
    "# hacemos un anova\n",
    "print ('Anova en FA30 comparando entrenados en P, en A y control:' + str(stats.f_oneway (entrenadosP,entrenadosA,entrenadosC)))\n",
    "\n",
    "#Ttest para ver si los controles mejoran o no.\n",
    "antes = dataTestI.iloc[5:10].stack().reset_index()[0].tolist()\n",
    "despues = dataTestF.iloc[5:10].stack().reset_index()[0].tolist()\n",
    "print ('ttets en control entre antes y despues pareado: ' + str(stats.ttest_rel(antes, despues)))\n",
    "print ('ttets en control entre antes y despues: ' + str(stats.ttest_ind(antes, despues)))\n"
   ]
  }
 ],
 "metadata": {
  "kernelspec": {
   "display_name": "Python 3",
   "language": "python",
   "name": "python3"
  },
  "language_info": {
   "codemirror_mode": {
    "name": "ipython",
    "version": 3
   },
   "file_extension": ".py",
   "mimetype": "text/x-python",
   "name": "python",
   "nbconvert_exporter": "python",
   "pygments_lexer": "ipython3",
   "version": "3.4.3"
  }
 },
 "nbformat": 4,
 "nbformat_minor": 0
}
