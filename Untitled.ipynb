{
 "cells": [
  {
   "cell_type": "code",
   "execution_count": 3,
   "metadata": {
    "collapsed": false
   },
   "outputs": [
    {
     "name": "stdout",
     "output_type": "stream",
     "text": [
      "The autoreload extension is already loaded. To reload it, use:\n",
      "  %reload_ext autoreload\n"
     ]
    }
   ],
   "source": [
    "# Cosas varias de forma\n",
    "\n",
    "%matplotlib inline\n",
    "%load_ext autoreload\n",
    "%autoreload 2\n",
    "from IPython.display import display\n",
    "\n",
    "from scripts.pruebas import *\n",
    "\n",
    "# Carga la configuracion\n",
    "settings = {}\n",
    "settings['FilterCodeVersion'] = 12 # 0 es sin filtro\n",
    "settings['FilterLevelVersion'] = 0 # 0 es sin filtro\n",
    "settings['FilterResourcesVersion'] = 0 # 0 es sin filtro\n",
    "settings['ShowTimeline'] = True\n",
    "settings['ShowPlotsPorLevel'] = True"
   ]
  },
  {
   "cell_type": "code",
   "execution_count": 129,
   "metadata": {
    "collapsed": false,
    "scrolled": true
   },
   "outputs": [
    {
     "data": {
      "text/plain": [
       "'Numero de sesiones cargadas: 7'"
      ]
     },
     "metadata": {},
     "output_type": "display_data"
    },
    {
     "data": {
      "text/plain": [
       "'Numero de sesiones levels: 29'"
      ]
     },
     "metadata": {},
     "output_type": "display_data"
    },
    {
     "data": {
      "text/plain": [
       "'Numero de sesiones trials: 1344'"
      ]
     },
     "metadata": {},
     "output_type": "display_data"
    },
    {
     "name": "stdout",
     "output_type": "stream",
     "text": [
      "recursos cargados del archivo\n"
     ]
    }
   ],
   "source": [
    "touchs, sounds = load()"
   ]
  },
  {
   "cell_type": "code",
   "execution_count": 130,
   "metadata": {
    "collapsed": false
   },
   "outputs": [
    {
     "data": {
      "text/plain": [
       "0       1449524935330\n",
       "1       1449524935330\n",
       "2       1449524935330\n",
       "3       1449524935330\n",
       "4       1449524935330\n",
       "5       1449524935330\n",
       "6       1449524935330\n",
       "7       1449524935330\n",
       "8       1449524935330\n",
       "9       1449524935330\n",
       "10      1449524935330\n",
       "11      1449524935330\n",
       "12      1449524935330\n",
       "13      1449524935330\n",
       "14      1449524935330\n",
       "15      1449524935330\n",
       "16      1449524935330\n",
       "17      1449524935330\n",
       "18      1449524935330\n",
       "19      1449524935330\n",
       "20      1449524935330\n",
       "21      1449524935330\n",
       "22      1449524935330\n",
       "23      1449524935330\n",
       "24      1449524935330\n",
       "25      1449524935330\n",
       "26      1449524935330\n",
       "27      1449524935330\n",
       "28      1449524935330\n",
       "29      1449524935330\n",
       "            ...      \n",
       "1130    1449524935330\n",
       "1131    1449524935330\n",
       "1132    1449524935330\n",
       "1133    1449524935330\n",
       "1134    1449524935330\n",
       "1135    1449524935330\n",
       "1136    1449524935330\n",
       "1137    1449524935330\n",
       "1138    1449524935330\n",
       "1139    1449524935330\n",
       "1140    1449524935330\n",
       "1141    1449524935330\n",
       "1142    1449524935330\n",
       "1143    1449524935330\n",
       "1144    1449524935330\n",
       "1145    1449524935330\n",
       "1146    1449524935330\n",
       "1147    1449524935330\n",
       "1148    1449524935330\n",
       "1149    1449524935330\n",
       "1150    1449524935330\n",
       "1151    1449524935330\n",
       "1152    1449524935330\n",
       "1153    1449524935330\n",
       "1154    1449524935330\n",
       "1155    1449524935330\n",
       "1156    1449524935330\n",
       "1157    1449524935330\n",
       "1158    1449524935330\n",
       "1159    1449524935330\n",
       "Name: Alias, dtype: int64"
      ]
     },
     "metadata": {},
     "output_type": "display_data"
    }
   ],
   "source": [
    "display(touchs['Alias'])"
   ]
  },
  {
   "cell_type": "code",
   "execution_count": null,
   "metadata": {
    "collapsed": true
   },
   "outputs": [],
   "source": []
  }
 ],
 "metadata": {
  "kernelspec": {
   "display_name": "Python 3",
   "language": "python",
   "name": "python3"
  },
  "language_info": {
   "codemirror_mode": {
    "name": "ipython",
    "version": 3
   },
   "file_extension": ".py",
   "mimetype": "text/x-python",
   "name": "python",
   "nbconvert_exporter": "python",
   "pygments_lexer": "ipython3",
   "version": "3.4.3"
  }
 },
 "nbformat": 4,
 "nbformat_minor": 0
}
