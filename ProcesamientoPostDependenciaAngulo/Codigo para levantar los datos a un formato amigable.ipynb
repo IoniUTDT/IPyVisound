{
 "cells": [
  {
   "cell_type": "markdown",
   "metadata": {},
   "source": [
    "Estoy tratando de recuperar la info cruda del final del experimento que hice para medir la dependencia con el umbral. \n",
    "\n",
    "De los registros de consentimiento que tengo anotados figura que los datos los tome entre el 29/3/16 y el 14/4/16\n",
    "\n",
    "La idea es ir a backups de los db.json y volver a procesar todo rapido con la experiencia que ya tengo acumulada para hacer graficos diferentes a los que tengo guardados que son horribles. \n",
    "\n",
    "No tengo muy fresco como era el setup experimental ni la estructura de datos guardados, pero voy a ver que puedo hacer al respecto. Deberia tener al menos registro de 14 usuarios. "
   ]
  },
  {
   "cell_type": "markdown",
   "metadata": {},
   "source": [
    "Copio a la carpeta data todos los archivos json que corresponden a esas fechas. Quiero un codigo que busque todos los archivos y recupere la info util\n",
    "\n",
    "Acabo de encontrar en este archivo que los sujetos completaron una encuesta cuando terminaron y tiene marcas temporales!! :)\n",
    "\n",
    "https://docs.google.com/spreadsheets/d/1hV9QL78TFX2Ka4ROaAg9mHZ2WgcUDArZM2W8W_15wkg/edit#gid=1050318047\n",
    "\n"
   ]
  },
  {
   "cell_type": "code",
   "execution_count": 2,
   "metadata": {
    "collapsed": false
   },
   "outputs": [],
   "source": [
    "# Primero queremos listas todos los archivos\n",
    "\n",
    "from os import listdir\n",
    "from os.path import isfile, join\n",
    "onlyfiles = [f for f in listdir('./data/') if isfile(join('./data/', f))]"
   ]
  },
  {
   "cell_type": "code",
   "execution_count": 47,
   "metadata": {
    "collapsed": false
   },
   "outputs": [],
   "source": [
    "# Queremos transformar cada archivo en un dataframe con etradas para ver entradas repetidas\n",
    "\n",
    "import pandas as pd\n",
    "import json\n",
    "\n",
    "#Creamos la lista vacia de envios\n",
    "\n",
    "sesiones = []\n",
    "levels = []\n",
    "convergencias = []\n",
    "\n",
    "#Buscamos leer todas las entradas\n",
    "for file in onlyfiles:\n",
    "    with open('./data/'+file) as data_file:\n",
    "            db = json.load(data_file)\n",
    "    for envio in db['Envio']:\n",
    "        if envio['tipoDeEnvio'] == 'NEWSESION':\n",
    "            sesiones = sesiones + [envio]\n",
    "        elif envio['tipoDeEnvio'] == 'NEWLEVEL':\n",
    "            levels = levels + [envio]\n",
    "        elif envio['tipoDeEnvio'] == 'CONVERGENCIA':\n",
    "            convergencias = convergencias + [envio]\n",
    "        elif envio['tipoDeEnvio']:\n",
    "            print (envio['tipoDeEnvio'])\n",
    "        else: \n",
    "            print (envio)\n",
    "\n",
    "# Filtramos por envios unicos\n",
    "envioshechos = []\n",
    "\n",
    "sesionesUnique = []\n",
    "for envio in sesiones:\n",
    "    if not envio['instance'] in envioshechos:\n",
    "        sesionesUnique = sesionesUnique + [json.loads(envio['contenido'])]\n",
    "        envioshechos = envioshechos + [envio['instance']]\n",
    "\n",
    "levelsUnique = []\n",
    "for envio in levels:\n",
    "    if not envio['instance'] in envioshechos:\n",
    "        levelsUnique = levelsUnique + [json.loads(envio['contenido'])]\n",
    "        envioshechos = envioshechos + [envio['instance']]\n",
    "\n",
    "convergenciasUnique = []\n",
    "for envio in convergencias:\n",
    "    if not envio['instance'] in envioshechos:\n",
    "        convergenciasUnique = convergenciasUnique + [json.loads(envio['contenido'])]\n",
    "        envioshechos = envioshechos + [envio['instance']]\n"
   ]
  },
  {
   "cell_type": "markdown",
   "metadata": {},
   "source": [
    "Definimos la lista de usuarios que hicieron el experimento. Recupere de la compu donde se hicieron quien es quien a partir de las carpetas donde se guardaron los datos"
   ]
  },
  {
   "cell_type": "code",
   "execution_count": 38,
   "metadata": {
    "collapsed": false
   },
   "outputs": [
    {
     "data": {
      "text/plain": [
       "142"
      ]
     },
     "execution_count": 38,
     "metadata": {},
     "output_type": "execute_result"
    }
   ],
   "source": [
    "usuarios = {459443370368:'Agustin', 1460500029182:'Chalukian', 1460568434768:'Chechu',1459459628908:'Euge',\n",
    "           1459455977180:'Flor', 1459450579229:'Guido', 1460384100961:'Jule', 1459368818910:'Lungo',\n",
    "           1460499050987:'Marta', 1459358889070:'Martina', 1460645753225:'Pierina', 1459350343607:'Roli'}"
   ]
  },
  {
   "cell_type": "code",
   "execution_count": 53,
   "metadata": {
    "collapsed": false
   },
   "outputs": [
    {
     "data": {
      "text/plain": [
       "{'codeVersion': 30,\n",
       " 'plataforma': 'Desktop',\n",
       " 'resourcesVersion': 1,\n",
       " 'sessionInstance': 1459264438837,\n",
       " 'userId': 1459264438868}"
      ]
     },
     "execution_count": 53,
     "metadata": {},
     "output_type": "execute_result"
    }
   ],
   "source": [
    "convergenciasUnique[0]['expLog']['session']"
   ]
  }
 ],
 "metadata": {
  "kernelspec": {
   "display_name": "Python 3",
   "language": "python",
   "name": "python3"
  },
  "language_info": {
   "codemirror_mode": {
    "name": "ipython",
    "version": 3
   },
   "file_extension": ".py",
   "mimetype": "text/x-python",
   "name": "python",
   "nbconvert_exporter": "python",
   "pygments_lexer": "ipython3",
   "version": "3.4.3"
  }
 },
 "nbformat": 4,
 "nbformat_minor": 0
}
