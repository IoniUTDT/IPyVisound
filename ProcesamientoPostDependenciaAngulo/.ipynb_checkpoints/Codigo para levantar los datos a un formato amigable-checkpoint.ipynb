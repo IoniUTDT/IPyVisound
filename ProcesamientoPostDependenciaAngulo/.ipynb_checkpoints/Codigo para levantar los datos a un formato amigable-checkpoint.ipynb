{
 "cells": [
  {
   "cell_type": "markdown",
   "metadata": {},
   "source": [
    "Estoy tratando de recuperar la info cruda del final del experimento que hice para medir la dependencia con el umbral. \n",
    "\n",
    "De los registros de consentimiento que tengo anotados figura que los datos los tome entre el 29/3/16 y el 14/4/16\n",
    "\n",
    "La idea es ir a backups de los db.json y volver a procesar todo rapido con la experiencia que ya tengo acumulada para hacer graficos diferentes a los que tengo guardados que son horribles. \n",
    "\n",
    "No tengo muy fresco como era el setup experimental ni la estructura de datos guardados, pero voy a ver que puedo hacer al respecto. Deberia tener al menos registro de 14 usuarios. "
   ]
  },
  {
   "cell_type": "markdown",
   "metadata": {},
   "source": [
    "Copio a la carpeta data todos los archivos json que corresponden a esas fechas. Quiero un codigo que busque todos los archivos y recupere la info util\n",
    "\n",
    "Acabo de encontrar en este archivo que los sujetos completaron una encuesta cuando terminaron y tiene marcas temporales!! :)\n",
    "\n",
    "https://docs.google.com/spreadsheets/d/1hV9QL78TFX2Ka4ROaAg9mHZ2WgcUDArZM2W8W_15wkg/edit#gid=1050318047\n",
    "\n"
   ]
  },
  {
   "cell_type": "code",
   "execution_count": 1,
   "metadata": {
    "collapsed": false
   },
   "outputs": [],
   "source": [
    "# Primero queremos listas todos los archivos\n",
    "\n",
    "from os import listdir\n",
    "from os.path import isfile, join\n",
    "onlyfiles = [f for f in listdir('./data/') if isfile(join('./data/', f))]"
   ]
  },
  {
   "cell_type": "code",
   "execution_count": 2,
   "metadata": {
    "collapsed": false
   },
   "outputs": [],
   "source": [
    "# Queremos transformar cada archivo en un dataframe con etradas para ver entradas repetidas\n",
    "\n",
    "import pandas as pd\n",
    "import json\n",
    "\n",
    "#Creamos la lista vacia de envios\n",
    "\n",
    "sesiones = []\n",
    "levels = []\n",
    "convergencias = []\n",
    "\n",
    "#Buscamos leer todas las entradas\n",
    "for file in onlyfiles:\n",
    "    with open('./data/'+file) as data_file:\n",
    "            db = json.load(data_file)\n",
    "    for envio in db['Envio']:\n",
    "        if envio['tipoDeEnvio'] == 'NEWSESION':\n",
    "            sesiones = sesiones + [envio]\n",
    "        elif envio['tipoDeEnvio'] == 'NEWLEVEL':\n",
    "            levels = levels + [envio]\n",
    "        elif envio['tipoDeEnvio'] == 'CONVERGENCIA':\n",
    "            convergencias = convergencias + [envio]\n",
    "        elif envio['tipoDeEnvio']:\n",
    "            print (envio['tipoDeEnvio'])\n",
    "        else: \n",
    "            print (envio)\n",
    "\n",
    "# Filtramos por envios unicos\n",
    "envioshechos = []\n",
    "\n",
    "sesionesUnique = []\n",
    "for envio in sesiones:\n",
    "    if not envio['instance'] in envioshechos:\n",
    "        sesionesUnique = sesionesUnique + [json.loads(envio['contenido'])]\n",
    "        envioshechos = envioshechos + [envio['instance']]\n",
    "\n",
    "levelsUnique = []\n",
    "for envio in levels:\n",
    "    if not envio['instance'] in envioshechos:\n",
    "        levelsUnique = levelsUnique + [json.loads(envio['contenido'])]\n",
    "        envioshechos = envioshechos + [envio['instance']]\n",
    "\n",
    "convergenciasUnique = []\n",
    "for envio in convergencias:\n",
    "    if not envio['instance'] in envioshechos:\n",
    "        convergenciasUnique = convergenciasUnique + [json.loads(envio['contenido'])]\n",
    "        envioshechos = envioshechos + [envio['instance']]\n"
   ]
  },
  {
   "cell_type": "markdown",
   "metadata": {},
   "source": [
    "Definimos la lista de usuarios que hicieron el experimento. Recupere de la compu donde se hicieron quien es quien a partir de las carpetas donde se guardaron los datos"
   ]
  },
  {
   "cell_type": "code",
   "execution_count": 3,
   "metadata": {
    "collapsed": false
   },
   "outputs": [],
   "source": [
    "usuariosOLD = {1459443370368:'Agustin', 1460500029182:'Chalukian', 1460568434768:'Chechu',1459459628908:'Euge',\n",
    "           1459455977180:'Flor', 1459450579229:'Guido', 1460384100961:'Jule', 1459368818910:'Lungo',\n",
    "           1460499050987:'Marta', 1459358889070:'Martina', 1460645753225:'Pierina', 1459350343607:'Roli'}\n",
    "usuarios = {1459443370368:'Agustin', 1460500029182:'Chalukian', 1460568434768:'Chechu',1459459628908:'Euge',\n",
    "           1459455977180:'Flor', 1459450579229:'Guido', 1460384100961:'Jule', 1459368818910:'Lungo',\n",
    "           1460497107413:'Marta', 1459358889070:'Martina', 1460645753225:'Pierina', 1459350343607:'Roli'}"
   ]
  },
  {
   "cell_type": "code",
   "execution_count": 4,
   "metadata": {
    "collapsed": false
   },
   "outputs": [],
   "source": [
    "# Queremos aplicar un filtro donde, primero se filtren todoas las entradas que tengan una sesion para usuarios validos\n",
    "sesionesFiltradas = [item for item in sesionesUnique if item['userId'] in usuarios.keys()]\n",
    "# Por alguna razon se ve que un usuario hizo dos sesiones. \n",
    "\n",
    "# Aplicamos un filtro que selecciones los niveles y las convergencias que hayan sucedido en alguna de las sesiones filtradas\n",
    "sesionesInstances = [item['sessionInstance'] for item in sesionesFiltradas]\n",
    "\n",
    "levelsFiltrados = [item for item in levelsUnique if item['session']['sessionInstance'] in sesionesInstances]\n",
    "convergenciasFiltradas = [item for item in convergenciasUnique if item['expLog']['session']['sessionInstance'] in sesionesInstances]"
   ]
  },
  {
   "cell_type": "code",
   "execution_count": 5,
   "metadata": {
    "collapsed": false
   },
   "outputs": [],
   "source": [
    "# Pasamos el formato a dataframe\n",
    "sesionesPanda = pd.DataFrame(sesionesFiltradas)\n",
    "levelsPanda = pd.DataFrame(levelsFiltrados)\n",
    "convergenciasPanda = pd.DataFrame(convergenciasFiltradas)"
   ]
  },
  {
   "cell_type": "code",
   "execution_count": 6,
   "metadata": {
    "collapsed": false
   },
   "outputs": [
    {
     "name": "stdout",
     "output_type": "stream",
     "text": [
      "[1459350343607 1459358889070 1459368818910 1459443370368 1459450579229\n",
      " 1459455977180 1459459628908 1460384100961 1460497107413 1460500029182\n",
      " 1460568434768 1460645753225]\n",
      "{1459443370368: 'Agustin', 1460384100961: 'Jule', 1460645753225: 'Pierina', 1459459628908: 'Euge', 1459358889070: 'Martina', 1460568434768: 'Chechu', 1460500029182: 'Chalukian', 1459350343607: 'Roli', 1459455977180: 'Flor', 1459450579229: 'Guido', 1459368818910: 'Lungo', 1460497107413: 'Marta'}\n"
     ]
    }
   ],
   "source": [
    "### Retocamos un poco la info para que sea mas manejable (basicamente hay que extraer cada cosa de adentro de los dict\n",
    "cpd = convergenciasPanda\n",
    "\n",
    "for key in cpd.iloc[0]['expLog']:\n",
    "    cpd[key] = cpd['expLog'].map(lambda x: x[key])\n",
    "cpd = cpd.drop('expLog',1)\n",
    "for key in cpd.iloc[0]['session']:\n",
    "    cpd[key] = cpd['session'].map(lambda x: x[key])\n",
    "cpd = cpd.drop('session',1)\n",
    "\n",
    "for key in cpd.iloc[0]['dinamica']:\n",
    "    cpd[key] = cpd['dinamica'].map(lambda x: x[key])\n",
    "cpd = cpd.drop('dinamica',1)\n",
    "cpd['ultimoTrial'] = cpd['historial'].map(lambda x: x[-1] if (len (x) > 1) else None)\n",
    "for key in cpd.iloc[0]['ultimoTrial']:\n",
    "    cpd[key] = cpd['ultimoTrial'].map(lambda x: x[key] if (x) else None)\n",
    "cpd = cpd.drop('ultimoTrial',1)\n",
    "\n",
    "for key in cpd.iloc[0]['estimulo']: # Hay que tener cuidado que no todos los dict son iguales. Este es un dict de paralelismio\n",
    "    cpd[key] = cpd['estimulo'].map(lambda x: None if not x else x[key] if key in x else None)\n",
    "for key in cpd.iloc[7]['estimulo']: # Hay que tener cuidado que no todos los dict son iguales. Este es un dict de angulos\n",
    "    cpd[key] = cpd['estimulo'].map(lambda x: None if not x else x[key] if key in x else None)\n",
    "cpd = cpd.drop('estimulo',1)\n",
    "\n",
    "#Revisando los archivos fuente dentro del jar de la versión 31 (que es la que se uso en el experimento) chequie que el valor reportado de los estimulos es el semi angulo para el caso de las serie de paralelismo.\n",
    "#En el caso de los angulos, es el angulo formado, que ya procesa el tema dela desviacion.\n",
    "cpd['desviacionDoble'] = cpd['desviacion'] * 2\n",
    "\n",
    "# Sacamos niveles espureos\n",
    "cpd = cpd[cpd['expName']!='UmbralAngulosTutorial']\n",
    "cpd = cpd[cpd['expName']!='UmbralParalelismoTutorial']"
   ]
  },
  {
   "cell_type": "markdown",
   "metadata": {},
   "source": [
    "Ahora vamos a hacer los graficos al estilo pandas como hicimos las distribuciones en el experimento de los resultados finales."
   ]
  },
  {
   "cell_type": "code",
   "execution_count": 21,
   "metadata": {
    "collapsed": false
   },
   "outputs": [
    {
     "name": "stdout",
     "output_type": "stream",
     "text": [
      "[1459350343607 1459358889070 1459368818910 1459443370368 1459450579229\n",
      " 1459455977180 1459459628908 1460384100961 1460499050987 1460500029182\n",
      " 1460568434768 1460645753225]\n"
     ]
    }
   ],
   "source": [
    "orientaciones = cpd['referencia'].unique()\n",
    "experimentos = cpd['expName'].unique()\n",
    "print (sesionesPanda['userId'].unique())"
   ]
  },
  {
   "cell_type": "code",
   "execution_count": 13,
   "metadata": {
    "collapsed": false
   },
   "outputs": [
    {
     "data": {
      "text/plain": [
       "42"
      ]
     },
     "execution_count": 13,
     "metadata": {},
     "output_type": "execute_result"
    }
   ],
   "source": [
    "len (cpd[cpd['referencia']==orientaciones[2]])"
   ]
  },
  {
   "cell_type": "code",
   "execution_count": 16,
   "metadata": {
    "collapsed": false
   },
   "outputs": [
    {
     "data": {
      "text/plain": [
       "array([1459350343607, 1459358889070, 1459368818910, 1459443370368,\n",
       "       1459450579229, 1459455977180, 1459459628908, 1460384100961,\n",
       "       1460500029182, 1460568434768, 1460645753225])"
      ]
     },
     "execution_count": 16,
     "metadata": {},
     "output_type": "execute_result"
    }
   ],
   "source": [
    "experimentos\n",
    "usuarios"
   ]
  }
 ],
 "metadata": {
  "kernelspec": {
   "display_name": "Python 3",
   "language": "python",
   "name": "python3"
  },
  "language_info": {
   "codemirror_mode": {
    "name": "ipython",
    "version": 3
   },
   "file_extension": ".py",
   "mimetype": "text/x-python",
   "name": "python",
   "nbconvert_exporter": "python",
   "pygments_lexer": "ipython3",
   "version": "3.4.3"
  }
 },
 "nbformat": 4,
 "nbformat_minor": 0
}
