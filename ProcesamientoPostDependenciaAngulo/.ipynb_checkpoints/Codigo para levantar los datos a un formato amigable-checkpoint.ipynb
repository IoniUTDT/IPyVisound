{
 "cells": [
  {
   "cell_type": "markdown",
   "metadata": {},
   "source": [
    "Estoy tratando de recuperar la info cruda del final del experimento que hice para medir la dependencia con el umbral. \n",
    "\n",
    "De los registros de consentimiento que tengo anotados figura que los datos los tome entre el 29/3/16 y el 14/4/16\n",
    "\n",
    "La idea es ir a backups de los db.json y volver a procesar todo rapido con la experiencia que ya tengo acumulada para hacer graficos diferentes a los que tengo guardados que son horribles. \n",
    "\n",
    "No tengo muy fresco como era el setup experimental ni la estructura de datos guardados, pero voy a ver que puedo hacer al respecto. Deberia tener al menos registro de 14 usuarios. "
   ]
  },
  {
   "cell_type": "markdown",
   "metadata": {},
   "source": [
    "Copio a la carpeta data todos los archivos json que corresponden a esas fechas. Quiero un codigo que busque todos los archivos y recupere la info util\n",
    "\n",
    "Acabo de encontrar en este archivo que los sujetos completaron una encuesta cuando terminaron y tiene marcas temporales!! :)\n",
    "\n",
    "https://docs.google.com/spreadsheets/d/1hV9QL78TFX2Ka4ROaAg9mHZ2WgcUDArZM2W8W_15wkg/edit#gid=1050318047\n",
    "\n"
   ]
  },
  {
   "cell_type": "code",
   "execution_count": 1,
   "metadata": {
    "collapsed": true
   },
   "outputs": [],
   "source": [
    "#imnportamos cosas y giladas\n",
    "%matplotlib inline\n",
    "from os import listdir\n",
    "from os.path import isfile, join\n"
   ]
  },
  {
   "cell_type": "code",
   "execution_count": 2,
   "metadata": {
    "collapsed": false
   },
   "outputs": [],
   "source": [
    "# Primero queremos listas todos los archivos\n",
    "onlyfiles = [f for f in listdir('./data/') if isfile(join('./data/', f))]\n",
    "\n",
    "# Queremos transformar cada archivo en un dataframe con entradas para ver entradas repetidas\n",
    "\n",
    "import pandas as pd\n",
    "import json\n",
    "\n",
    "#Creamos la lista vacia de envios\n",
    "\n",
    "sesiones = []\n",
    "levels = []\n",
    "convergencias = []\n",
    "\n",
    "#Buscamos leer todas las entradas\n",
    "for file in onlyfiles:\n",
    "    with open('./data/'+file) as data_file:\n",
    "            db = json.load(data_file)\n",
    "    for envio in db['Envio']:\n",
    "        if envio['tipoDeEnvio'] == 'NEWSESION':\n",
    "            sesiones = sesiones + [envio]\n",
    "        elif envio['tipoDeEnvio'] == 'NEWLEVEL':\n",
    "            levels = levels + [envio]\n",
    "        elif envio['tipoDeEnvio'] == 'CONVERGENCIA':\n",
    "            convergencias = convergencias + [envio]\n",
    "        elif envio['tipoDeEnvio']:\n",
    "            print (envio['tipoDeEnvio'])\n",
    "        else: \n",
    "            print (envio)\n",
    "\n",
    "# Filtramos por envios unicos\n",
    "envioshechos = []\n",
    "\n",
    "sesionesUnique = []\n",
    "for envio in sesiones:\n",
    "    if not envio['instance'] in envioshechos:\n",
    "        sesionesUnique = sesionesUnique + [json.loads(envio['contenido'])]\n",
    "        envioshechos = envioshechos + [envio['instance']]\n",
    "\n",
    "levelsUnique = []\n",
    "for envio in levels:\n",
    "    if not envio['instance'] in envioshechos:\n",
    "        levelsUnique = levelsUnique + [json.loads(envio['contenido'])]\n",
    "        envioshechos = envioshechos + [envio['instance']]\n",
    "\n",
    "convergenciasUnique = []\n",
    "for envio in convergencias:\n",
    "    if not envio['instance'] in envioshechos:\n",
    "        convergenciasUnique = convergenciasUnique + [json.loads(envio['contenido'])]\n",
    "        envioshechos = envioshechos + [envio['instance']]\n"
   ]
  },
  {
   "cell_type": "code",
   "execution_count": 3,
   "metadata": {
    "collapsed": false
   },
   "outputs": [],
   "source": [
    "# Acabo de descubrir que los envio de Pierina nunca se hicieron bien. Copie en la carpeta dataCruda los envios que nunca se hicieron y recupere de la compu\n",
    "onlyfiles2 = [f for f in listdir('./DataCruda/') if isfile(join('./DataCruda/', f))]\n",
    "import os\n",
    "\n",
    "for file in onlyfiles2:\n",
    "    name, ext = os.path.splitext( os.path.basename(file))\n",
    "    with open('./DataCruda/'+file) as data_file:\n",
    "            data = json.load(data_file)\n",
    "    if not int(name) in envioshechos:\n",
    "        if ext == '.NEWLEVEL':\n",
    "            levelsUnique = levelsUnique + [data]\n",
    "        if ext == '.NEWSESION':\n",
    "            sesionesUnique = sesionesUnique + [data]\n",
    "        if ext == '.CONVERGENCIA':\n",
    "            convergenciasUnique = convergenciasUnique + [data]    \n",
    "\n",
    "        "
   ]
  },
  {
   "cell_type": "markdown",
   "metadata": {},
   "source": [
    "Definimos la lista de usuarios que hicieron el experimento. Recupere de la compu donde se hicieron quien es quien a partir de las carpetas donde se guardaron los datos"
   ]
  },
  {
   "cell_type": "code",
   "execution_count": 4,
   "metadata": {
    "collapsed": false
   },
   "outputs": [],
   "source": [
    "usuarios = {1459443370368:'Agustin', 1460500029182:'Chalukian', 1460568434768:'Chechu',1459459628908:'Euge',\n",
    "           1459455977180:'Flor', 1459450579229:'Guido', 1460384100961:'Jule', 1459368818910:'Lungo',\n",
    "           1460497107413:'Marta', 1459358889070:'Martina', 1460645753225:'Pierina', 1459350343607:'Roli'}"
   ]
  },
  {
   "cell_type": "code",
   "execution_count": 5,
   "metadata": {
    "collapsed": false
   },
   "outputs": [],
   "source": [
    "# Queremos aplicar un filtro donde, primero se filtren todoas las entradas que tengan una sesion para usuarios validos\n",
    "sesionesFiltradas = [item for item in sesionesUnique if item['userId'] in usuarios.keys()]\n",
    "# Por alguna razon se ve que un usuario hizo dos sesiones. \n",
    "\n",
    "# Aplicamos un filtro que selecciones los niveles y las convergencias que hayan sucedido en alguna de las sesiones filtradas\n",
    "sesionesInstances = [item['sessionInstance'] for item in sesionesFiltradas]\n",
    "\n",
    "levelsFiltrados = [item for item in levelsUnique if item['session']['sessionInstance'] in sesionesInstances]\n",
    "convergenciasFiltradas = [item for item in convergenciasUnique if item['expLog']['session']['sessionInstance'] in sesionesInstances]"
   ]
  },
  {
   "cell_type": "code",
   "execution_count": 6,
   "metadata": {
    "collapsed": false
   },
   "outputs": [],
   "source": [
    "# Pasamos el formato a dataframe\n",
    "sesionesPanda = pd.DataFrame(sesionesFiltradas)\n",
    "levelsPanda = pd.DataFrame(levelsFiltrados)\n",
    "convergenciasPanda = pd.DataFrame(convergenciasFiltradas)"
   ]
  },
  {
   "cell_type": "code",
   "execution_count": 7,
   "metadata": {
    "collapsed": false
   },
   "outputs": [],
   "source": [
    "### Retocamos un poco la info para que sea mas manejable (basicamente hay que extraer cada cosa de adentro de los dict\n",
    "cpd = convergenciasPanda\n",
    "\n",
    "for key in cpd.iloc[0]['expLog']:\n",
    "    cpd[key] = cpd['expLog'].map(lambda x: x[key])\n",
    "cpd = cpd.drop('expLog',1)\n",
    "for key in cpd.iloc[0]['session']:\n",
    "    cpd[key] = cpd['session'].map(lambda x: x[key])\n",
    "cpd = cpd.drop('session',1)\n",
    "\n",
    "for key in cpd.iloc[0]['dinamica']:\n",
    "    cpd[key] = cpd['dinamica'].map(lambda x: x[key])\n",
    "cpd = cpd.drop('dinamica',1)\n",
    "cpd['ultimoTrial'] = cpd['historial'].map(lambda x: x[-1] if (len (x) > 1) else None)\n",
    "for key in cpd.iloc[0]['ultimoTrial']:\n",
    "    cpd[key] = cpd['ultimoTrial'].map(lambda x: x[key] if (x) else None)\n",
    "cpd = cpd.drop('ultimoTrial',1)\n",
    "\n",
    "for key in cpd.iloc[0]['estimulo']: # Hay que tener cuidado que no todos los dict son iguales. Este es un dict de paralelismio\n",
    "    cpd[key] = cpd['estimulo'].map(lambda x: None if not x else x[key] if key in x else None)\n",
    "for key in cpd.iloc[7]['estimulo']: # Hay que tener cuidado que no todos los dict son iguales. Este es un dict de angulos\n",
    "    cpd[key] = cpd['estimulo'].map(lambda x: None if not x else x[key] if key in x else None)\n",
    "cpd = cpd.drop('estimulo',1)\n",
    "\n",
    "#Revisando los archivos fuente dentro del jar de la versión 31 (que es la que se uso en el experimento) chequie que el valor reportado de los estimulos es el semi angulo para el caso de las serie de paralelismo.\n",
    "#En el caso de los angulos, es el angulo formado, que ya procesa el tema dela desviacion.\n",
    "cpd['desviacionDoble'] = cpd['desviacion'] * 2\n",
    "\n",
    "# Sacamos niveles espureos\n",
    "cpd = cpd[cpd['expName']!='UmbralAngulosTutorial']\n",
    "cpd = cpd[cpd['expName']!='UmbralParalelismoTutorial']\n",
    "\n",
    "# Sacamos los registros de niveles que se marcaron en tiempo de ejecusion como no temrinados\n",
    "cpd = cpd[cpd['convergenciaFinalizada']]"
   ]
  },
  {
   "cell_type": "markdown",
   "metadata": {},
   "source": [
    "Ahora vamos a hacer los graficos al estilo pandas como hicimos las distribuciones en el experimento de los resultados finales."
   ]
  },
  {
   "cell_type": "code",
   "execution_count": 15,
   "metadata": {
    "collapsed": false
   },
   "outputs": [
    {
     "name": "stderr",
     "output_type": "stream",
     "text": [
      "/usr/lib/python3/dist-packages/matplotlib/figure.py:372: UserWarning: matplotlib is currently using a non-GUI backend, so cannot show the figure\n",
      "  \"matplotlib is currently using a non-GUI backend, \"\n"
     ]
    },
    {
     "data": {
      "text/plain": [
       "<matplotlib.figure.Figure at 0x7fc1495f2c50>"
      ]
     },
     "metadata": {},
     "output_type": "display_data"
    },
    {
     "data": {
      "image/png": "[encoded data removed]",
      "text/plain": [
       "<matplotlib.figure.Figure at 0x7fc1495f2cf8>"
      ]
     },
     "metadata": {},
     "output_type": "display_data"
    }
   ],
   "source": [
    "import seaborn as sns\n",
    "import matplotlib.pyplot as plt\n",
    "\n",
    "\n",
    "sns.set(color_codes=True)\n",
    "sns.set(style=\"white\", palette=\"muted\")\n",
    "sns.despine(left=True)\n",
    "\n",
    "fig, ax = plt.subplots(1,2)\n",
    "fig.set_size_inches(15,7.5)\n",
    "\n",
    "dataAngulos = []\n",
    "dataParalelismo = []\n",
    "dataAngulosL = []\n",
    "dataParalelismoL = []\n",
    "\n",
    "\n",
    "for experimento in cpd['expName'].unique():\n",
    "    for orientacion in cpd['referencia'].unique()[:3]:\n",
    "        \n",
    "        if experimento == 'UmbralParalelismoPiloto':\n",
    "            data=cpd[(cpd['referencia']==orientacion) & (cpd['expName']==experimento)]['desviacionDoble']\n",
    "            data = [valor if valor>0 else -valor for valor in data]\n",
    "            dataParalelismo  = dataParalelismo + [data]\n",
    "            dataParalelismoL = dataParalelismoL + [orientacion]\n",
    "            sns.distplot(data, label='Orientación ' + str(orientacion)+'º', axlabel='Umbral de deteccion', ax=ax[0])\n",
    "            \n",
    "        if experimento == 'UmbralAngulosPiloto':\n",
    "            data=cpd[(cpd['referencia']==orientacion) & (cpd['expName']==experimento)]['anguloFormado']\n",
    "            data = [valor -90 if valor>=90 else 90 - valor for valor in data]\n",
    "            dataAngulos = dataAngulos + [data]\n",
    "            dataAngulosL = dataAngulosL + [orientacion] \n",
    "            sns.distplot(data, label='Orientación ' + str(orientacion)+'º', axlabel='Umbral de deteccion', ax=ax[1])\n",
    "            \n",
    "for i in [0,1]:\n",
    "    ax[i].spines['right'].set_visible(False)\n",
    "    ax[i].spines['top'].set_visible(False)\n",
    "    ax[i].spines['left'].set_visible(False)\n",
    "    ax[i].get_yaxis().set_visible(False)\n",
    "    ax[i].legend()\n",
    "        \n",
    "ax[0].set_title('Distribucion de umbrales de deteccion (n=24)\\n para detectar paralelismo')\n",
    "ax[1].set_title('Distribucion de umbrales de deteccion (n=24)\\n para detectar angulos rectos')\n",
    "#cpd.columns\n",
    "fig.savefig('./../Images/ExperimentoUmbralResultadosGlobales', bbox_inches='tight')\n",
    "fig.show()"
   ]
  },
  {
   "cell_type": "markdown",
   "metadata": {},
   "source": [
    "Hay tendencias obvias en los graficos, pero estaria bueno hacer algun tipo de test para verificarlo. \n",
    "\n",
    "Vamos a realizar test para ver que nos muestras no vienen de distribuciones con la misma forma (Wilcoxon):"
   ]
  },
  {
   "cell_type": "code",
   "execution_count": 44,
   "metadata": {
    "collapsed": false
   },
   "outputs": [
    {
     "name": "stdout",
     "output_type": "stream",
     "text": [
      "\n",
      " Resultados para comparación de las distribuciones de angulos: \n",
      "\n",
      "Analisis Wilcoxon para 0.0º y 30.0º: 0.00243673480899\n",
      "Analisis mannwhitneyu para 0.0º y 30.0º: 0.00115916279673\n",
      "Analisis Wilcoxon para 0.0º y 90.0º: 0.00856349280462\n",
      "Analisis mannwhitneyu para 0.0º y 90.0º: 0.00398321093915\n",
      "Analisis Wilcoxon para 30.0º y 90.0º: 0.877099304782\n",
      "Analisis mannwhitneyu para 30.0º y 90.0º: 0.442045607901\n",
      "\n",
      " Resultados para comparación de las distribuciones de parelelismo: \n",
      "\n",
      "Analisis Wilcoxon para 0.0º y 30.0º: 0.0345567656796\n",
      "Analisis mannwhitneyu para 0.0º y 30.0º: 0.0174626487004\n",
      "Analisis Wilcoxon para 0.0º y 90.0º: 0.00830736241984\n",
      "Analisis mannwhitneyu para 0.0º y 90.0º: 0.00376678424634\n",
      "Analisis Wilcoxon para 30.0º y 90.0º: 2.11075911744e-06\n",
      "Analisis mannwhitneyu para 30.0º y 90.0º: 9.54564214677e-07\n"
     ]
    }
   ],
   "source": [
    "import scipy.stats as stats\n",
    "import itertools\n",
    "\n",
    "print ('\\n Resultados para comparación de las distribuciones de angulos: \\n')\n",
    "\n",
    "for data , label in zip (itertools.combinations(dataAngulos, 2), itertools.combinations(dataAngulosL, 2)):\n",
    "    print ('Analisis Wilcoxon para ' + str(label[0]) + 'º y ' + str(label[1]) + 'º: ' + str(stats.ranksums(data[0],data[1])[1]))\n",
    "    print ('Analisis mannwhitneyu para ' + str(label[0]) + 'º y ' + str(label[1]) + 'º: ' + str(stats.mannwhitneyu(data[0],data[1])[1]))\n",
    "\n",
    "print ('\\n Resultados para comparación de las distribuciones de parelelismo: \\n')\n",
    "\n",
    "for data , label in zip (itertools.combinations(dataParalelismo, 2), itertools.combinations(dataParalelismoL, 2)):\n",
    "    print ('Analisis Wilcoxon para ' + str(label[0]) + 'º y ' + str(label[1]) + 'º: ' + str(stats.ranksums(data[0],data[1])[1]))\n",
    "    print ('Analisis mannwhitneyu para ' + str(label[0]) + 'º y ' + str(label[1]) + 'º: ' + str(stats.mannwhitneyu(data[0],data[1])[1]))\n",
    "\n",
    "       "
   ]
  },
  {
   "cell_type": "markdown",
   "metadata": {},
   "source": [
    "En el cuadro anterior verificamos que hay un caso particular en donde da que no hay diferencia significativa, que es en angulos a 90º. en relacion a 30º Esto era algo que esperabamos. Hay una cuestion que fue diseñada a drede, y es que en esa configuracion, el sujeto puede confundir el lado fijo de que sea hacia arriba o hacia abajo. Como el setup experimental pedia responder por opciones agudo-recto-obtuso, si el sujeto interpreta al reves entonces va a responder sistematicamente mal. \n",
    "\n",
    "Los datos de los trials pueden dar respuestas correctas o incorrectas. Por la logica de funcionamiento del staircase, la señal \"converge\" cuando hay una relacion aproximada de 2 a 1 de respuesta correctas. Esta proporcion puede variar en los primeros trials respondidos porque todavia la señal no se estabilizo. Por lo tanto algo que se puede hacer es observar cual es la probabilidad de que se de la proporcion que se dio de respuestas correctas en los ultimos trials respondidos y comparar contra la distribucion de probabilidad de que esa sea una estadisticamente factible asumiendo la hipotesis de respuesta random. Si da muy baja puede o bien ser que el sujeto responda sistematicamente por encima de la media (porque esta en la zona umbral de deteccion), que responda al azar o que responda sistematicamente mal. Para eso lo primero que hacemos es cargar un codigo que calcula la distribucion en funcion de los trials realizados"
   ]
  },
  {
   "cell_type": "code",
   "execution_count": 45,
   "metadata": {
    "collapsed": true
   },
   "outputs": [],
   "source": [
    "def distribucionDeProbabilidadRandom (histograma):\n",
    "    \"\"\"\n",
    "        Esta funcion sirve para analizar cual es la probabilidad de responder N trials correctos en funcion del setup del level y poder tener una medida de la significancia de la cantidad de aciertos medidos.\n",
    "        Para eso se asume que la hipotesis nula es responder al azar y se calcula a partir de la cantidad de trials que hay con cada cantidad de opciones por trial cual seria la probabilidad de acierto respondiendo al azar.\n",
    "\n",
    "        El input (histograma), es un vector de enteros donde cada casillero representa la cantidad de trials que hay en el level con ese numero de opciones (en realidad como el primer elemento del vector es el 0, en dicho casillero esta la cantidad de trials con una unica opcion a elegir y asi sucesivamente)\n",
    "        El output es un vector de floats que representa la probabilidad de responder N (donde N es el indice del valor) respuestas correctas respondiendo al azar.\n",
    "    \"\"\"\n",
    "\n",
    "    import sys\n",
    "    if not sys.version_info[:2] == (3, 4):\n",
    "        print ('Sos un boludo!, pero uno previsor')\n",
    "        print ('Este codigo esta pensado para correr en python 3.4')\n",
    "\n",
    "\n",
    "    import math\n",
    "\n",
    "    distribuciones = [0] * len(histograma)\n",
    "    # Primer calculamos la distribucion de probabilidad para cada subset de trials con identicas opciones de respuesta\n",
    "    for i in range(len(histograma)):\n",
    "        N = i+1 # Representa el numero de opciones posibles a elegir\n",
    "        m = histograma[i] # Representa el numero de trials que se contestan en el subset\n",
    "        subset_N = [0] * (m+1) # Sumamos el 1 porque si hay cero elementos igual hay una opcion, las opciones son el cerrado [0,numero de trials]\n",
    "        p = 1/N # es la probabilidad de acertar entre la cantidad de opciones presentadas (que es i+1)\n",
    "        if m==0:\n",
    "            distribuciones[i] = [1]\n",
    "        else:\n",
    "            for j in range(m+1): # j representa la cantidad de opciones correctas\n",
    "                # Calculamos la probabilidad de obtener una cantidad de respuestas correctas j, cuando cada trial tiene N opciones\n",
    "                Pj = math.pow(p,j)*math.pow(1-p,m-j)*math.factorial(m)/(math.factorial(j)*math.factorial(m-j))\n",
    "                subset_N[j] = Pj\n",
    "            distribuciones[i] = subset_N\n",
    "    # Aqui ya esta la distribucion de cada subset. ahora hay que calcular la distribucion global, para eso hay que combinar las dritribciones\n",
    "\n",
    "    # La idea es que si tenemos dos distribuciones N1 y N2 cada uno con J y J' elementos (donde J y J' es el numero de trials maximo que hay con N1 y N2 opciones)\n",
    "    # y j1 representa la probabilidad de responder j1 veces bien en los trials de N1 opciones y j2 representar la probabilidad de responder j2 veces bien\n",
    "    # en los trials de N2 opciones,\n",
    "    # entonces la suma de todos los productos cuyos indices j1 +j2 de j3 es la probabilidad de responde j3 veces bien entre los trials de N1 y N2 opciones\n",
    "    combinado = [1] # Inicialmente hay probabilidad 1 de tener 0 bien\n",
    "    for N in range(len(distribuciones)):\n",
    "        combinadoNew = [0] * (sum(histograma)+1) # Armo una combinacion que este vacia\n",
    "        for i_1 in range(len(combinado)):\n",
    "            if combinado[i_1] != 0: # Esto tiene dos razones, una es evitar cuentas innecesarias. La otra mas importante es evitar que aplique el contador hasta el final y que la suma de los dos contadores de mas que el numero de trials maximos posible, lo que genera un error\n",
    "                for i_2 in range(len(distribuciones[N])):\n",
    "                    combinadoNew[i_1+i_2] = combinadoNew[i_1+i_2] + combinado[i_1]*distribuciones[N][i_2] #Acumulo todos las combinaciones\n",
    "        combinado = combinadoNew\n",
    "\n",
    "    return combinado\n"
   ]
  },
  {
   "cell_type": "code",
   "execution_count": 50,
   "metadata": {
    "collapsed": false
   },
   "outputs": [
    {
     "data": {
      "text/plain": [
       "[0.33333333333333337, 0.5, 0.16666666666666666]"
      ]
     },
     "execution_count": 50,
     "metadata": {},
     "output_type": "execute_result"
    }
   ],
   "source": [
    "distribucionDeProbabilidadRandom([0,1,1])"
   ]
  }
 ],
 "metadata": {
  "kernelspec": {
   "display_name": "Python 3",
   "language": "python",
   "name": "python3"
  },
  "language_info": {
   "codemirror_mode": {
    "name": "ipython",
    "version": 3
   },
   "file_extension": ".py",
   "mimetype": "text/x-python",
   "name": "python",
   "nbconvert_exporter": "python",
   "pygments_lexer": "ipython3",
   "version": "3.4.3"
  }
 },
 "nbformat": 4,
 "nbformat_minor": 0
}
