{
 "cells": [
  {
   "cell_type": "markdown",
   "metadata": {},
   "source": [
    "Estoy tratando de recuperar la info cruda del final del experimento que hice para medir la dependencia con el umbral. \n",
    "\n",
    "De los registros de consentimiento que tengo anotados figura que los datos los tome entre el 29/3/16 y el 14/4/16\n",
    "\n",
    "La idea es ir a backups de los db.json y volver a procesar todo rapido con la experiencia que ya tengo acumulada para hacer graficos diferentes a los que tengo guardados que son horribles. \n",
    "\n",
    "No tengo muy fresco como era el setup experimental ni la estructura de datos guardados, pero voy a ver que puedo hacer al respecto. Deberia tener al menos registro de 14 usuarios. "
   ]
  },
  {
   "cell_type": "markdown",
   "metadata": {},
   "source": [
    "Copio a la carpeta data todos los archivos json que corresponden a esas fechas. Quiero un codigo que busque todos los archivos y recupere la info util\n",
    "\n",
    "Acabo de encontrar en este archivo que los sujetos completaron una encuesta cuando terminaron y tiene marcas temporales!! :)\n",
    "\n",
    "https://docs.google.com/spreadsheets/d/1hV9QL78TFX2Ka4ROaAg9mHZ2WgcUDArZM2W8W_15wkg/edit#gid=1050318047\n",
    "\n"
   ]
  },
  {
   "cell_type": "code",
   "execution_count": 1,
   "metadata": {
    "collapsed": false
   },
   "outputs": [],
   "source": [
    "# Primero queremos listas todos los archivos\n",
    "\n",
    "from os import listdir\n",
    "from os.path import isfile, join\n",
    "onlyfiles = [f for f in listdir('./data/') if isfile(join('./data/', f))]"
   ]
  },
  {
   "cell_type": "code",
   "execution_count": 2,
   "metadata": {
    "collapsed": false
   },
   "outputs": [],
   "source": [
    "# Queremos transformar cada archivo en un dataframe con etradas para ver entradas repetidas\n",
    "\n",
    "import pandas as pd\n",
    "import json\n",
    "\n",
    "#Creamos la lista vacia de envios\n",
    "\n",
    "sesiones = []\n",
    "levels = []\n",
    "convergencias = []\n",
    "\n",
    "#Buscamos leer todas las entradas\n",
    "for file in onlyfiles:\n",
    "    with open('./data/'+file) as data_file:\n",
    "            db = json.load(data_file)\n",
    "    for envio in db['Envio']:\n",
    "        if envio['tipoDeEnvio'] == 'NEWSESION':\n",
    "            sesiones = sesiones + [envio]\n",
    "        elif envio['tipoDeEnvio'] == 'NEWLEVEL':\n",
    "            levels = levels + [envio]\n",
    "        elif envio['tipoDeEnvio'] == 'CONVERGENCIA':\n",
    "            convergencias = convergencias + [envio]\n",
    "        elif envio['tipoDeEnvio']:\n",
    "            print (envio['tipoDeEnvio'])\n",
    "        else: \n",
    "            print (envio)\n",
    "\n",
    "# Filtramos por envios unicos\n",
    "envioshechos = []\n",
    "\n",
    "sesionesUnique = []\n",
    "for envio in sesiones:\n",
    "    if not envio['instance'] in envioshechos:\n",
    "        sesionesUnique = sesionesUnique + [json.loads(envio['contenido'])]\n",
    "        envioshechos = envioshechos + [envio['instance']]\n",
    "\n",
    "levelsUnique = []\n",
    "for envio in levels:\n",
    "    if not envio['instance'] in envioshechos:\n",
    "        levelsUnique = levelsUnique + [json.loads(envio['contenido'])]\n",
    "        envioshechos = envioshechos + [envio['instance']]\n",
    "\n",
    "convergenciasUnique = []\n",
    "for envio in convergencias:\n",
    "    if not envio['instance'] in envioshechos:\n",
    "        convergenciasUnique = convergenciasUnique + [json.loads(envio['contenido'])]\n",
    "        envioshechos = envioshechos + [envio['instance']]\n"
   ]
  },
  {
   "cell_type": "code",
   "execution_count": 3,
   "metadata": {
    "collapsed": false
   },
   "outputs": [],
   "source": [
    "# Acabo de descubrir que los enviode Pierina nunca se hicieron bien. Copie en la carpeta dataCruda los envios que nunca se hicieron y recupere de la compu\n",
    "onlyfiles2 = [f for f in listdir('./DataCruda/') if isfile(join('./DataCruda/', f))]\n",
    "import os\n",
    "\n",
    "for file in onlyfiles2:\n",
    "    name, ext = os.path.splitext( os.path.basename(file))\n",
    "    with open('./DataCruda/'+file) as data_file:\n",
    "            data = json.load(data_file)\n",
    "    if not int(name) in envioshechos:\n",
    "        if ext == '.NEWLEVEL':\n",
    "            levelsUnique = levelsUnique + [data]\n",
    "        if ext == '.NEWSESION':\n",
    "            sesionesUnique = sesionesUnique + [data]\n",
    "        if ext == '.CONVERGENCIA':\n",
    "            convergenciasUnique = convergenciasUnique + [data]    \n",
    "\n",
    "        "
   ]
  },
  {
   "cell_type": "markdown",
   "metadata": {},
   "source": [
    "Definimos la lista de usuarios que hicieron el experimento. Recupere de la compu donde se hicieron quien es quien a partir de las carpetas donde se guardaron los datos"
   ]
  },
  {
   "cell_type": "code",
   "execution_count": 4,
   "metadata": {
    "collapsed": false
   },
   "outputs": [],
   "source": [
    "usuariosOLD = {1459443370368:'Agustin', 1460500029182:'Chalukian', 1460568434768:'Chechu',1459459628908:'Euge',\n",
    "           1459455977180:'Flor', 1459450579229:'Guido', 1460384100961:'Jule', 1459368818910:'Lungo',\n",
    "           1460499050987:'Marta', 1459358889070:'Martina', 1460645753225:'Pierina', 1459350343607:'Roli'}\n",
    "usuarios = {1459443370368:'Agustin', 1460500029182:'Chalukian', 1460568434768:'Chechu',1459459628908:'Euge',\n",
    "           1459455977180:'Flor', 1459450579229:'Guido', 1460384100961:'Jule', 1459368818910:'Lungo',\n",
    "           1460497107413:'Marta', 1459358889070:'Martina', 1460645753225:'Pierina', 1459350343607:'Roli'}"
   ]
  },
  {
   "cell_type": "code",
   "execution_count": 5,
   "metadata": {
    "collapsed": false
   },
   "outputs": [],
   "source": [
    "# Queremos aplicar un filtro donde, primero se filtren todoas las entradas que tengan una sesion para usuarios validos\n",
    "sesionesFiltradas = [item for item in sesionesUnique if item['userId'] in usuarios.keys()]\n",
    "# Por alguna razon se ve que un usuario hizo dos sesiones. \n",
    "\n",
    "# Aplicamos un filtro que selecciones los niveles y las convergencias que hayan sucedido en alguna de las sesiones filtradas\n",
    "sesionesInstances = [item['sessionInstance'] for item in sesionesFiltradas]\n",
    "\n",
    "levelsFiltrados = [item for item in levelsUnique if item['session']['sessionInstance'] in sesionesInstances]\n",
    "convergenciasFiltradas = [item for item in convergenciasUnique if item['expLog']['session']['sessionInstance'] in sesionesInstances]"
   ]
  },
  {
   "cell_type": "code",
   "execution_count": 6,
   "metadata": {
    "collapsed": false
   },
   "outputs": [],
   "source": [
    "# Pasamos el formato a dataframe\n",
    "sesionesPanda = pd.DataFrame(sesionesFiltradas)\n",
    "levelsPanda = pd.DataFrame(levelsFiltrados)\n",
    "convergenciasPanda = pd.DataFrame(convergenciasFiltradas)"
   ]
  },
  {
   "cell_type": "code",
   "execution_count": 10,
   "metadata": {
    "collapsed": false
   },
   "outputs": [],
   "source": [
    "### Retocamos un poco la info para que sea mas manejable (basicamente hay que extraer cada cosa de adentro de los dict\n",
    "cpd = convergenciasPanda\n",
    "\n",
    "for key in cpd.iloc[0]['expLog']:\n",
    "    cpd[key] = cpd['expLog'].map(lambda x: x[key])\n",
    "cpd = cpd.drop('expLog',1)\n",
    "for key in cpd.iloc[0]['session']:\n",
    "    cpd[key] = cpd['session'].map(lambda x: x[key])\n",
    "cpd = cpd.drop('session',1)\n",
    "\n",
    "for key in cpd.iloc[0]['dinamica']:\n",
    "    cpd[key] = cpd['dinamica'].map(lambda x: x[key])\n",
    "cpd = cpd.drop('dinamica',1)\n",
    "cpd['ultimoTrial'] = cpd['historial'].map(lambda x: x[-1] if (len (x) > 1) else None)\n",
    "for key in cpd.iloc[0]['ultimoTrial']:\n",
    "    cpd[key] = cpd['ultimoTrial'].map(lambda x: x[key] if (x) else None)\n",
    "cpd = cpd.drop('ultimoTrial',1)\n",
    "\n",
    "for key in cpd.iloc[0]['estimulo']: # Hay que tener cuidado que no todos los dict son iguales. Este es un dict de paralelismio\n",
    "    cpd[key] = cpd['estimulo'].map(lambda x: None if not x else x[key] if key in x else None)\n",
    "for key in cpd.iloc[7]['estimulo']: # Hay que tener cuidado que no todos los dict son iguales. Este es un dict de angulos\n",
    "    cpd[key] = cpd['estimulo'].map(lambda x: None if not x else x[key] if key in x else None)\n",
    "cpd = cpd.drop('estimulo',1)\n",
    "\n",
    "#Revisando los archivos fuente dentro del jar de la versión 31 (que es la que se uso en el experimento) chequie que el valor reportado de los estimulos es el semi angulo para el caso de las serie de paralelismo.\n",
    "#En el caso de los angulos, es el angulo formado, que ya procesa el tema dela desviacion.\n",
    "cpd['desviacionDoble'] = cpd['desviacion'] * 2\n",
    "\n",
    "# Sacamos niveles espureos\n",
    "cpd = cpd[cpd['expName']!='UmbralAngulosTutorial']\n",
    "cpd = cpd[cpd['expName']!='UmbralParalelismoTutorial']\n",
    "\n",
    "# Sacamos los registros de niveles que se marcaron en tiempo de ejecusion como no temrinados\n",
    "cpd = cpd[cpd['convergenciaFinalizada']]"
   ]
  },
  {
   "cell_type": "markdown",
   "metadata": {},
   "source": [
    "Ahora vamos a hacer los graficos al estilo pandas como hicimos las distribuciones en el experimento de los resultados finales."
   ]
  },
  {
   "cell_type": "code",
   "execution_count": 8,
   "metadata": {
    "collapsed": false
   },
   "outputs": [
    {
     "name": "stdout",
     "output_type": "stream",
     "text": [
      "[1459350343607 1459358889070 1459368818910 1459443370368 1459450579229\n",
      " 1459455977180 1459459628908 1460384100961 1460497107413 1460500029182\n",
      " 1460568434768 1460645753225]\n"
     ]
    }
   ],
   "source": [
    "orientaciones = cpd['referencia'].unique()\n",
    "experimentos = cpd['expName'].unique()\n",
    "print (sesionesPanda['userId'].unique())"
   ]
  },
  {
   "cell_type": "code",
   "execution_count": 29,
   "metadata": {
    "collapsed": true
   },
   "outputs": [
    {
     "name": "stdout",
     "output_type": "stream",
     "text": [
      "4      -1.451540\n",
      "5       0.200000\n",
      "6       0.620748\n",
      "7     -12.137063\n",
      "8      -0.265461\n",
      "9       0.200000\n",
      "10    180.000000\n",
      "11    180.000000\n",
      "12    240.000000\n",
      "13    180.000000\n",
      "14    376.000000\n",
      "15    340.000000\n",
      "20     12.137063\n",
      "21     -0.200000\n",
      "22    -28.380983\n",
      "...\n",
      "195    348.000000\n",
      "196    364.000000\n",
      "197    240.000000\n",
      "202     50.000000\n",
      "203    -50.000000\n",
      "204    -16.109604\n",
      "205      0.538802\n",
      "206      0.200000\n",
      "207     -0.200000\n",
      "208    178.000000\n",
      "209    180.000000\n",
      "210    352.000000\n",
      "212    220.000000\n",
      "213    280.000000\n",
      "214    520.000000\n",
      "Name: desviacionDoble, Length: 144, dtype: float64\n",
      "4      -1.451540\n",
      "5       0.200000\n",
      "6       0.620748\n",
      "7     -12.137063\n",
      "8      -0.265461\n",
      "9       0.200000\n",
      "10    180.000000\n",
      "11    180.000000\n",
      "12    240.000000\n",
      "13    180.000000\n",
      "14    376.000000\n",
      "15    340.000000\n",
      "20     12.137063\n",
      "21     -0.200000\n",
      "22    -28.380983\n",
      "...\n",
      "195    348.000000\n",
      "196    364.000000\n",
      "197    240.000000\n",
      "202     50.000000\n",
      "203    -50.000000\n",
      "204    -16.109604\n",
      "205      0.538802\n",
      "206      0.200000\n",
      "207     -0.200000\n",
      "208    178.000000\n",
      "209    180.000000\n",
      "210    352.000000\n",
      "212    220.000000\n",
      "213    280.000000\n",
      "214    520.000000\n",
      "Name: desviacionDoble, Length: 144, dtype: float64\n",
      "4      -1.451540\n",
      "5       0.200000\n",
      "6       0.620748\n",
      "7     -12.137063\n",
      "8      -0.265461\n",
      "9       0.200000\n",
      "10    180.000000\n",
      "11    180.000000\n",
      "12    240.000000\n",
      "13    180.000000\n",
      "14    376.000000\n",
      "15    340.000000\n",
      "20     12.137063\n",
      "21     -0.200000\n",
      "22    -28.380983\n",
      "...\n",
      "195    348.000000\n",
      "196    364.000000\n",
      "197    240.000000\n",
      "202     50.000000\n",
      "203    -50.000000\n",
      "204    -16.109604\n",
      "205      0.538802\n",
      "206      0.200000\n",
      "207     -0.200000\n",
      "208    178.000000\n",
      "209    180.000000\n",
      "210    352.000000\n",
      "212    220.000000\n",
      "213    280.000000\n",
      "214    520.000000\n",
      "Name: desviacionDoble, Length: 144, dtype: float64\n",
      "4    NaN\n",
      "5    NaN\n",
      "6    NaN\n",
      "7    NaN\n",
      "8    NaN\n",
      "9    NaN\n",
      "10    90\n",
      "11    90\n",
      "12    90\n",
      "13    60\n",
      "14    98\n",
      "15    80\n",
      "20   NaN\n",
      "21   NaN\n",
      "22   NaN\n",
      "...\n",
      "195    144\n",
      "196     92\n",
      "197     30\n",
      "202    NaN\n",
      "203    NaN\n",
      "204    NaN\n",
      "205    NaN\n",
      "206    NaN\n",
      "207    NaN\n",
      "208     89\n",
      "209     90\n",
      "210     86\n",
      "212     80\n",
      "213    110\n",
      "214    170\n",
      "Name: anguloFormado, Length: 144, dtype: float64\n"
     ]
    },
    {
     "ename": "ValueError",
     "evalue": "cannot convert float NaN to integer",
     "output_type": "error",
     "traceback": [
      "\u001b[1;31m---------------------------------------------------------------------------\u001b[0m",
      "\u001b[1;31mValueError\u001b[0m                                Traceback (most recent call last)",
      "\u001b[1;32m<ipython-input-29-da6d3a576d29>\u001b[0m in \u001b[0;36m<module>\u001b[1;34m()\u001b[0m\n\u001b[0;32m     23\u001b[0m             \u001b[0mdata\u001b[0m\u001b[1;33m=\u001b[0m\u001b[0mcpd\u001b[0m\u001b[1;33m[\u001b[0m\u001b[1;34m'anguloFormado'\u001b[0m\u001b[1;33m]\u001b[0m\u001b[1;33m\u001b[0m\u001b[0m\n\u001b[0;32m     24\u001b[0m             \u001b[0mprint\u001b[0m \u001b[1;33m(\u001b[0m\u001b[0mdata\u001b[0m\u001b[1;33m)\u001b[0m\u001b[1;33m\u001b[0m\u001b[0m\n\u001b[1;32m---> 25\u001b[1;33m             \u001b[0msns\u001b[0m\u001b[1;33m.\u001b[0m\u001b[0mdistplot\u001b[0m\u001b[1;33m(\u001b[0m\u001b[0mdata\u001b[0m\u001b[1;33m,\u001b[0m \u001b[0mlabel\u001b[0m\u001b[1;33m=\u001b[0m\u001b[0mstr\u001b[0m\u001b[1;33m(\u001b[0m\u001b[0morientacion\u001b[0m\u001b[1;33m)\u001b[0m\u001b[1;33m,\u001b[0m \u001b[0maxlabel\u001b[0m\u001b[1;33m=\u001b[0m\u001b[1;34m'Umbral de deteccion'\u001b[0m\u001b[1;33m,\u001b[0m \u001b[0max\u001b[0m\u001b[1;33m=\u001b[0m\u001b[0max\u001b[0m\u001b[1;33m[\u001b[0m\u001b[1;36m1\u001b[0m\u001b[1;33m]\u001b[0m\u001b[1;33m)\u001b[0m\u001b[1;33m\u001b[0m\u001b[0m\n\u001b[0m\u001b[0;32m     26\u001b[0m \u001b[1;33m\u001b[0m\u001b[0m\n\u001b[0;32m     27\u001b[0m \u001b[1;33m\u001b[0m\u001b[0m\n",
      "\u001b[1;32m/usr/local/lib/python3.4/dist-packages/seaborn/distributions.py\u001b[0m in \u001b[0;36mdistplot\u001b[1;34m(a, bins, hist, kde, rug, fit, hist_kws, kde_kws, rug_kws, fit_kws, color, vertical, norm_hist, axlabel, label, ax)\u001b[0m\n\u001b[0;32m    204\u001b[0m     \u001b[1;32mif\u001b[0m \u001b[0mhist\u001b[0m\u001b[1;33m:\u001b[0m\u001b[1;33m\u001b[0m\u001b[0m\n\u001b[0;32m    205\u001b[0m         \u001b[1;32mif\u001b[0m \u001b[0mbins\u001b[0m \u001b[1;32mis\u001b[0m \u001b[1;32mNone\u001b[0m\u001b[1;33m:\u001b[0m\u001b[1;33m\u001b[0m\u001b[0m\n\u001b[1;32m--> 206\u001b[1;33m             \u001b[0mbins\u001b[0m \u001b[1;33m=\u001b[0m \u001b[0mmin\u001b[0m\u001b[1;33m(\u001b[0m\u001b[0m_freedman_diaconis_bins\u001b[0m\u001b[1;33m(\u001b[0m\u001b[0ma\u001b[0m\u001b[1;33m)\u001b[0m\u001b[1;33m,\u001b[0m \u001b[1;36m50\u001b[0m\u001b[1;33m)\u001b[0m\u001b[1;33m\u001b[0m\u001b[0m\n\u001b[0m\u001b[0;32m    207\u001b[0m         \u001b[0mhist_kws\u001b[0m\u001b[1;33m.\u001b[0m\u001b[0msetdefault\u001b[0m\u001b[1;33m(\u001b[0m\u001b[1;34m\"alpha\"\u001b[0m\u001b[1;33m,\u001b[0m \u001b[1;36m0.4\u001b[0m\u001b[1;33m)\u001b[0m\u001b[1;33m\u001b[0m\u001b[0m\n\u001b[0;32m    208\u001b[0m         \u001b[0mhist_kws\u001b[0m\u001b[1;33m.\u001b[0m\u001b[0msetdefault\u001b[0m\u001b[1;33m(\u001b[0m\u001b[1;34m\"normed\"\u001b[0m\u001b[1;33m,\u001b[0m \u001b[0mnorm_hist\u001b[0m\u001b[1;33m)\u001b[0m\u001b[1;33m\u001b[0m\u001b[0m\n",
      "\u001b[1;32m/usr/local/lib/python3.4/dist-packages/seaborn/distributions.py\u001b[0m in \u001b[0;36m_freedman_diaconis_bins\u001b[1;34m(a)\u001b[0m\n\u001b[0;32m     30\u001b[0m         \u001b[1;32mreturn\u001b[0m \u001b[0mint\u001b[0m\u001b[1;33m(\u001b[0m\u001b[0mnp\u001b[0m\u001b[1;33m.\u001b[0m\u001b[0msqrt\u001b[0m\u001b[1;33m(\u001b[0m\u001b[0ma\u001b[0m\u001b[1;33m.\u001b[0m\u001b[0msize\u001b[0m\u001b[1;33m)\u001b[0m\u001b[1;33m)\u001b[0m\u001b[1;33m\u001b[0m\u001b[0m\n\u001b[0;32m     31\u001b[0m     \u001b[1;32melse\u001b[0m\u001b[1;33m:\u001b[0m\u001b[1;33m\u001b[0m\u001b[0m\n\u001b[1;32m---> 32\u001b[1;33m         \u001b[1;32mreturn\u001b[0m \u001b[0mint\u001b[0m\u001b[1;33m(\u001b[0m\u001b[0mnp\u001b[0m\u001b[1;33m.\u001b[0m\u001b[0mceil\u001b[0m\u001b[1;33m(\u001b[0m\u001b[1;33m(\u001b[0m\u001b[0ma\u001b[0m\u001b[1;33m.\u001b[0m\u001b[0mmax\u001b[0m\u001b[1;33m(\u001b[0m\u001b[1;33m)\u001b[0m \u001b[1;33m-\u001b[0m \u001b[0ma\u001b[0m\u001b[1;33m.\u001b[0m\u001b[0mmin\u001b[0m\u001b[1;33m(\u001b[0m\u001b[1;33m)\u001b[0m\u001b[1;33m)\u001b[0m \u001b[1;33m/\u001b[0m \u001b[0mh\u001b[0m\u001b[1;33m)\u001b[0m\u001b[1;33m)\u001b[0m\u001b[1;33m\u001b[0m\u001b[0m\n\u001b[0m\u001b[0;32m     33\u001b[0m \u001b[1;33m\u001b[0m\u001b[0m\n\u001b[0;32m     34\u001b[0m \u001b[1;33m\u001b[0m\u001b[0m\n",
      "\u001b[1;31mValueError\u001b[0m: cannot convert float NaN to integer"
     ]
    },
    {
     "data": {
      "text/plain": [
       "<matplotlib.figure.Figure at 0x7fa6dea55cc0>"
      ]
     },
     "metadata": {},
     "output_type": "display_data"
    },
    {
     "data": {
      "image/png": "[encoded data removed]",
      "text/plain": [
       "<matplotlib.figure.Figure at 0x7fa6dea55c88>"
      ]
     },
     "metadata": {},
     "output_type": "display_data"
    }
   ],
   "source": [
    "# Hacemos los graficos!\n",
    "\n",
    "import seaborn as sns\n",
    "import matplotlib.pyplot as plt\n",
    "\n",
    "\n",
    "sns.set(color_codes=True)\n",
    "sns.set(style=\"white\", palette=\"muted\")\n",
    "sns.despine(left=True)\n",
    "\n",
    "fig, ax = plt.subplots(1,2)\n",
    "fig.set_size_inches(15,7.5)\n",
    "\n",
    "for experimento in experimentos:\n",
    "    for orientacion in orientaciones[:3]:\n",
    "        \n",
    "        if experimento == 'UmbralParalelismoPiloto':\n",
    "            data=cpd[cpd['']]['desviacionDoble']\n",
    "            print (data)\n",
    "            sns.distplot(data, label=str(orientacion), axlabel='Umbral de deteccion', ax=ax[0])\n",
    "            \n",
    "        if experimento == 'UmbralAngulosPiloto':\n",
    "            data=cpd['anguloFormado']\n",
    "            print (data)\n",
    "            sns.distplot(data, label=str(orientacion), axlabel='Umbral de deteccion', ax=ax[1])\n",
    "            \n",
    "        \n",
    "#cpd.columns\n",
    "fig.show()"
   ]
  },
  {
   "cell_type": "code",
   "execution_count": 22,
   "metadata": {
    "collapsed": false
   },
   "outputs": [
    {
     "data": {
      "text/plain": [
       "Index(['expName', 'levelInstance', 'resourcesVersion', 'codeVersion', 'plataforma', 'userId', 'sessionInstance', 'ultimoMEAN', 'historial', 'convergenciaAlcanzada', 'tamanoVentanaAnalisisConvergencia', 'proporcionAciertos', 'referencia', 'sdEsperada', 'listaEstimulos', 'convergenciaFinalizada', 'nivelEstimulo', 'saltosActivos', 'identificador', 'ultimaSD', 'acertado', 'idResource', 'nivelSenal', 'desviacion', 'idTrial', 'anguloFormado', 'class', 'desviacionDoble'], dtype='object')"
      ]
     },
     "execution_count": 22,
     "metadata": {},
     "output_type": "execute_result"
    }
   ],
   "source": [
    "cpd.columns"
   ]
  },
  {
   "cell_type": "code",
   "execution_count": 25,
   "metadata": {
    "collapsed": false
   },
   "outputs": [],
   "source": [
    "%matplotlib inline\n"
   ]
  },
  {
   "cell_type": "code",
   "execution_count": null,
   "metadata": {
    "collapsed": true
   },
   "outputs": [],
   "source": [
    "\n",
    "import seaborn as sns\n",
    "import matplotlib.pyplot as plt\n",
    "\n",
    "\n",
    "sns.set(color_codes=True)\n",
    "sns.set(style=\"white\", palette=\"muted\")\n",
    "sns.despine(left=True)\n",
    "\n",
    "fig, ax = plt.subplots(1,2)\n",
    "fig.set_size_inches(15,7.5)\n",
    "\n",
    "for experimento in experimentos:\n",
    "    for orientacion in orientaciones[:3]:\n",
    "        \n",
    "        if experimento == 'UmbralParalelismoPiloto':\n",
    "            data=cpd[cpd['']]['desviacionDoble']\n",
    "            print (data)\n",
    "            sns.distplot(data, label=str(orientacion), axlabel='Umbral de deteccion', ax=ax[0])\n",
    "            \n",
    "        if experimento == 'UmbralAngulosPiloto':\n",
    "            data=cpd['anguloFormado']\n",
    "            print (data)\n",
    "            sns.distplot(data, label=str(orientacion), axlabel='Umbral de deteccion', ax=ax[1])\n",
    "            \n",
    "        \n",
    "#cpd.columns\n",
    "fig.show()"
   ]
  }
 ],
 "metadata": {
  "kernelspec": {
   "display_name": "Python 3",
   "language": "python",
   "name": "python3"
  },
  "language_info": {
   "codemirror_mode": {
    "name": "ipython",
    "version": 3
   },
   "file_extension": ".py",
   "mimetype": "text/x-python",
   "name": "python",
   "nbconvert_exporter": "python",
   "pygments_lexer": "ipython3",
   "version": "3.4.3"
  }
 },
 "nbformat": 4,
 "nbformat_minor": 0
}
