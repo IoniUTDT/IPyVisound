{
 "cells": [
  {
   "cell_type": "markdown",
   "metadata": {},
   "source": [
    "En este codigo voy a buscar analizar los datos del test inicial. Basicamente ver si hay orientaciones mas faciles o mas dificiles que otras. "
   ]
  },
  {
   "cell_type": "code",
   "execution_count": 5,
   "metadata": {
    "collapsed": false
   },
   "outputs": [
    {
     "name": "stderr",
     "output_type": "stream",
     "text": [
      "/home/ionatan/Gits/IPyVisound/scripts/statsTransferencia.py:536: SettingWithCopyWarning: A value is trying to be set on a copy of a slice from a DataFrame\n",
      "  dataByAlias[cts.P_FaseActiva].replace('ExperimentoCompleto', 'TestFinal', inplace=True)\n",
      "/home/ionatan/Gits/IPyVisound/scripts/statsTransferencia.py:508: SettingWithCopyWarning: A value is trying to be set on a copy of a slice from a DataFrame\n",
      "  dataByAlias[cts.P_OrientacionEntrenamiento].replace('A30', 'P30', inplace=True)\n"
     ]
    },
    {
     "name": "stdout",
     "output_type": "stream",
     "text": [
      "The autoreload extension is already loaded. To reload it, use:\n",
      "  %reload_ext autoreload\n"
     ]
    },
    {
     "name": "stderr",
     "output_type": "stream",
     "text": [
      "/home/ionatan/Gits/IPyVisound/scripts/statsTransferencia.py:510: SettingWithCopyWarning: A value is trying to be set on a copy of a slice from a DataFrame\n",
      "  dataByAlias[cts.P_OrientacionEntrenamiento].replace('P30', 'CONTROL', inplace=True)\n"
     ]
    }
   ],
   "source": [
    "%matplotlib inline\n",
    "%load_ext autoreload\n",
    "%autoreload 2\n",
    "from scripts.db import *\n",
    "from scripts.plots import *\n",
    "from scripts.stats import *\n",
    "from scripts.statsTransferencia import *\n",
    "import numpy as np\n",
    "import statsmodels.api as sm\n",
    "import statsmodels.formula.api as smf\n",
    "\n",
    "import pandas as pd\n",
    "\n",
    "resumen = dataNumerica()\n",
    "data = pd.DataFrame.from_dict(resumen, orient='index')\n",
    "\n",
    "#Trasnformamos los valores que interesan en columnas (Por ahora voy a hacer todo en angulos)\n",
    "dataTest = pd.DataFrame()\n",
    "dataTestI = pd.DataFrame()\n",
    "dataTestF = pd.DataFrame()\n",
    "for i, col in enumerate([\"P30\", \"P60\", \"P120\",\"P150\",\"A30\",\"A60\",\"A120\",\"A150\"]):\n",
    "    dataTestI[\"I\"+col] = data['TestInicialAngulos'].map(lambda x: x[i])\n",
    "    dataTest[\"I\"+col] = data['TestInicialAngulos'].map(lambda x: x[i])\n",
    "for i, col in enumerate([\"P30\", \"P60\", \"P120\",\"P150\",\"A30\",\"A60\",\"A120\",\"A150\"]):\n",
    "    dataTestF[\"F\"+col] = data['TestFinalAngulos'].map(lambda x: x[i])\n",
    "    dataTest[\"F\"+col] = data['TestFinalAngulos'].map(lambda x: x[i]) "
   ]
  },
  {
   "cell_type": "code",
   "execution_count": 31,
   "metadata": {
    "collapsed": false
   },
   "outputs": [
    {
     "data": {
      "text/html": [
       "<div style=\"max-height:1000px;max-width:1500px;overflow:auto;\">\n",
       "<table border=\"1\" class=\"dataframe\">\n",
       "  <thead>\n",
       "    <tr style=\"text-align: right;\">\n",
       "      <th></th>\n",
       "      <th>Subject</th>\n",
       "      <th>Exp</th>\n",
       "      <th>Val</th>\n",
       "      <th>Extremo</th>\n",
       "    </tr>\n",
       "  </thead>\n",
       "  <tbody>\n",
       "    <tr>\n",
       "      <th>0</th>\n",
       "      <td> Sujeto01</td>\n",
       "      <td>  IP30</td>\n",
       "      <td> 57.5</td>\n",
       "      <td> Extremo</td>\n",
       "    </tr>\n",
       "    <tr>\n",
       "      <th>1</th>\n",
       "      <td> Sujeto01</td>\n",
       "      <td>  IP60</td>\n",
       "      <td> 17.0</td>\n",
       "      <td>   Medio</td>\n",
       "    </tr>\n",
       "    <tr>\n",
       "      <th>2</th>\n",
       "      <td> Sujeto01</td>\n",
       "      <td> IP120</td>\n",
       "      <td> 34.0</td>\n",
       "      <td>   Medio</td>\n",
       "    </tr>\n",
       "    <tr>\n",
       "      <th>3</th>\n",
       "      <td> Sujeto01</td>\n",
       "      <td> IP150</td>\n",
       "      <td> 39.5</td>\n",
       "      <td> Extremo</td>\n",
       "    </tr>\n",
       "    <tr>\n",
       "      <th>4</th>\n",
       "      <td> Sujeto02</td>\n",
       "      <td>  IP30</td>\n",
       "      <td> 54.5</td>\n",
       "      <td> Extremo</td>\n",
       "    </tr>\n",
       "  </tbody>\n",
       "</table>\n",
       "<p>5 rows × 4 columns</p>\n",
       "</div>"
      ],
      "text/plain": [
       "    Subject    Exp   Val  Extremo\n",
       "0  Sujeto01   IP30  57.5  Extremo\n",
       "1  Sujeto01   IP60  17.0    Medio\n",
       "2  Sujeto01  IP120  34.0    Medio\n",
       "3  Sujeto01  IP150  39.5  Extremo\n",
       "4  Sujeto02   IP30  54.5  Extremo\n",
       "\n",
       "[5 rows x 4 columns]"
      ]
     },
     "execution_count": 31,
     "metadata": {},
     "output_type": "execute_result"
    }
   ],
   "source": [
    "pepe = dataTestI[['IP30', 'IP60','IP120', 'IP150']].stack().reset_index()\n",
    "pepe.columns = [\"Subject\", \"Exp\", \"Val\"]\n",
    "pepe['Extremo'] = 1\n",
    "pepe.loc[(pepe['Exp'].str.contains(\"IP30\")) | (pepe['Exp']==\"IP150\"), 'Extremo'] = \"Extremo\"\n",
    "pepe.loc[(pepe['Exp'] == \"IP60\") | (pepe['Exp']==\"IP120\"), 'Extremo'] = \"Medio\"\n",
    "pepe.head()"
   ]
  },
  {
   "cell_type": "code",
   "execution_count": 33,
   "metadata": {
    "collapsed": false
   },
   "outputs": [
    {
     "name": "stdout",
     "output_type": "stream",
     "text": [
      "                            OLS Regression Results                            \n",
      "==============================================================================\n",
      "Dep. Variable:                    Val   R-squared:                       0.333\n",
      "Model:                            OLS   Adj. R-squared:                  0.278\n",
      "Method:                 Least Squares   F-statistic:                     5.999\n",
      "Date:                Fri, 04 Nov 2016   Prob (F-statistic):            0.00201\n",
      "Time:                        20:12:53   Log-Likelihood:                -172.60\n",
      "No. Observations:                  40   AIC:                             353.2\n",
      "Df Residuals:                      36   BIC:                             360.0\n",
      "Df Model:                           3                                         \n",
      "Covariance Type:            nonrobust                                         \n",
      "================================================================================\n",
      "                   coef    std err          t      P>|t|      [95.0% Conf. Int.]\n",
      "--------------------------------------------------------------------------------\n",
      "Intercept       35.7500      6.034      5.924      0.000        23.512    47.988\n",
      "Exp[T.IP150]    15.9500      8.534      1.869      0.070        -1.357    33.257\n",
      "Exp[T.IP30]      3.3000      8.534      0.387      0.701       -14.007    20.607\n",
      "Exp[T.IP60]    -19.7500      8.534     -2.314      0.026       -37.057    -2.443\n",
      "==============================================================================\n",
      "Omnibus:                       12.220   Durbin-Watson:                   1.719\n",
      "Prob(Omnibus):                  0.002   Jarque-Bera (JB):               12.052\n",
      "Skew:                           1.200   Prob(JB):                      0.00242\n",
      "Kurtosis:                       4.213   Cond. No.                         4.79\n",
      "==============================================================================\n",
      "\n",
      "Warnings:\n",
      "[1] Standard Errors assume that the covariance matrix of the errors is correctly specified.\n",
      "          Mixed Linear Model Regression Results\n",
      "=========================================================\n",
      "Model:              MixedLM Dependent Variable: Val      \n",
      "No. Observations:   40      Method:             REML     \n",
      "No. Groups:         10      Scale:              343.8989 \n",
      "Min. group size:    4       Likelihood:         -161.7639\n",
      "Max. group size:    4       Converged:          Yes      \n",
      "Mean group size:    4.0                                  \n",
      "---------------------------------------------------------\n",
      "              Coef.  Std.Err.   z    P>|z|  [0.025 0.975]\n",
      "---------------------------------------------------------\n",
      "Intercept     35.750    6.034  5.925 0.000  23.923 47.577\n",
      "Exp[T.IP150]  15.950    8.293  1.923 0.054  -0.305 32.205\n",
      "Exp[T.IP30]    3.300    8.293  0.398 0.691 -12.955 19.555\n",
      "Exp[T.IP60]  -19.750    8.293 -2.381 0.017 -36.005 -3.495\n",
      "Intercept RE  20.224    3.377                            \n",
      "=========================================================\n",
      "\n"
     ]
    }
   ],
   "source": [
    "results = smf.ols('Val ~ Exp', data=pepe).fit()\n",
    "\n",
    "# Inspect the results\n",
    "print(results.summary())\n",
    "\n",
    "model = sm.MixedLM.from_formula(\"Val ~ Exp\", pepe, groups=pepe[\"Subject\"])\n",
    "\n",
    "result = model.fit()\n",
    "print(result.summary())"
   ]
  },
  {
   "cell_type": "code",
   "execution_count": null,
   "metadata": {
    "collapsed": true
   },
   "outputs": [],
   "source": [
    "from scipy.stats import ttest_rel\n",
    "\n"
   ]
  }
 ],
 "metadata": {
  "kernelspec": {
   "display_name": "Python 3",
   "language": "python",
   "name": "python3"
  },
  "language_info": {
   "codemirror_mode": {
    "name": "ipython",
    "version": 3
   },
   "file_extension": ".py",
   "mimetype": "text/x-python",
   "name": "python",
   "nbconvert_exporter": "python",
   "pygments_lexer": "ipython3",
   "version": "3.4.3"
  }
 },
 "nbformat": 4,
 "nbformat_minor": 0
}
