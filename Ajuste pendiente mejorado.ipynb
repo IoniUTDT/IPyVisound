{
 "cells": [
  {
   "cell_type": "markdown",
   "metadata": {},
   "source": [
    "\n",
    "Para eso uso el siguiente modelo:\n",
    "\n",
    "$$Y(i,t) = \\alpha_i + \\beta \\cdot t + \\gamma_{inicial} \\Theta_{inicial} + \\gamma_{final} \\Theta_{final}$$\n",
    "\n",
    "Donde i representa el sujeto, t representa la sesion (aca se juntan una sesion del test, las doce de entrenamiento (separanto los niveles dentro de cada sesion) y el test final (esto habria que revisarlo si conviene o no).  \n",
    "\n",
    "Como esta regresion lineal es un lio de definir, la idea es hacer un \"stack\" donde se transforme todo en un sistema de matrices con la forma:\n",
    "\n",
    "$$ \\bar{Y} = \\bar{\\beta} \\cdot \\bar{\\bar{X}}$$ \n",
    "\n",
    "Donde si i va de 1 a 3 y t de 1 a 4 queda escrito de la forma :\n",
    "\n",
    "$$ X = \n",
    " \\begin{pmatrix}\n",
    "  \\beta & \\alpha_1 & \\alpha_2 & \\alpha_3 & \\gamma_{inicial} & \\gamma_{final} \\\\\n",
    "  0 & 1 & 0 & 0 & 1 & 0\\\\\n",
    "  1 & 1 & 0 & 0 & 0 & 0\\\\\n",
    "  2 & 1 & 0 & 0 & 0 & 0\\\\\n",
    "  3 & 1 & 0 & 0 & 0 & 1\\\\\n",
    "  0 & 0 & 1 & 0 & 1 & 0\\\\\n",
    "  1 & 0 & 1 & 0 & 0 & 0\\\\\n",
    "  2 & 0 & 1 & 0 & 0 & 0\\\\\n",
    "  3 & 0 & 1 & 0 & 0 & 1\\\\\n",
    "  0 & 0 & 0 & 1 & 1 & 0\\\\\n",
    "  1 & 0 & 0 & 1 & 0 & 0\\\\\n",
    "  2 & 0 & 0 & 1 & 0 & 0\\\\\n",
    "  3 & 0 & 0 & 1 & 0 & 1\\\\\n",
    " \\end{pmatrix}\n",
    "$$\n",
    "\n",
    "Una vez generada esa matriz usamos el codigo que figura aca:\n",
    "\n",
    "http://stackoverflow.com/questions/24393518/python-sklearn-linear-model-linearregression-working-weird"
   ]
  },
  {
   "cell_type": "code",
   "execution_count": 1,
   "metadata": {
    "collapsed": true
   },
   "outputs": [],
   "source": [
    "# Cargamos los scripts usuales\n",
    "%matplotlib inline\n",
    "%load_ext autoreload\n",
    "%autoreload 2\n",
    "from scripts.db import *\n",
    "from scripts.plots import *\n",
    "from scripts.stats import *\n",
    "from scripts.statsTransferencia import *\n",
    "import numpy as np\n",
    "import statsmodels.api as sm"
   ]
  },
  {
   "cell_type": "code",
   "execution_count": 7,
   "metadata": {
    "collapsed": false
   },
   "outputs": [
    {
     "name": "stderr",
     "output_type": "stream",
     "text": [
      "/home/ionatan/Gits/IPyVisound/scripts/statsTransferencia.py:536: SettingWithCopyWarning: A value is trying to be set on a copy of a slice from a DataFrame\n",
      "  dataByAlias[cts.P_FaseActiva].replace('ExperimentoCompleto', 'TestFinal', inplace=True)\n",
      "/home/ionatan/Gits/IPyVisound/scripts/statsTransferencia.py:508: SettingWithCopyWarning: A value is trying to be set on a copy of a slice from a DataFrame\n",
      "  dataByAlias[cts.P_OrientacionEntrenamiento].replace('A30', 'P30', inplace=True)\n",
      "/home/ionatan/Gits/IPyVisound/scripts/statsTransferencia.py:510: SettingWithCopyWarning: A value is trying to be set on a copy of a slice from a DataFrame\n",
      "  dataByAlias[cts.P_OrientacionEntrenamiento].replace('P30', 'CONTROL', inplace=True)\n"
     ]
    }
   ],
   "source": [
    "#Cargamos los datos y los ordenamos en una dataframe (ojo que lo retoque del original para que ordene las columnas como corresponde)\n",
    "\n",
    "import pandas as pd\n",
    "\n",
    "resumen = dataNumerica()\n",
    "data = pd.DataFrame.from_dict(resumen, orient='index')\n",
    "\n",
    "#Trasnformamos los valores que interesan en columnas (Por ahora voy a hacer todo en angulos)\n",
    "entrenamientoP = pd.DataFrame()\n",
    "entrenamientoA = pd.DataFrame()\n",
    "entrenamiento = pd.DataFrame()\n",
    "\n",
    "entrenamientoP['TI'] = data[data['Orientacion'] == 'P30']['TestInicialAngulos'].map(lambda x: x[0])\n",
    "entrenamientoA['TI'] = data[data['Orientacion'] == 'A30']['TestInicialAngulos'].map(lambda x: x[4])\n",
    "\n",
    "# entrenamiento['TI'] = data[data['Orientacion'] != 'CONTROL']['TestInicialAngulos'].map(lambda x: x[0])\n",
    "# entrenamiento['TI'] = data[data['Orientacion'] == 'A30']['TestInicialAngulos'].map(lambda x: x[4])\n",
    "# entrenamiento['TF'] = data[data['Orientacion'] != 'CONTROL']['TestFinalAngulos'].map(lambda x: x[0])\n",
    "# entrenamiento['TF'] = data[data['Orientacion'] == 'A30']['TestFinalAngulos'].map(lambda x: x[4])\n",
    "\n",
    "\n",
    "orientaciones = {0:'EntrenamientoInicialEnAngulos',1:'EntrenamientoMedioEnAngulos',2:'EntrenamientoFinalEnAngulos'}\n",
    "\n",
    "for i in range(4):\n",
    "    for key, value in orientaciones.items():\n",
    "        entrenamientoP['E'+str(key)+'D'+str(i)] = data[data['Orientacion'] == 'P30'][orientaciones[key]].map(lambda x: x[i])\n",
    "        entrenamientoA['E'+str(key)+'D'+str(i)] = data[data['Orientacion'] == 'A30'][orientaciones[key]].map(lambda x: x[i])\n",
    "        entrenamiento['E'+str(key)+'D'+str(i)] = data[data['Orientacion'] != 'CONTROL'][orientaciones[key]].map(lambda x: x[i])\n",
    "\n",
    "entrenamientoP['TF'] = data[data['Orientacion'] == 'P30']['TestFinalAngulos'].map(lambda x: x[0])\n",
    "entrenamientoA['TF'] = data[data['Orientacion'] == 'A30']['TestFinalAngulos'].map(lambda x: x[4])"
   ]
  },
  {
   "cell_type": "code",
   "execution_count": 10,
   "metadata": {
    "collapsed": false
   },
   "outputs": [
    {
     "name": "stdout",
     "output_type": "stream",
     "text": [
      "[0, 1, 2, 0, 1, 2, 0, 1, 2, 0, 1, 2, 0, 1, 2, 0, 1, 2, 0, 1, 2, 0, 1, 2, 0, 1, 2, 0, 1, 2, 0, 1, 2, 0, 1, 2, 0, 1, 2, 0, 1, 2, 0, 1, 2, 0, 1, 2, 0, 1, 2, 0, 1, 2, 0, 1, 2, 0, 1, 2]\n",
      "60\n"
     ]
    }
   ],
   "source": [
    "# Armamos las matrices de ajuste segun corresponda, despues se eliminan los datos invalidos\n",
    "\n",
    "sujetos = 5 # Numeros de sujetos entrenados\n",
    "dias = 4 # Numero de dias que vino casa sujeto a entrenar \n",
    "sesionesTotales = dias * sujetos # Se llama sesion a cada vez que viene un sujeto\n",
    "nivelesXsesion = 3 # Numero de niveles que hay en cada sesion\n",
    "nivelesXusuario = dias * nivelesXsesion # Numero total de niveles que hace cada usuario\n",
    "\n",
    "incluirExtremos = True # Marca si se agrega el test inicial y final a la serie de datos\n",
    "\n",
    "if incluirExtremos\n",
    "betaslocal = [i for i in range(nivelesXsesion)] * sesionesTotales\n",
    "betasglobales = [i for i in range(nivelesXusuario)]\n",
    "print (betaslocal)\n",
    "print (len(betaslocal))"
   ]
  }
 ],
 "metadata": {
  "kernelspec": {
   "display_name": "Python 3",
   "language": "python",
   "name": "python3"
  },
  "language_info": {
   "codemirror_mode": {
    "name": "ipython",
    "version": 3
   },
   "file_extension": ".py",
   "mimetype": "text/x-python",
   "name": "python",
   "nbconvert_exporter": "python",
   "pygments_lexer": "ipython3",
   "version": "3.4.3"
  }
 },
 "nbformat": 4,
 "nbformat_minor": 0
}
