{
 "cells": [
  {
   "cell_type": "code",
   "execution_count": 2,
   "metadata": {
    "collapsed": true
   },
   "outputs": [],
   "source": [
    "import numpy as np"
   ]
  },
  {
   "cell_type": "code",
   "execution_count": 21,
   "metadata": {
    "collapsed": false
   },
   "outputs": [],
   "source": [
    "freci = 10\n",
    "frecf = 50\n",
    "\n",
    "fs = 44100\n",
    "T = 5\n",
    "\n",
    "dt = 1/fs\n",
    "N = T * fs\n",
    "\n",
    "indices = np.arange(N)\n",
    "\n",
    "basei = np.log10(freci)\n",
    "basef = np.log10(frecf)\n",
    "bases = np.arange(basei, basef, (basef-basei)/N)\n",
    "frecs=np.power(10,bases)\n",
    "frecs = frecs *2*np.pi\n",
    "saltosfase = frecs * dt\n",
    "fase = np.cumsum(saltosfase)\n",
    "senal = np.cos(fase)"
   ]
  },
  {
   "cell_type": "code",
   "execution_count": 23,
   "metadata": {
    "collapsed": false
   },
   "outputs": [
    {
     "name": "stdout",
     "output_type": "stream",
     "text": [
      "220500\n",
      "220500\n"
     ]
    }
   ],
   "source": [
    "print (len(indices))\n",
    "print (len(senal))"
   ]
  },
  {
   "cell_type": "code",
   "execution_count": 33,
   "metadata": {
    "collapsed": false
   },
   "outputs": [],
   "source": [
    "import matplotlib.pyplot as plt\n",
    "fig, ax = plt.subplots(figsize=(20, 3)) \n",
    "ax.plot(indices,senal)\n",
    "plt.ylabel('señal')\n",
    "plt.xlabel('tiempo')\n",
    "plt.title('Ejemplo de rampa de frecuencia')\n",
    "plt.axis('off')\n",
    "#plt.show()\n",
    "plt.savefig('Images/rampaFrec.png')"
   ]
  }
 ],
 "metadata": {
  "kernelspec": {
   "display_name": "Python 3",
   "language": "python",
   "name": "python3"
  },
  "language_info": {
   "codemirror_mode": {
    "name": "ipython",
    "version": 3
   },
   "file_extension": ".py",
   "mimetype": "text/x-python",
   "name": "python",
   "nbconvert_exporter": "python",
   "pygments_lexer": "ipython3",
   "version": "3.4.3"
  }
 },
 "nbformat": 4,
 "nbformat_minor": 0
}
