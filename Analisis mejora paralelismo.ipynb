{
 "cells": [
  {
   "cell_type": "markdown",
   "metadata": {},
   "source": [
    "En este codigo queremos ver si mejora o no la performance en funcion del entrenamiento. \n",
    "\n",
    "Partimos de la base de que en P60 hay diferencia y que son equivalentes todos los sujetos."
   ]
  },
  {
   "cell_type": "code",
   "execution_count": 26,
   "metadata": {
    "collapsed": false
   },
   "outputs": [
    {
     "name": "stderr",
     "output_type": "stream",
     "text": [
      "/home/ionatan/Gits/IPyVisound/scripts/statsTransferencia.py:536: SettingWithCopyWarning: A value is trying to be set on a copy of a slice from a DataFrame\n",
      "  dataByAlias[cts.P_FaseActiva].replace('ExperimentoCompleto', 'TestFinal', inplace=True)\n",
      "/home/ionatan/Gits/IPyVisound/scripts/statsTransferencia.py:508: SettingWithCopyWarning: A value is trying to be set on a copy of a slice from a DataFrame\n",
      "  dataByAlias[cts.P_OrientacionEntrenamiento].replace('A30', 'P30', inplace=True)\n"
     ]
    },
    {
     "name": "stdout",
     "output_type": "stream",
     "text": [
      "The autoreload extension is already loaded. To reload it, use:\n",
      "  %reload_ext autoreload\n"
     ]
    },
    {
     "name": "stderr",
     "output_type": "stream",
     "text": [
      "/home/ionatan/Gits/IPyVisound/scripts/statsTransferencia.py:510: SettingWithCopyWarning: A value is trying to be set on a copy of a slice from a DataFrame\n",
      "  dataByAlias[cts.P_OrientacionEntrenamiento].replace('P30', 'CONTROL', inplace=True)\n"
     ]
    }
   ],
   "source": [
    "# Cargamos los datos\n",
    "\n",
    "%matplotlib inline\n",
    "%load_ext autoreload\n",
    "%autoreload 2\n",
    "from scripts.db import *\n",
    "from scripts.plots import *\n",
    "import scipy.stats as stats\n",
    "from scripts.statsTransferencia import *\n",
    "import numpy as np\n",
    "import statsmodels.api as sm\n",
    "import statsmodels.formula.api as smf\n",
    "import pandas as pd\n",
    "\n",
    "resumen = dataNumerica()\n",
    "data = pd.DataFrame.from_dict(resumen, orient='index')\n",
    "\n",
    "#Trasnformamos los valores que interesan en columnas (Por ahora voy a hacer todo en angulos)\n",
    "dataTest = pd.DataFrame()\n",
    "dataTestI = pd.DataFrame()\n",
    "dataTestF = pd.DataFrame()\n",
    "for i, col in enumerate([\"P30\", \"P60\", \"P120\",\"P150\",\"A30\",\"A60\",\"A120\",\"A150\"]):\n",
    "    dataTestI[\"I\"+col] = data['TestInicialAngulos'].map(lambda x: x[i])\n",
    "    dataTest[\"I\"+col] = data['TestInicialAngulos'].map(lambda x: x[i])\n",
    "for i, col in enumerate([\"P30\", \"P60\", \"P120\",\"P150\",\"A30\",\"A60\",\"A120\",\"A150\"]):\n",
    "    dataTestF[\"F\"+col] = data['TestFinalAngulos'].map(lambda x: x[i])\n",
    "    dataTest[\"F\"+col] = data['TestFinalAngulos'].map(lambda x: x[i]) "
   ]
  },
  {
   "cell_type": "code",
   "execution_count": 35,
   "metadata": {
    "collapsed": false
   },
   "outputs": [
    {
     "data": {
      "text/plain": [
       "(2.2447124304267305, 0.17652211716517538)"
      ]
     },
     "execution_count": 35,
     "metadata": {},
     "output_type": "execute_result"
    }
   ],
   "source": [
    "# Vamos a testear la hipotesis de que los sujetos entrenados mejoran respecto a los controles en la orientacion P30\n",
    "\n",
    "entrenadosP = dataTestF['FP30'].iloc[2:5]\n",
    "entrenadosA = dataTestF['FP30'].iloc[0:2]\n",
    "entrenadosNO = dataTestF['FP30'].iloc[5:10]\n",
    "\n",
    "# hacemos un anova\n",
    "stats.f_oneway (entrenadosP,entrenadosA,entrenadosNO)\n",
    "#stats.f_oneway ([1,2,3],[1,2,3],[1,2,3])\n",
    "# NO da significativo\n",
    "\n",
    "# display (entrenadosP)\n",
    "# display (entrenadosA)\n",
    "# display (entrenadosNO)\n",
    "# hacemos los ttest \n",
    "#stats.ttest_ind(entrenadosP,entrenadosNO, equal_var = False)"
   ]
  },
  {
   "cell_type": "code",
   "execution_count": 4,
   "metadata": {
    "collapsed": false
   },
   "outputs": [
    {
     "data": {
      "text/html": [
       "<div style=\"max-height:1000px;max-width:1500px;overflow:auto;\">\n",
       "<table border=\"1\" class=\"dataframe\">\n",
       "  <thead>\n",
       "    <tr style=\"text-align: right;\">\n",
       "      <th></th>\n",
       "      <th>FP30</th>\n",
       "      <th>FP60</th>\n",
       "      <th>FP120</th>\n",
       "      <th>FP150</th>\n",
       "      <th>FA30</th>\n",
       "      <th>FA60</th>\n",
       "      <th>FA120</th>\n",
       "      <th>FA150</th>\n",
       "    </tr>\n",
       "  </thead>\n",
       "  <tbody>\n",
       "    <tr>\n",
       "      <th>Sujeto01</th>\n",
       "      <td> 27.6</td>\n",
       "      <td>  9.2</td>\n",
       "      <td> 12.0</td>\n",
       "      <td>  8.8</td>\n",
       "      <td> 32.8</td>\n",
       "      <td> 16.8</td>\n",
       "      <td> 77.6</td>\n",
       "      <td> 71.6</td>\n",
       "    </tr>\n",
       "    <tr>\n",
       "      <th>Sujeto02</th>\n",
       "      <td> 24.8</td>\n",
       "      <td>  9.6</td>\n",
       "      <td> 15.2</td>\n",
       "      <td> 36.4</td>\n",
       "      <td> 20.8</td>\n",
       "      <td> 26.8</td>\n",
       "      <td> 12.8</td>\n",
       "      <td> 35.2</td>\n",
       "    </tr>\n",
       "    <tr>\n",
       "      <th>Sujeto03</th>\n",
       "      <td> 13.6</td>\n",
       "      <td> 10.0</td>\n",
       "      <td> 16.0</td>\n",
       "      <td> 31.2</td>\n",
       "      <td> 70.8</td>\n",
       "      <td> 38.4</td>\n",
       "      <td> 52.4</td>\n",
       "      <td> 36.4</td>\n",
       "    </tr>\n",
       "    <tr>\n",
       "      <th>Sujeto04</th>\n",
       "      <td> 29.2</td>\n",
       "      <td>  5.2</td>\n",
       "      <td>  8.4</td>\n",
       "      <td> 49.6</td>\n",
       "      <td> 78.4</td>\n",
       "      <td> 54.8</td>\n",
       "      <td> 46.4</td>\n",
       "      <td> 36.0</td>\n",
       "    </tr>\n",
       "    <tr>\n",
       "      <th>Sujeto05</th>\n",
       "      <td> 11.2</td>\n",
       "      <td> 12.0</td>\n",
       "      <td>  6.4</td>\n",
       "      <td> 14.0</td>\n",
       "      <td> 50.0</td>\n",
       "      <td> 31.6</td>\n",
       "      <td> 36.0</td>\n",
       "      <td> 25.2</td>\n",
       "    </tr>\n",
       "    <tr>\n",
       "      <th>Sujeto06</th>\n",
       "      <td> 20.4</td>\n",
       "      <td> 19.2</td>\n",
       "      <td> 33.2</td>\n",
       "      <td> 16.8</td>\n",
       "      <td> 78.4</td>\n",
       "      <td> 44.4</td>\n",
       "      <td> 79.6</td>\n",
       "      <td> 79.6</td>\n",
       "    </tr>\n",
       "    <tr>\n",
       "      <th>Sujeto07</th>\n",
       "      <td> 27.6</td>\n",
       "      <td> 10.4</td>\n",
       "      <td> 13.2</td>\n",
       "      <td> 26.8</td>\n",
       "      <td> 23.6</td>\n",
       "      <td> 54.0</td>\n",
       "      <td> 31.2</td>\n",
       "      <td> 18.0</td>\n",
       "    </tr>\n",
       "    <tr>\n",
       "      <th>Sujeto08</th>\n",
       "      <td> 29.6</td>\n",
       "      <td> 11.6</td>\n",
       "      <td> 12.8</td>\n",
       "      <td> 30.8</td>\n",
       "      <td> 69.2</td>\n",
       "      <td> 14.0</td>\n",
       "      <td> 79.2</td>\n",
       "      <td> 67.6</td>\n",
       "    </tr>\n",
       "    <tr>\n",
       "      <th>Sujeto09</th>\n",
       "      <td> 27.6</td>\n",
       "      <td> 18.0</td>\n",
       "      <td> 50.4</td>\n",
       "      <td> 68.4</td>\n",
       "      <td> 77.2</td>\n",
       "      <td> 70.4</td>\n",
       "      <td> 79.6</td>\n",
       "      <td> 76.8</td>\n",
       "    </tr>\n",
       "    <tr>\n",
       "      <th>Sujeto10</th>\n",
       "      <td> 34.8</td>\n",
       "      <td> 27.6</td>\n",
       "      <td>  4.0</td>\n",
       "      <td> 10.4</td>\n",
       "      <td> 51.6</td>\n",
       "      <td> 79.6</td>\n",
       "      <td> 79.6</td>\n",
       "      <td> 74.8</td>\n",
       "    </tr>\n",
       "  </tbody>\n",
       "</table>\n",
       "<p>10 rows × 8 columns</p>\n",
       "</div>"
      ],
      "text/plain": [
       "          FP30  FP60  FP120  FP150  FA30  FA60  FA120  FA150\n",
       "Sujeto01  27.6   9.2   12.0    8.8  32.8  16.8   77.6   71.6\n",
       "Sujeto02  24.8   9.6   15.2   36.4  20.8  26.8   12.8   35.2\n",
       "Sujeto03  13.6  10.0   16.0   31.2  70.8  38.4   52.4   36.4\n",
       "Sujeto04  29.2   5.2    8.4   49.6  78.4  54.8   46.4   36.0\n",
       "Sujeto05  11.2  12.0    6.4   14.0  50.0  31.6   36.0   25.2\n",
       "Sujeto06  20.4  19.2   33.2   16.8  78.4  44.4   79.6   79.6\n",
       "Sujeto07  27.6  10.4   13.2   26.8  23.6  54.0   31.2   18.0\n",
       "Sujeto08  29.6  11.6   12.8   30.8  69.2  14.0   79.2   67.6\n",
       "Sujeto09  27.6  18.0   50.4   68.4  77.2  70.4   79.6   76.8\n",
       "Sujeto10  34.8  27.6    4.0   10.4  51.6  79.6   79.6   74.8\n",
       "\n",
       "[10 rows x 8 columns]"
      ]
     },
     "execution_count": 4,
     "metadata": {},
     "output_type": "execute_result"
    }
   ],
   "source": [
    "dataTestF"
   ]
  }
 ],
 "metadata": {
  "kernelspec": {
   "display_name": "Python 3",
   "language": "python",
   "name": "python3"
  },
  "language_info": {
   "codemirror_mode": {
    "name": "ipython",
    "version": 3
   },
   "file_extension": ".py",
   "mimetype": "text/x-python",
   "name": "python",
   "nbconvert_exporter": "python",
   "pygments_lexer": "ipython3",
   "version": "3.4.3"
  }
 },
 "nbformat": 4,
 "nbformat_minor": 0
}
